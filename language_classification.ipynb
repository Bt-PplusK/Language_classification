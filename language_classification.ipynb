{
  "nbformat": 4,
  "nbformat_minor": 0,
  "metadata": {
    "colab": {
      "provenance": []
    },
    "kernelspec": {
      "name": "python3",
      "display_name": "Python 3"
    },
    "language_info": {
      "name": "python"
    }
  },
  "cells": [
    {
      "cell_type": "code",
      "execution_count": null,
      "metadata": {
        "id": "5ZitVJjRlNL3",
        "colab": {
          "base_uri": "https://localhost:8080/"
        },
        "outputId": "8d62ebb1-777c-4cd1-e9f4-976fe51346bf"
      },
      "outputs": [
        {
          "output_type": "stream",
          "name": "stdout",
          "text": [
            "Mounted at /content/drive\n"
          ]
        }
      ],
      "source": [
        "from google.colab import drive\n",
        "drive.mount('/content/drive')"
      ]
    },
    {
      "cell_type": "code",
      "source": [
        "pip install keras_preprocessing"
      ],
      "metadata": {
        "colab": {
          "base_uri": "https://localhost:8080/"
        },
        "id": "KYveat8a6ab3",
        "outputId": "eec5c6dd-1cb9-4458-a86c-14118a59e4a7"
      },
      "execution_count": null,
      "outputs": [
        {
          "output_type": "stream",
          "name": "stdout",
          "text": [
            "Collecting keras_preprocessing\n",
            "  Downloading Keras_Preprocessing-1.1.2-py2.py3-none-any.whl (42 kB)\n",
            "\u001b[?25l     \u001b[90m━━━━━━━━━━━━━━━━━━━━━━━━━━━━━━━━━━━━━━━━\u001b[0m \u001b[32m0.0/42.6 kB\u001b[0m \u001b[31m?\u001b[0m eta \u001b[36m-:--:--\u001b[0m\r\u001b[2K     \u001b[90m━━━━━━━━━━━━━━━━━━━━━━━━━━━━━━━━━━━━━━━━\u001b[0m \u001b[32m42.6/42.6 kB\u001b[0m \u001b[31m1.3 MB/s\u001b[0m eta \u001b[36m0:00:00\u001b[0m\n",
            "\u001b[?25hRequirement already satisfied: numpy>=1.9.1 in /usr/local/lib/python3.10/dist-packages (from keras_preprocessing) (1.23.5)\n",
            "Requirement already satisfied: six>=1.9.0 in /usr/local/lib/python3.10/dist-packages (from keras_preprocessing) (1.16.0)\n",
            "Installing collected packages: keras_preprocessing\n",
            "Successfully installed keras_preprocessing-1.1.2\n"
          ]
        }
      ]
    },
    {
      "cell_type": "code",
      "source": [
        "import pandas as pd\n",
        "import matplotlib.pyplot as plt\n",
        "import plotly.graph_objects as go\n",
        "from tensorflow import keras\n",
        "from keras.models import Sequential\n",
        "from keras_preprocessing.sequence import pad_sequences\n",
        "from keras_preprocessing.text import Tokenizer\n",
        "from keras.layers import Dense, BatchNormalization, Embedding, LSTM\n",
        "from keras.metrics import Accuracy\n",
        "from keras import utils\n",
        "from keras import callbacks\n",
        "from sklearn.model_selection import train_test_split\n",
        "from absl import logging\n",
        "logging.set_verbosity(logging.ERROR)"
      ],
      "metadata": {
        "id": "V5Dqx9Kiyjz8"
      },
      "execution_count": null,
      "outputs": []
    },
    {
      "cell_type": "code",
      "source": [
        "df = pd.read_csv('/content/drive/MyDrive/Dataset.csv')"
      ],
      "metadata": {
        "id": "64Oa8w75ykmN"
      },
      "execution_count": null,
      "outputs": []
    },
    {
      "cell_type": "code",
      "source": [
        "df"
      ],
      "metadata": {
        "id": "Asf_iw5uyoE2",
        "colab": {
          "base_uri": "https://localhost:8080/",
          "height": 424
        },
        "outputId": "7489b395-6496-4a9e-9ddc-70613c4b65a9"
      },
      "execution_count": null,
      "outputs": [
        {
          "output_type": "execute_result",
          "data": {
            "text/plain": [
              "                                                    Data Label\n",
              "0      Human evolution is the evolutionary process wi...    en\n",
              "1      This process involved the gradual development ...    en\n",
              "2      The study of human evolution involves several ...    en\n",
              "3      Primates diverged from other mammals about 85 ...    en\n",
              "4      Primates produced successive clades leading to...    en\n",
              "...                                                  ...   ...\n",
              "89995  Katika kipindi cha miezi michache tangu kurudi...    sw\n",
              "89996  Mwisho wa mwezi wa Machi 1979 wananchi wengi w...    sw\n",
              "89997  Katika mwezi wa Desemba katiba mpya ya Jamhuri...    sw\n",
              "89998  Tangu mwaka 1923 Iran ilitawaliwa na wafalme w...    sw\n",
              "89999  Hapo Shah Reza Pahlavi aliamua kufuata mfano w...    sw\n",
              "\n",
              "[90000 rows x 2 columns]"
            ],
            "text/html": [
              "\n",
              "  <div id=\"df-20c83dfe-ae75-449a-a694-46297a3f0693\" class=\"colab-df-container\">\n",
              "    <div>\n",
              "<style scoped>\n",
              "    .dataframe tbody tr th:only-of-type {\n",
              "        vertical-align: middle;\n",
              "    }\n",
              "\n",
              "    .dataframe tbody tr th {\n",
              "        vertical-align: top;\n",
              "    }\n",
              "\n",
              "    .dataframe thead th {\n",
              "        text-align: right;\n",
              "    }\n",
              "</style>\n",
              "<table border=\"1\" class=\"dataframe\">\n",
              "  <thead>\n",
              "    <tr style=\"text-align: right;\">\n",
              "      <th></th>\n",
              "      <th>Data</th>\n",
              "      <th>Label</th>\n",
              "    </tr>\n",
              "  </thead>\n",
              "  <tbody>\n",
              "    <tr>\n",
              "      <th>0</th>\n",
              "      <td>Human evolution is the evolutionary process wi...</td>\n",
              "      <td>en</td>\n",
              "    </tr>\n",
              "    <tr>\n",
              "      <th>1</th>\n",
              "      <td>This process involved the gradual development ...</td>\n",
              "      <td>en</td>\n",
              "    </tr>\n",
              "    <tr>\n",
              "      <th>2</th>\n",
              "      <td>The study of human evolution involves several ...</td>\n",
              "      <td>en</td>\n",
              "    </tr>\n",
              "    <tr>\n",
              "      <th>3</th>\n",
              "      <td>Primates diverged from other mammals about 85 ...</td>\n",
              "      <td>en</td>\n",
              "    </tr>\n",
              "    <tr>\n",
              "      <th>4</th>\n",
              "      <td>Primates produced successive clades leading to...</td>\n",
              "      <td>en</td>\n",
              "    </tr>\n",
              "    <tr>\n",
              "      <th>...</th>\n",
              "      <td>...</td>\n",
              "      <td>...</td>\n",
              "    </tr>\n",
              "    <tr>\n",
              "      <th>89995</th>\n",
              "      <td>Katika kipindi cha miezi michache tangu kurudi...</td>\n",
              "      <td>sw</td>\n",
              "    </tr>\n",
              "    <tr>\n",
              "      <th>89996</th>\n",
              "      <td>Mwisho wa mwezi wa Machi 1979 wananchi wengi w...</td>\n",
              "      <td>sw</td>\n",
              "    </tr>\n",
              "    <tr>\n",
              "      <th>89997</th>\n",
              "      <td>Katika mwezi wa Desemba katiba mpya ya Jamhuri...</td>\n",
              "      <td>sw</td>\n",
              "    </tr>\n",
              "    <tr>\n",
              "      <th>89998</th>\n",
              "      <td>Tangu mwaka 1923 Iran ilitawaliwa na wafalme w...</td>\n",
              "      <td>sw</td>\n",
              "    </tr>\n",
              "    <tr>\n",
              "      <th>89999</th>\n",
              "      <td>Hapo Shah Reza Pahlavi aliamua kufuata mfano w...</td>\n",
              "      <td>sw</td>\n",
              "    </tr>\n",
              "  </tbody>\n",
              "</table>\n",
              "<p>90000 rows × 2 columns</p>\n",
              "</div>\n",
              "    <div class=\"colab-df-buttons\">\n",
              "\n",
              "  <div class=\"colab-df-container\">\n",
              "    <button class=\"colab-df-convert\" onclick=\"convertToInteractive('df-20c83dfe-ae75-449a-a694-46297a3f0693')\"\n",
              "            title=\"Convert this dataframe to an interactive table.\"\n",
              "            style=\"display:none;\">\n",
              "\n",
              "  <svg xmlns=\"http://www.w3.org/2000/svg\" height=\"24px\" viewBox=\"0 -960 960 960\">\n",
              "    <path d=\"M120-120v-720h720v720H120Zm60-500h600v-160H180v160Zm220 220h160v-160H400v160Zm0 220h160v-160H400v160ZM180-400h160v-160H180v160Zm440 0h160v-160H620v160ZM180-180h160v-160H180v160Zm440 0h160v-160H620v160Z\"/>\n",
              "  </svg>\n",
              "    </button>\n",
              "\n",
              "  <style>\n",
              "    .colab-df-container {\n",
              "      display:flex;\n",
              "      gap: 12px;\n",
              "    }\n",
              "\n",
              "    .colab-df-convert {\n",
              "      background-color: #E8F0FE;\n",
              "      border: none;\n",
              "      border-radius: 50%;\n",
              "      cursor: pointer;\n",
              "      display: none;\n",
              "      fill: #1967D2;\n",
              "      height: 32px;\n",
              "      padding: 0 0 0 0;\n",
              "      width: 32px;\n",
              "    }\n",
              "\n",
              "    .colab-df-convert:hover {\n",
              "      background-color: #E2EBFA;\n",
              "      box-shadow: 0px 1px 2px rgba(60, 64, 67, 0.3), 0px 1px 3px 1px rgba(60, 64, 67, 0.15);\n",
              "      fill: #174EA6;\n",
              "    }\n",
              "\n",
              "    .colab-df-buttons div {\n",
              "      margin-bottom: 4px;\n",
              "    }\n",
              "\n",
              "    [theme=dark] .colab-df-convert {\n",
              "      background-color: #3B4455;\n",
              "      fill: #D2E3FC;\n",
              "    }\n",
              "\n",
              "    [theme=dark] .colab-df-convert:hover {\n",
              "      background-color: #434B5C;\n",
              "      box-shadow: 0px 1px 3px 1px rgba(0, 0, 0, 0.15);\n",
              "      filter: drop-shadow(0px 1px 2px rgba(0, 0, 0, 0.3));\n",
              "      fill: #FFFFFF;\n",
              "    }\n",
              "  </style>\n",
              "\n",
              "    <script>\n",
              "      const buttonEl =\n",
              "        document.querySelector('#df-20c83dfe-ae75-449a-a694-46297a3f0693 button.colab-df-convert');\n",
              "      buttonEl.style.display =\n",
              "        google.colab.kernel.accessAllowed ? 'block' : 'none';\n",
              "\n",
              "      async function convertToInteractive(key) {\n",
              "        const element = document.querySelector('#df-20c83dfe-ae75-449a-a694-46297a3f0693');\n",
              "        const dataTable =\n",
              "          await google.colab.kernel.invokeFunction('convertToInteractive',\n",
              "                                                    [key], {});\n",
              "        if (!dataTable) return;\n",
              "\n",
              "        const docLinkHtml = 'Like what you see? Visit the ' +\n",
              "          '<a target=\"_blank\" href=https://colab.research.google.com/notebooks/data_table.ipynb>data table notebook</a>'\n",
              "          + ' to learn more about interactive tables.';\n",
              "        element.innerHTML = '';\n",
              "        dataTable['output_type'] = 'display_data';\n",
              "        await google.colab.output.renderOutput(dataTable, element);\n",
              "        const docLink = document.createElement('div');\n",
              "        docLink.innerHTML = docLinkHtml;\n",
              "        element.appendChild(docLink);\n",
              "      }\n",
              "    </script>\n",
              "  </div>\n",
              "\n",
              "\n",
              "<div id=\"df-31c4c877-2512-40d5-95e0-ed65e046abb5\">\n",
              "  <button class=\"colab-df-quickchart\" onclick=\"quickchart('df-31c4c877-2512-40d5-95e0-ed65e046abb5')\"\n",
              "            title=\"Suggest charts\"\n",
              "            style=\"display:none;\">\n",
              "\n",
              "<svg xmlns=\"http://www.w3.org/2000/svg\" height=\"24px\"viewBox=\"0 0 24 24\"\n",
              "     width=\"24px\">\n",
              "    <g>\n",
              "        <path d=\"M19 3H5c-1.1 0-2 .9-2 2v14c0 1.1.9 2 2 2h14c1.1 0 2-.9 2-2V5c0-1.1-.9-2-2-2zM9 17H7v-7h2v7zm4 0h-2V7h2v10zm4 0h-2v-4h2v4z\"/>\n",
              "    </g>\n",
              "</svg>\n",
              "  </button>\n",
              "\n",
              "<style>\n",
              "  .colab-df-quickchart {\n",
              "      --bg-color: #E8F0FE;\n",
              "      --fill-color: #1967D2;\n",
              "      --hover-bg-color: #E2EBFA;\n",
              "      --hover-fill-color: #174EA6;\n",
              "      --disabled-fill-color: #AAA;\n",
              "      --disabled-bg-color: #DDD;\n",
              "  }\n",
              "\n",
              "  [theme=dark] .colab-df-quickchart {\n",
              "      --bg-color: #3B4455;\n",
              "      --fill-color: #D2E3FC;\n",
              "      --hover-bg-color: #434B5C;\n",
              "      --hover-fill-color: #FFFFFF;\n",
              "      --disabled-bg-color: #3B4455;\n",
              "      --disabled-fill-color: #666;\n",
              "  }\n",
              "\n",
              "  .colab-df-quickchart {\n",
              "    background-color: var(--bg-color);\n",
              "    border: none;\n",
              "    border-radius: 50%;\n",
              "    cursor: pointer;\n",
              "    display: none;\n",
              "    fill: var(--fill-color);\n",
              "    height: 32px;\n",
              "    padding: 0;\n",
              "    width: 32px;\n",
              "  }\n",
              "\n",
              "  .colab-df-quickchart:hover {\n",
              "    background-color: var(--hover-bg-color);\n",
              "    box-shadow: 0 1px 2px rgba(60, 64, 67, 0.3), 0 1px 3px 1px rgba(60, 64, 67, 0.15);\n",
              "    fill: var(--button-hover-fill-color);\n",
              "  }\n",
              "\n",
              "  .colab-df-quickchart-complete:disabled,\n",
              "  .colab-df-quickchart-complete:disabled:hover {\n",
              "    background-color: var(--disabled-bg-color);\n",
              "    fill: var(--disabled-fill-color);\n",
              "    box-shadow: none;\n",
              "  }\n",
              "\n",
              "  .colab-df-spinner {\n",
              "    border: 2px solid var(--fill-color);\n",
              "    border-color: transparent;\n",
              "    border-bottom-color: var(--fill-color);\n",
              "    animation:\n",
              "      spin 1s steps(1) infinite;\n",
              "  }\n",
              "\n",
              "  @keyframes spin {\n",
              "    0% {\n",
              "      border-color: transparent;\n",
              "      border-bottom-color: var(--fill-color);\n",
              "      border-left-color: var(--fill-color);\n",
              "    }\n",
              "    20% {\n",
              "      border-color: transparent;\n",
              "      border-left-color: var(--fill-color);\n",
              "      border-top-color: var(--fill-color);\n",
              "    }\n",
              "    30% {\n",
              "      border-color: transparent;\n",
              "      border-left-color: var(--fill-color);\n",
              "      border-top-color: var(--fill-color);\n",
              "      border-right-color: var(--fill-color);\n",
              "    }\n",
              "    40% {\n",
              "      border-color: transparent;\n",
              "      border-right-color: var(--fill-color);\n",
              "      border-top-color: var(--fill-color);\n",
              "    }\n",
              "    60% {\n",
              "      border-color: transparent;\n",
              "      border-right-color: var(--fill-color);\n",
              "    }\n",
              "    80% {\n",
              "      border-color: transparent;\n",
              "      border-right-color: var(--fill-color);\n",
              "      border-bottom-color: var(--fill-color);\n",
              "    }\n",
              "    90% {\n",
              "      border-color: transparent;\n",
              "      border-bottom-color: var(--fill-color);\n",
              "    }\n",
              "  }\n",
              "</style>\n",
              "\n",
              "  <script>\n",
              "    async function quickchart(key) {\n",
              "      const quickchartButtonEl =\n",
              "        document.querySelector('#' + key + ' button');\n",
              "      quickchartButtonEl.disabled = true;  // To prevent multiple clicks.\n",
              "      quickchartButtonEl.classList.add('colab-df-spinner');\n",
              "      try {\n",
              "        const charts = await google.colab.kernel.invokeFunction(\n",
              "            'suggestCharts', [key], {});\n",
              "      } catch (error) {\n",
              "        console.error('Error during call to suggestCharts:', error);\n",
              "      }\n",
              "      quickchartButtonEl.classList.remove('colab-df-spinner');\n",
              "      quickchartButtonEl.classList.add('colab-df-quickchart-complete');\n",
              "    }\n",
              "    (() => {\n",
              "      let quickchartButtonEl =\n",
              "        document.querySelector('#df-31c4c877-2512-40d5-95e0-ed65e046abb5 button');\n",
              "      quickchartButtonEl.style.display =\n",
              "        google.colab.kernel.accessAllowed ? 'block' : 'none';\n",
              "    })();\n",
              "  </script>\n",
              "</div>\n",
              "    </div>\n",
              "  </div>\n"
            ]
          },
          "metadata": {},
          "execution_count": 5
        }
      ]
    },
    {
      "cell_type": "code",
      "source": [
        "df.head(10)"
      ],
      "metadata": {
        "id": "0qEN3eNPy5Z5",
        "colab": {
          "base_uri": "https://localhost:8080/",
          "height": 363
        },
        "outputId": "e67901b5-d49c-4e09-be9b-4c4494861432"
      },
      "execution_count": null,
      "outputs": [
        {
          "output_type": "execute_result",
          "data": {
            "text/plain": [
              "                                                Data Label\n",
              "0  Human evolution is the evolutionary process wi...    en\n",
              "1  This process involved the gradual development ...    en\n",
              "2  The study of human evolution involves several ...    en\n",
              "3  Primates diverged from other mammals about 85 ...    en\n",
              "4  Primates produced successive clades leading to...    en\n",
              "5  African and Asian hominids (including oranguta...    en\n",
              "6  Hominins (including the Australopithecine and ...    en\n",
              "7  The Homo genus is evidenced by the appearance ...    en\n",
              "8  The evolutionary history of primates can be tr...    en\n",
              "9  One of the oldest known primate-like mammal sp...    en"
            ],
            "text/html": [
              "\n",
              "  <div id=\"df-f498779a-3ae6-4f26-a2e3-57f46bedf671\" class=\"colab-df-container\">\n",
              "    <div>\n",
              "<style scoped>\n",
              "    .dataframe tbody tr th:only-of-type {\n",
              "        vertical-align: middle;\n",
              "    }\n",
              "\n",
              "    .dataframe tbody tr th {\n",
              "        vertical-align: top;\n",
              "    }\n",
              "\n",
              "    .dataframe thead th {\n",
              "        text-align: right;\n",
              "    }\n",
              "</style>\n",
              "<table border=\"1\" class=\"dataframe\">\n",
              "  <thead>\n",
              "    <tr style=\"text-align: right;\">\n",
              "      <th></th>\n",
              "      <th>Data</th>\n",
              "      <th>Label</th>\n",
              "    </tr>\n",
              "  </thead>\n",
              "  <tbody>\n",
              "    <tr>\n",
              "      <th>0</th>\n",
              "      <td>Human evolution is the evolutionary process wi...</td>\n",
              "      <td>en</td>\n",
              "    </tr>\n",
              "    <tr>\n",
              "      <th>1</th>\n",
              "      <td>This process involved the gradual development ...</td>\n",
              "      <td>en</td>\n",
              "    </tr>\n",
              "    <tr>\n",
              "      <th>2</th>\n",
              "      <td>The study of human evolution involves several ...</td>\n",
              "      <td>en</td>\n",
              "    </tr>\n",
              "    <tr>\n",
              "      <th>3</th>\n",
              "      <td>Primates diverged from other mammals about 85 ...</td>\n",
              "      <td>en</td>\n",
              "    </tr>\n",
              "    <tr>\n",
              "      <th>4</th>\n",
              "      <td>Primates produced successive clades leading to...</td>\n",
              "      <td>en</td>\n",
              "    </tr>\n",
              "    <tr>\n",
              "      <th>5</th>\n",
              "      <td>African and Asian hominids (including oranguta...</td>\n",
              "      <td>en</td>\n",
              "    </tr>\n",
              "    <tr>\n",
              "      <th>6</th>\n",
              "      <td>Hominins (including the Australopithecine and ...</td>\n",
              "      <td>en</td>\n",
              "    </tr>\n",
              "    <tr>\n",
              "      <th>7</th>\n",
              "      <td>The Homo genus is evidenced by the appearance ...</td>\n",
              "      <td>en</td>\n",
              "    </tr>\n",
              "    <tr>\n",
              "      <th>8</th>\n",
              "      <td>The evolutionary history of primates can be tr...</td>\n",
              "      <td>en</td>\n",
              "    </tr>\n",
              "    <tr>\n",
              "      <th>9</th>\n",
              "      <td>One of the oldest known primate-like mammal sp...</td>\n",
              "      <td>en</td>\n",
              "    </tr>\n",
              "  </tbody>\n",
              "</table>\n",
              "</div>\n",
              "    <div class=\"colab-df-buttons\">\n",
              "\n",
              "  <div class=\"colab-df-container\">\n",
              "    <button class=\"colab-df-convert\" onclick=\"convertToInteractive('df-f498779a-3ae6-4f26-a2e3-57f46bedf671')\"\n",
              "            title=\"Convert this dataframe to an interactive table.\"\n",
              "            style=\"display:none;\">\n",
              "\n",
              "  <svg xmlns=\"http://www.w3.org/2000/svg\" height=\"24px\" viewBox=\"0 -960 960 960\">\n",
              "    <path d=\"M120-120v-720h720v720H120Zm60-500h600v-160H180v160Zm220 220h160v-160H400v160Zm0 220h160v-160H400v160ZM180-400h160v-160H180v160Zm440 0h160v-160H620v160ZM180-180h160v-160H180v160Zm440 0h160v-160H620v160Z\"/>\n",
              "  </svg>\n",
              "    </button>\n",
              "\n",
              "  <style>\n",
              "    .colab-df-container {\n",
              "      display:flex;\n",
              "      gap: 12px;\n",
              "    }\n",
              "\n",
              "    .colab-df-convert {\n",
              "      background-color: #E8F0FE;\n",
              "      border: none;\n",
              "      border-radius: 50%;\n",
              "      cursor: pointer;\n",
              "      display: none;\n",
              "      fill: #1967D2;\n",
              "      height: 32px;\n",
              "      padding: 0 0 0 0;\n",
              "      width: 32px;\n",
              "    }\n",
              "\n",
              "    .colab-df-convert:hover {\n",
              "      background-color: #E2EBFA;\n",
              "      box-shadow: 0px 1px 2px rgba(60, 64, 67, 0.3), 0px 1px 3px 1px rgba(60, 64, 67, 0.15);\n",
              "      fill: #174EA6;\n",
              "    }\n",
              "\n",
              "    .colab-df-buttons div {\n",
              "      margin-bottom: 4px;\n",
              "    }\n",
              "\n",
              "    [theme=dark] .colab-df-convert {\n",
              "      background-color: #3B4455;\n",
              "      fill: #D2E3FC;\n",
              "    }\n",
              "\n",
              "    [theme=dark] .colab-df-convert:hover {\n",
              "      background-color: #434B5C;\n",
              "      box-shadow: 0px 1px 3px 1px rgba(0, 0, 0, 0.15);\n",
              "      filter: drop-shadow(0px 1px 2px rgba(0, 0, 0, 0.3));\n",
              "      fill: #FFFFFF;\n",
              "    }\n",
              "  </style>\n",
              "\n",
              "    <script>\n",
              "      const buttonEl =\n",
              "        document.querySelector('#df-f498779a-3ae6-4f26-a2e3-57f46bedf671 button.colab-df-convert');\n",
              "      buttonEl.style.display =\n",
              "        google.colab.kernel.accessAllowed ? 'block' : 'none';\n",
              "\n",
              "      async function convertToInteractive(key) {\n",
              "        const element = document.querySelector('#df-f498779a-3ae6-4f26-a2e3-57f46bedf671');\n",
              "        const dataTable =\n",
              "          await google.colab.kernel.invokeFunction('convertToInteractive',\n",
              "                                                    [key], {});\n",
              "        if (!dataTable) return;\n",
              "\n",
              "        const docLinkHtml = 'Like what you see? Visit the ' +\n",
              "          '<a target=\"_blank\" href=https://colab.research.google.com/notebooks/data_table.ipynb>data table notebook</a>'\n",
              "          + ' to learn more about interactive tables.';\n",
              "        element.innerHTML = '';\n",
              "        dataTable['output_type'] = 'display_data';\n",
              "        await google.colab.output.renderOutput(dataTable, element);\n",
              "        const docLink = document.createElement('div');\n",
              "        docLink.innerHTML = docLinkHtml;\n",
              "        element.appendChild(docLink);\n",
              "      }\n",
              "    </script>\n",
              "  </div>\n",
              "\n",
              "\n",
              "<div id=\"df-04ceaabb-5b22-42e9-a77f-440e5f97287d\">\n",
              "  <button class=\"colab-df-quickchart\" onclick=\"quickchart('df-04ceaabb-5b22-42e9-a77f-440e5f97287d')\"\n",
              "            title=\"Suggest charts\"\n",
              "            style=\"display:none;\">\n",
              "\n",
              "<svg xmlns=\"http://www.w3.org/2000/svg\" height=\"24px\"viewBox=\"0 0 24 24\"\n",
              "     width=\"24px\">\n",
              "    <g>\n",
              "        <path d=\"M19 3H5c-1.1 0-2 .9-2 2v14c0 1.1.9 2 2 2h14c1.1 0 2-.9 2-2V5c0-1.1-.9-2-2-2zM9 17H7v-7h2v7zm4 0h-2V7h2v10zm4 0h-2v-4h2v4z\"/>\n",
              "    </g>\n",
              "</svg>\n",
              "  </button>\n",
              "\n",
              "<style>\n",
              "  .colab-df-quickchart {\n",
              "      --bg-color: #E8F0FE;\n",
              "      --fill-color: #1967D2;\n",
              "      --hover-bg-color: #E2EBFA;\n",
              "      --hover-fill-color: #174EA6;\n",
              "      --disabled-fill-color: #AAA;\n",
              "      --disabled-bg-color: #DDD;\n",
              "  }\n",
              "\n",
              "  [theme=dark] .colab-df-quickchart {\n",
              "      --bg-color: #3B4455;\n",
              "      --fill-color: #D2E3FC;\n",
              "      --hover-bg-color: #434B5C;\n",
              "      --hover-fill-color: #FFFFFF;\n",
              "      --disabled-bg-color: #3B4455;\n",
              "      --disabled-fill-color: #666;\n",
              "  }\n",
              "\n",
              "  .colab-df-quickchart {\n",
              "    background-color: var(--bg-color);\n",
              "    border: none;\n",
              "    border-radius: 50%;\n",
              "    cursor: pointer;\n",
              "    display: none;\n",
              "    fill: var(--fill-color);\n",
              "    height: 32px;\n",
              "    padding: 0;\n",
              "    width: 32px;\n",
              "  }\n",
              "\n",
              "  .colab-df-quickchart:hover {\n",
              "    background-color: var(--hover-bg-color);\n",
              "    box-shadow: 0 1px 2px rgba(60, 64, 67, 0.3), 0 1px 3px 1px rgba(60, 64, 67, 0.15);\n",
              "    fill: var(--button-hover-fill-color);\n",
              "  }\n",
              "\n",
              "  .colab-df-quickchart-complete:disabled,\n",
              "  .colab-df-quickchart-complete:disabled:hover {\n",
              "    background-color: var(--disabled-bg-color);\n",
              "    fill: var(--disabled-fill-color);\n",
              "    box-shadow: none;\n",
              "  }\n",
              "\n",
              "  .colab-df-spinner {\n",
              "    border: 2px solid var(--fill-color);\n",
              "    border-color: transparent;\n",
              "    border-bottom-color: var(--fill-color);\n",
              "    animation:\n",
              "      spin 1s steps(1) infinite;\n",
              "  }\n",
              "\n",
              "  @keyframes spin {\n",
              "    0% {\n",
              "      border-color: transparent;\n",
              "      border-bottom-color: var(--fill-color);\n",
              "      border-left-color: var(--fill-color);\n",
              "    }\n",
              "    20% {\n",
              "      border-color: transparent;\n",
              "      border-left-color: var(--fill-color);\n",
              "      border-top-color: var(--fill-color);\n",
              "    }\n",
              "    30% {\n",
              "      border-color: transparent;\n",
              "      border-left-color: var(--fill-color);\n",
              "      border-top-color: var(--fill-color);\n",
              "      border-right-color: var(--fill-color);\n",
              "    }\n",
              "    40% {\n",
              "      border-color: transparent;\n",
              "      border-right-color: var(--fill-color);\n",
              "      border-top-color: var(--fill-color);\n",
              "    }\n",
              "    60% {\n",
              "      border-color: transparent;\n",
              "      border-right-color: var(--fill-color);\n",
              "    }\n",
              "    80% {\n",
              "      border-color: transparent;\n",
              "      border-right-color: var(--fill-color);\n",
              "      border-bottom-color: var(--fill-color);\n",
              "    }\n",
              "    90% {\n",
              "      border-color: transparent;\n",
              "      border-bottom-color: var(--fill-color);\n",
              "    }\n",
              "  }\n",
              "</style>\n",
              "\n",
              "  <script>\n",
              "    async function quickchart(key) {\n",
              "      const quickchartButtonEl =\n",
              "        document.querySelector('#' + key + ' button');\n",
              "      quickchartButtonEl.disabled = true;  // To prevent multiple clicks.\n",
              "      quickchartButtonEl.classList.add('colab-df-spinner');\n",
              "      try {\n",
              "        const charts = await google.colab.kernel.invokeFunction(\n",
              "            'suggestCharts', [key], {});\n",
              "      } catch (error) {\n",
              "        console.error('Error during call to suggestCharts:', error);\n",
              "      }\n",
              "      quickchartButtonEl.classList.remove('colab-df-spinner');\n",
              "      quickchartButtonEl.classList.add('colab-df-quickchart-complete');\n",
              "    }\n",
              "    (() => {\n",
              "      let quickchartButtonEl =\n",
              "        document.querySelector('#df-04ceaabb-5b22-42e9-a77f-440e5f97287d button');\n",
              "      quickchartButtonEl.style.display =\n",
              "        google.colab.kernel.accessAllowed ? 'block' : 'none';\n",
              "    })();\n",
              "  </script>\n",
              "</div>\n",
              "    </div>\n",
              "  </div>\n"
            ]
          },
          "metadata": {},
          "execution_count": 6
        }
      ]
    },
    {
      "cell_type": "code",
      "source": [
        "df.info()"
      ],
      "metadata": {
        "id": "kYnNz4E4zHQo",
        "colab": {
          "base_uri": "https://localhost:8080/"
        },
        "outputId": "cb76ffa5-8fc1-40ae-93bd-760906c79787"
      },
      "execution_count": null,
      "outputs": [
        {
          "output_type": "stream",
          "name": "stdout",
          "text": [
            "<class 'pandas.core.frame.DataFrame'>\n",
            "RangeIndex: 90000 entries, 0 to 89999\n",
            "Data columns (total 2 columns):\n",
            " #   Column  Non-Null Count  Dtype \n",
            "---  ------  --------------  ----- \n",
            " 0   Data    90000 non-null  object\n",
            " 1   Label   90000 non-null  object\n",
            "dtypes: object(2)\n",
            "memory usage: 1.4+ MB\n"
          ]
        }
      ]
    },
    {
      "cell_type": "code",
      "source": [
        "df.shape"
      ],
      "metadata": {
        "id": "jW7Gy3_rzMih",
        "colab": {
          "base_uri": "https://localhost:8080/"
        },
        "outputId": "b3292758-dbd8-474a-91aa-d635c5e6fd35"
      },
      "execution_count": null,
      "outputs": [
        {
          "output_type": "execute_result",
          "data": {
            "text/plain": [
              "(90000, 2)"
            ]
          },
          "metadata": {},
          "execution_count": 8
        }
      ]
    },
    {
      "cell_type": "code",
      "source": [
        "df.columns"
      ],
      "metadata": {
        "id": "ezYxj3oJzOX6",
        "colab": {
          "base_uri": "https://localhost:8080/"
        },
        "outputId": "94c65e16-029d-4bf9-a390-cb6f5b5eda8f"
      },
      "execution_count": null,
      "outputs": [
        {
          "output_type": "execute_result",
          "data": {
            "text/plain": [
              "Index(['Data', 'Label'], dtype='object')"
            ]
          },
          "metadata": {},
          "execution_count": 9
        }
      ]
    },
    {
      "cell_type": "code",
      "source": [
        "import numpy as np\n",
        "counts = df['Label'].value_counts()\n",
        "labels = counts.index\n",
        "\n",
        "plt.figure(figsize=(13, 8))\n",
        "plt.pie(counts, labels=labels, autopct='%1.1f%%', colors=plt.cm.plasma(np.linspace(0, 1, len(labels))))\n",
        "plt.title('Distribution of Labels')\n",
        "plt.show()"
      ],
      "metadata": {
        "id": "zvO-K7mVzRGp",
        "colab": {
          "base_uri": "https://localhost:8080/",
          "height": 675
        },
        "outputId": "df69f9f0-74bb-4432-e1d1-8e4edafd649f"
      },
      "execution_count": null,
      "outputs": [
        {
          "output_type": "display_data",
          "data": {
            "text/plain": [
              "<Figure size 1300x800 with 1 Axes>"
            ],
            "image/png": "[encoded data removed]"
          },
          "metadata": {}
        }
      ]
    },
    {
      "cell_type": "code",
      "source": [
        "languages_to_drop = ['en', 'ja', 'zh' , 'es', 'ko', 'sw']\n",
        "\n",
        "df = df[~df['Label'].isin(languages_to_drop)]"
      ],
      "metadata": {
        "id": "NwX38innzYla"
      },
      "execution_count": null,
      "outputs": []
    },
    {
      "cell_type": "code",
      "source": [
        "df = df.reset_index(drop=True)"
      ],
      "metadata": {
        "id": "IoP-dLcQzkrq"
      },
      "execution_count": null,
      "outputs": []
    },
    {
      "cell_type": "code",
      "source": [
        "df"
      ],
      "metadata": {
        "colab": {
          "base_uri": "https://localhost:8080/",
          "height": 424
        },
        "id": "ARwbtDzf7mTL",
        "outputId": "a63b2e23-5271-45a8-97da-b15e121269b0"
      },
      "execution_count": null,
      "outputs": [
        {
          "output_type": "execute_result",
          "data": {
            "text/plain": [
              "                                                    Data Label\n",
              "0      ဇီဝဗေဒ ပညာတွင် ဆင့်ကဲပြောင်းလဲမှုဖြစ်စဉ် သို့မ...    my\n",
              "1      မျိုးရိုးလိုက်သည့် လက္ခဏာများတွင် ခန္ဓာဗေဒ ဆို...    my\n",
              "2      ဆင့်ကဲပြောင်းလဲမှုသည် အစုအဖွဲ့အတွင်းတွင် မျိုး...    my\n",
              "3      ထိုသို့ အပြောင်းအလဲများ ဖြစ်ရသည့် အကြောင်းမှာ ...    my\n",
              "4      အီဗော်လူးရှင်းကြောင့် ဘိုးဘွားမိဘတူသော သက်ရှိမ...    my\n",
              "...                                                  ...   ...\n",
              "29995  இவர் பண்டைய கிரேக்கத்தின் மிக முக்கியமான தடகள ...    ta\n",
              "29996              இவரது தந்தையின் பெயர் டியோடிமஸ் (μος)    ta\n",
              "29997  இவரது தடகள வெற்றிகளுக்கும் மேலாக, கி.மு 510 இல...    ta\n",
              "29998  ஒலிம்பிக் பந்தயம் நடக்கின்ற நாளில், நான்கு வயத...    ta\n",
              "29999                 மிலோ இறந்த நாள் சரியாக தெரியவில்லை    ta\n",
              "\n",
              "[30000 rows x 2 columns]"
            ],
            "text/html": [
              "\n",
              "  <div id=\"df-c1e3cd9c-3260-4f79-9b3d-cbdd04d077ea\" class=\"colab-df-container\">\n",
              "    <div>\n",
              "<style scoped>\n",
              "    .dataframe tbody tr th:only-of-type {\n",
              "        vertical-align: middle;\n",
              "    }\n",
              "\n",
              "    .dataframe tbody tr th {\n",
              "        vertical-align: top;\n",
              "    }\n",
              "\n",
              "    .dataframe thead th {\n",
              "        text-align: right;\n",
              "    }\n",
              "</style>\n",
              "<table border=\"1\" class=\"dataframe\">\n",
              "  <thead>\n",
              "    <tr style=\"text-align: right;\">\n",
              "      <th></th>\n",
              "      <th>Data</th>\n",
              "      <th>Label</th>\n",
              "    </tr>\n",
              "  </thead>\n",
              "  <tbody>\n",
              "    <tr>\n",
              "      <th>0</th>\n",
              "      <td>ဇီဝဗေဒ ပညာတွင် ဆင့်ကဲပြောင်းလဲမှုဖြစ်စဉ် သို့မ...</td>\n",
              "      <td>my</td>\n",
              "    </tr>\n",
              "    <tr>\n",
              "      <th>1</th>\n",
              "      <td>မျိုးရိုးလိုက်သည့် လက္ခဏာများတွင် ခန္ဓာဗေဒ ဆို...</td>\n",
              "      <td>my</td>\n",
              "    </tr>\n",
              "    <tr>\n",
              "      <th>2</th>\n",
              "      <td>ဆင့်ကဲပြောင်းလဲမှုသည် အစုအဖွဲ့အတွင်းတွင် မျိုး...</td>\n",
              "      <td>my</td>\n",
              "    </tr>\n",
              "    <tr>\n",
              "      <th>3</th>\n",
              "      <td>ထိုသို့ အပြောင်းအလဲများ ဖြစ်ရသည့် အကြောင်းမှာ ...</td>\n",
              "      <td>my</td>\n",
              "    </tr>\n",
              "    <tr>\n",
              "      <th>4</th>\n",
              "      <td>အီဗော်လူးရှင်းကြောင့် ဘိုးဘွားမိဘတူသော သက်ရှိမ...</td>\n",
              "      <td>my</td>\n",
              "    </tr>\n",
              "    <tr>\n",
              "      <th>...</th>\n",
              "      <td>...</td>\n",
              "      <td>...</td>\n",
              "    </tr>\n",
              "    <tr>\n",
              "      <th>29995</th>\n",
              "      <td>இவர் பண்டைய கிரேக்கத்தின் மிக முக்கியமான தடகள ...</td>\n",
              "      <td>ta</td>\n",
              "    </tr>\n",
              "    <tr>\n",
              "      <th>29996</th>\n",
              "      <td>இவரது தந்தையின் பெயர் டியோடிமஸ் (μος)</td>\n",
              "      <td>ta</td>\n",
              "    </tr>\n",
              "    <tr>\n",
              "      <th>29997</th>\n",
              "      <td>இவரது தடகள வெற்றிகளுக்கும் மேலாக, கி.மு 510 இல...</td>\n",
              "      <td>ta</td>\n",
              "    </tr>\n",
              "    <tr>\n",
              "      <th>29998</th>\n",
              "      <td>ஒலிம்பிக் பந்தயம் நடக்கின்ற நாளில், நான்கு வயத...</td>\n",
              "      <td>ta</td>\n",
              "    </tr>\n",
              "    <tr>\n",
              "      <th>29999</th>\n",
              "      <td>மிலோ இறந்த நாள் சரியாக தெரியவில்லை</td>\n",
              "      <td>ta</td>\n",
              "    </tr>\n",
              "  </tbody>\n",
              "</table>\n",
              "<p>30000 rows × 2 columns</p>\n",
              "</div>\n",
              "    <div class=\"colab-df-buttons\">\n",
              "\n",
              "  <div class=\"colab-df-container\">\n",
              "    <button class=\"colab-df-convert\" onclick=\"convertToInteractive('df-c1e3cd9c-3260-4f79-9b3d-cbdd04d077ea')\"\n",
              "            title=\"Convert this dataframe to an interactive table.\"\n",
              "            style=\"display:none;\">\n",
              "\n",
              "  <svg xmlns=\"http://www.w3.org/2000/svg\" height=\"24px\" viewBox=\"0 -960 960 960\">\n",
              "    <path d=\"M120-120v-720h720v720H120Zm60-500h600v-160H180v160Zm220 220h160v-160H400v160Zm0 220h160v-160H400v160ZM180-400h160v-160H180v160Zm440 0h160v-160H620v160ZM180-180h160v-160H180v160Zm440 0h160v-160H620v160Z\"/>\n",
              "  </svg>\n",
              "    </button>\n",
              "\n",
              "  <style>\n",
              "    .colab-df-container {\n",
              "      display:flex;\n",
              "      gap: 12px;\n",
              "    }\n",
              "\n",
              "    .colab-df-convert {\n",
              "      background-color: #E8F0FE;\n",
              "      border: none;\n",
              "      border-radius: 50%;\n",
              "      cursor: pointer;\n",
              "      display: none;\n",
              "      fill: #1967D2;\n",
              "      height: 32px;\n",
              "      padding: 0 0 0 0;\n",
              "      width: 32px;\n",
              "    }\n",
              "\n",
              "    .colab-df-convert:hover {\n",
              "      background-color: #E2EBFA;\n",
              "      box-shadow: 0px 1px 2px rgba(60, 64, 67, 0.3), 0px 1px 3px 1px rgba(60, 64, 67, 0.15);\n",
              "      fill: #174EA6;\n",
              "    }\n",
              "\n",
              "    .colab-df-buttons div {\n",
              "      margin-bottom: 4px;\n",
              "    }\n",
              "\n",
              "    [theme=dark] .colab-df-convert {\n",
              "      background-color: #3B4455;\n",
              "      fill: #D2E3FC;\n",
              "    }\n",
              "\n",
              "    [theme=dark] .colab-df-convert:hover {\n",
              "      background-color: #434B5C;\n",
              "      box-shadow: 0px 1px 3px 1px rgba(0, 0, 0, 0.15);\n",
              "      filter: drop-shadow(0px 1px 2px rgba(0, 0, 0, 0.3));\n",
              "      fill: #FFFFFF;\n",
              "    }\n",
              "  </style>\n",
              "\n",
              "    <script>\n",
              "      const buttonEl =\n",
              "        document.querySelector('#df-c1e3cd9c-3260-4f79-9b3d-cbdd04d077ea button.colab-df-convert');\n",
              "      buttonEl.style.display =\n",
              "        google.colab.kernel.accessAllowed ? 'block' : 'none';\n",
              "\n",
              "      async function convertToInteractive(key) {\n",
              "        const element = document.querySelector('#df-c1e3cd9c-3260-4f79-9b3d-cbdd04d077ea');\n",
              "        const dataTable =\n",
              "          await google.colab.kernel.invokeFunction('convertToInteractive',\n",
              "                                                    [key], {});\n",
              "        if (!dataTable) return;\n",
              "\n",
              "        const docLinkHtml = 'Like what you see? Visit the ' +\n",
              "          '<a target=\"_blank\" href=https://colab.research.google.com/notebooks/data_table.ipynb>data table notebook</a>'\n",
              "          + ' to learn more about interactive tables.';\n",
              "        element.innerHTML = '';\n",
              "        dataTable['output_type'] = 'display_data';\n",
              "        await google.colab.output.renderOutput(dataTable, element);\n",
              "        const docLink = document.createElement('div');\n",
              "        docLink.innerHTML = docLinkHtml;\n",
              "        element.appendChild(docLink);\n",
              "      }\n",
              "    </script>\n",
              "  </div>\n",
              "\n",
              "\n",
              "<div id=\"df-4f2a4c51-b534-4a39-ab33-9f281c39c2a3\">\n",
              "  <button class=\"colab-df-quickchart\" onclick=\"quickchart('df-4f2a4c51-b534-4a39-ab33-9f281c39c2a3')\"\n",
              "            title=\"Suggest charts\"\n",
              "            style=\"display:none;\">\n",
              "\n",
              "<svg xmlns=\"http://www.w3.org/2000/svg\" height=\"24px\"viewBox=\"0 0 24 24\"\n",
              "     width=\"24px\">\n",
              "    <g>\n",
              "        <path d=\"M19 3H5c-1.1 0-2 .9-2 2v14c0 1.1.9 2 2 2h14c1.1 0 2-.9 2-2V5c0-1.1-.9-2-2-2zM9 17H7v-7h2v7zm4 0h-2V7h2v10zm4 0h-2v-4h2v4z\"/>\n",
              "    </g>\n",
              "</svg>\n",
              "  </button>\n",
              "\n",
              "<style>\n",
              "  .colab-df-quickchart {\n",
              "      --bg-color: #E8F0FE;\n",
              "      --fill-color: #1967D2;\n",
              "      --hover-bg-color: #E2EBFA;\n",
              "      --hover-fill-color: #174EA6;\n",
              "      --disabled-fill-color: #AAA;\n",
              "      --disabled-bg-color: #DDD;\n",
              "  }\n",
              "\n",
              "  [theme=dark] .colab-df-quickchart {\n",
              "      --bg-color: #3B4455;\n",
              "      --fill-color: #D2E3FC;\n",
              "      --hover-bg-color: #434B5C;\n",
              "      --hover-fill-color: #FFFFFF;\n",
              "      --disabled-bg-color: #3B4455;\n",
              "      --disabled-fill-color: #666;\n",
              "  }\n",
              "\n",
              "  .colab-df-quickchart {\n",
              "    background-color: var(--bg-color);\n",
              "    border: none;\n",
              "    border-radius: 50%;\n",
              "    cursor: pointer;\n",
              "    display: none;\n",
              "    fill: var(--fill-color);\n",
              "    height: 32px;\n",
              "    padding: 0;\n",
              "    width: 32px;\n",
              "  }\n",
              "\n",
              "  .colab-df-quickchart:hover {\n",
              "    background-color: var(--hover-bg-color);\n",
              "    box-shadow: 0 1px 2px rgba(60, 64, 67, 0.3), 0 1px 3px 1px rgba(60, 64, 67, 0.15);\n",
              "    fill: var(--button-hover-fill-color);\n",
              "  }\n",
              "\n",
              "  .colab-df-quickchart-complete:disabled,\n",
              "  .colab-df-quickchart-complete:disabled:hover {\n",
              "    background-color: var(--disabled-bg-color);\n",
              "    fill: var(--disabled-fill-color);\n",
              "    box-shadow: none;\n",
              "  }\n",
              "\n",
              "  .colab-df-spinner {\n",
              "    border: 2px solid var(--fill-color);\n",
              "    border-color: transparent;\n",
              "    border-bottom-color: var(--fill-color);\n",
              "    animation:\n",
              "      spin 1s steps(1) infinite;\n",
              "  }\n",
              "\n",
              "  @keyframes spin {\n",
              "    0% {\n",
              "      border-color: transparent;\n",
              "      border-bottom-color: var(--fill-color);\n",
              "      border-left-color: var(--fill-color);\n",
              "    }\n",
              "    20% {\n",
              "      border-color: transparent;\n",
              "      border-left-color: var(--fill-color);\n",
              "      border-top-color: var(--fill-color);\n",
              "    }\n",
              "    30% {\n",
              "      border-color: transparent;\n",
              "      border-left-color: var(--fill-color);\n",
              "      border-top-color: var(--fill-color);\n",
              "      border-right-color: var(--fill-color);\n",
              "    }\n",
              "    40% {\n",
              "      border-color: transparent;\n",
              "      border-right-color: var(--fill-color);\n",
              "      border-top-color: var(--fill-color);\n",
              "    }\n",
              "    60% {\n",
              "      border-color: transparent;\n",
              "      border-right-color: var(--fill-color);\n",
              "    }\n",
              "    80% {\n",
              "      border-color: transparent;\n",
              "      border-right-color: var(--fill-color);\n",
              "      border-bottom-color: var(--fill-color);\n",
              "    }\n",
              "    90% {\n",
              "      border-color: transparent;\n",
              "      border-bottom-color: var(--fill-color);\n",
              "    }\n",
              "  }\n",
              "</style>\n",
              "\n",
              "  <script>\n",
              "    async function quickchart(key) {\n",
              "      const quickchartButtonEl =\n",
              "        document.querySelector('#' + key + ' button');\n",
              "      quickchartButtonEl.disabled = true;  // To prevent multiple clicks.\n",
              "      quickchartButtonEl.classList.add('colab-df-spinner');\n",
              "      try {\n",
              "        const charts = await google.colab.kernel.invokeFunction(\n",
              "            'suggestCharts', [key], {});\n",
              "      } catch (error) {\n",
              "        console.error('Error during call to suggestCharts:', error);\n",
              "      }\n",
              "      quickchartButtonEl.classList.remove('colab-df-spinner');\n",
              "      quickchartButtonEl.classList.add('colab-df-quickchart-complete');\n",
              "    }\n",
              "    (() => {\n",
              "      let quickchartButtonEl =\n",
              "        document.querySelector('#df-4f2a4c51-b534-4a39-ab33-9f281c39c2a3 button');\n",
              "      quickchartButtonEl.style.display =\n",
              "        google.colab.kernel.accessAllowed ? 'block' : 'none';\n",
              "    })();\n",
              "  </script>\n",
              "</div>\n",
              "    </div>\n",
              "  </div>\n"
            ]
          },
          "metadata": {},
          "execution_count": 13
        }
      ]
    },
    {
      "cell_type": "code",
      "source": [
        "print(f'Number of objects in the dataset: {df.shape[0]}')\n",
        "\n",
        "label_type = list(df['Label'].unique())\n",
        "print(f'Types of labels in the dataset: {label_type}')\n",
        "\n",
        "df.replace('my', 0, inplace=True)\n",
        "df.replace('si', 1, inplace=True)\n",
        "df.replace('ta', 2, inplace=True)\n",
        "df['Label'] = df['Label'].astype('int8')"
      ],
      "metadata": {
        "id": "r9mLmpKTyodN",
        "colab": {
          "base_uri": "https://localhost:8080/"
        },
        "outputId": "e7e468af-26bf-49be-9cb2-6e42e8455f7d"
      },
      "execution_count": null,
      "outputs": [
        {
          "output_type": "stream",
          "name": "stdout",
          "text": [
            "Number of objects in the dataset: 30000\n",
            "Types of labels in the dataset: ['my', 'si', 'ta']\n"
          ]
        }
      ]
    },
    {
      "cell_type": "code",
      "source": [
        "df"
      ],
      "metadata": {
        "id": "xyvXpA9a1VbM",
        "colab": {
          "base_uri": "https://localhost:8080/",
          "height": 424
        },
        "outputId": "826c07c2-ce5d-407d-8e43-01537e11799b"
      },
      "execution_count": null,
      "outputs": [
        {
          "output_type": "execute_result",
          "data": {
            "text/plain": [
              "                                                    Data  Label\n",
              "0      ဇီဝဗေဒ ပညာတွင် ဆင့်ကဲပြောင်းလဲမှုဖြစ်စဉ် သို့မ...      0\n",
              "1      မျိုးရိုးလိုက်သည့် လက္ခဏာများတွင် ခန္ဓာဗေဒ ဆို...      0\n",
              "2      ဆင့်ကဲပြောင်းလဲမှုသည် အစုအဖွဲ့အတွင်းတွင် မျိုး...      0\n",
              "3      ထိုသို့ အပြောင်းအလဲများ ဖြစ်ရသည့် အကြောင်းမှာ ...      0\n",
              "4      အီဗော်လူးရှင်းကြောင့် ဘိုးဘွားမိဘတူသော သက်ရှိမ...      0\n",
              "...                                                  ...    ...\n",
              "29995  இவர் பண்டைய கிரேக்கத்தின் மிக முக்கியமான தடகள ...      2\n",
              "29996              இவரது தந்தையின் பெயர் டியோடிமஸ் (μος)      2\n",
              "29997  இவரது தடகள வெற்றிகளுக்கும் மேலாக, கி.மு 510 இல...      2\n",
              "29998  ஒலிம்பிக் பந்தயம் நடக்கின்ற நாளில், நான்கு வயத...      2\n",
              "29999                 மிலோ இறந்த நாள் சரியாக தெரியவில்லை      2\n",
              "\n",
              "[30000 rows x 2 columns]"
            ],
            "text/html": [
              "\n",
              "  <div id=\"df-b79f5f63-784c-4ba9-a31b-c81b08a2e28f\" class=\"colab-df-container\">\n",
              "    <div>\n",
              "<style scoped>\n",
              "    .dataframe tbody tr th:only-of-type {\n",
              "        vertical-align: middle;\n",
              "    }\n",
              "\n",
              "    .dataframe tbody tr th {\n",
              "        vertical-align: top;\n",
              "    }\n",
              "\n",
              "    .dataframe thead th {\n",
              "        text-align: right;\n",
              "    }\n",
              "</style>\n",
              "<table border=\"1\" class=\"dataframe\">\n",
              "  <thead>\n",
              "    <tr style=\"text-align: right;\">\n",
              "      <th></th>\n",
              "      <th>Data</th>\n",
              "      <th>Label</th>\n",
              "    </tr>\n",
              "  </thead>\n",
              "  <tbody>\n",
              "    <tr>\n",
              "      <th>0</th>\n",
              "      <td>ဇီဝဗေဒ ပညာတွင် ဆင့်ကဲပြောင်းလဲမှုဖြစ်စဉ် သို့မ...</td>\n",
              "      <td>0</td>\n",
              "    </tr>\n",
              "    <tr>\n",
              "      <th>1</th>\n",
              "      <td>မျိုးရိုးလိုက်သည့် လက္ခဏာများတွင် ခန္ဓာဗေဒ ဆို...</td>\n",
              "      <td>0</td>\n",
              "    </tr>\n",
              "    <tr>\n",
              "      <th>2</th>\n",
              "      <td>ဆင့်ကဲပြောင်းလဲမှုသည် အစုအဖွဲ့အတွင်းတွင် မျိုး...</td>\n",
              "      <td>0</td>\n",
              "    </tr>\n",
              "    <tr>\n",
              "      <th>3</th>\n",
              "      <td>ထိုသို့ အပြောင်းအလဲများ ဖြစ်ရသည့် အကြောင်းမှာ ...</td>\n",
              "      <td>0</td>\n",
              "    </tr>\n",
              "    <tr>\n",
              "      <th>4</th>\n",
              "      <td>အီဗော်လူးရှင်းကြောင့် ဘိုးဘွားမိဘတူသော သက်ရှိမ...</td>\n",
              "      <td>0</td>\n",
              "    </tr>\n",
              "    <tr>\n",
              "      <th>...</th>\n",
              "      <td>...</td>\n",
              "      <td>...</td>\n",
              "    </tr>\n",
              "    <tr>\n",
              "      <th>29995</th>\n",
              "      <td>இவர் பண்டைய கிரேக்கத்தின் மிக முக்கியமான தடகள ...</td>\n",
              "      <td>2</td>\n",
              "    </tr>\n",
              "    <tr>\n",
              "      <th>29996</th>\n",
              "      <td>இவரது தந்தையின் பெயர் டியோடிமஸ் (μος)</td>\n",
              "      <td>2</td>\n",
              "    </tr>\n",
              "    <tr>\n",
              "      <th>29997</th>\n",
              "      <td>இவரது தடகள வெற்றிகளுக்கும் மேலாக, கி.மு 510 இல...</td>\n",
              "      <td>2</td>\n",
              "    </tr>\n",
              "    <tr>\n",
              "      <th>29998</th>\n",
              "      <td>ஒலிம்பிக் பந்தயம் நடக்கின்ற நாளில், நான்கு வயத...</td>\n",
              "      <td>2</td>\n",
              "    </tr>\n",
              "    <tr>\n",
              "      <th>29999</th>\n",
              "      <td>மிலோ இறந்த நாள் சரியாக தெரியவில்லை</td>\n",
              "      <td>2</td>\n",
              "    </tr>\n",
              "  </tbody>\n",
              "</table>\n",
              "<p>30000 rows × 2 columns</p>\n",
              "</div>\n",
              "    <div class=\"colab-df-buttons\">\n",
              "\n",
              "  <div class=\"colab-df-container\">\n",
              "    <button class=\"colab-df-convert\" onclick=\"convertToInteractive('df-b79f5f63-784c-4ba9-a31b-c81b08a2e28f')\"\n",
              "            title=\"Convert this dataframe to an interactive table.\"\n",
              "            style=\"display:none;\">\n",
              "\n",
              "  <svg xmlns=\"http://www.w3.org/2000/svg\" height=\"24px\" viewBox=\"0 -960 960 960\">\n",
              "    <path d=\"M120-120v-720h720v720H120Zm60-500h600v-160H180v160Zm220 220h160v-160H400v160Zm0 220h160v-160H400v160ZM180-400h160v-160H180v160Zm440 0h160v-160H620v160ZM180-180h160v-160H180v160Zm440 0h160v-160H620v160Z\"/>\n",
              "  </svg>\n",
              "    </button>\n",
              "\n",
              "  <style>\n",
              "    .colab-df-container {\n",
              "      display:flex;\n",
              "      gap: 12px;\n",
              "    }\n",
              "\n",
              "    .colab-df-convert {\n",
              "      background-color: #E8F0FE;\n",
              "      border: none;\n",
              "      border-radius: 50%;\n",
              "      cursor: pointer;\n",
              "      display: none;\n",
              "      fill: #1967D2;\n",
              "      height: 32px;\n",
              "      padding: 0 0 0 0;\n",
              "      width: 32px;\n",
              "    }\n",
              "\n",
              "    .colab-df-convert:hover {\n",
              "      background-color: #E2EBFA;\n",
              "      box-shadow: 0px 1px 2px rgba(60, 64, 67, 0.3), 0px 1px 3px 1px rgba(60, 64, 67, 0.15);\n",
              "      fill: #174EA6;\n",
              "    }\n",
              "\n",
              "    .colab-df-buttons div {\n",
              "      margin-bottom: 4px;\n",
              "    }\n",
              "\n",
              "    [theme=dark] .colab-df-convert {\n",
              "      background-color: #3B4455;\n",
              "      fill: #D2E3FC;\n",
              "    }\n",
              "\n",
              "    [theme=dark] .colab-df-convert:hover {\n",
              "      background-color: #434B5C;\n",
              "      box-shadow: 0px 1px 3px 1px rgba(0, 0, 0, 0.15);\n",
              "      filter: drop-shadow(0px 1px 2px rgba(0, 0, 0, 0.3));\n",
              "      fill: #FFFFFF;\n",
              "    }\n",
              "  </style>\n",
              "\n",
              "    <script>\n",
              "      const buttonEl =\n",
              "        document.querySelector('#df-b79f5f63-784c-4ba9-a31b-c81b08a2e28f button.colab-df-convert');\n",
              "      buttonEl.style.display =\n",
              "        google.colab.kernel.accessAllowed ? 'block' : 'none';\n",
              "\n",
              "      async function convertToInteractive(key) {\n",
              "        const element = document.querySelector('#df-b79f5f63-784c-4ba9-a31b-c81b08a2e28f');\n",
              "        const dataTable =\n",
              "          await google.colab.kernel.invokeFunction('convertToInteractive',\n",
              "                                                    [key], {});\n",
              "        if (!dataTable) return;\n",
              "\n",
              "        const docLinkHtml = 'Like what you see? Visit the ' +\n",
              "          '<a target=\"_blank\" href=https://colab.research.google.com/notebooks/data_table.ipynb>data table notebook</a>'\n",
              "          + ' to learn more about interactive tables.';\n",
              "        element.innerHTML = '';\n",
              "        dataTable['output_type'] = 'display_data';\n",
              "        await google.colab.output.renderOutput(dataTable, element);\n",
              "        const docLink = document.createElement('div');\n",
              "        docLink.innerHTML = docLinkHtml;\n",
              "        element.appendChild(docLink);\n",
              "      }\n",
              "    </script>\n",
              "  </div>\n",
              "\n",
              "\n",
              "<div id=\"df-a40ac33d-7d9c-467f-bf7e-8bc385932c66\">\n",
              "  <button class=\"colab-df-quickchart\" onclick=\"quickchart('df-a40ac33d-7d9c-467f-bf7e-8bc385932c66')\"\n",
              "            title=\"Suggest charts\"\n",
              "            style=\"display:none;\">\n",
              "\n",
              "<svg xmlns=\"http://www.w3.org/2000/svg\" height=\"24px\"viewBox=\"0 0 24 24\"\n",
              "     width=\"24px\">\n",
              "    <g>\n",
              "        <path d=\"M19 3H5c-1.1 0-2 .9-2 2v14c0 1.1.9 2 2 2h14c1.1 0 2-.9 2-2V5c0-1.1-.9-2-2-2zM9 17H7v-7h2v7zm4 0h-2V7h2v10zm4 0h-2v-4h2v4z\"/>\n",
              "    </g>\n",
              "</svg>\n",
              "  </button>\n",
              "\n",
              "<style>\n",
              "  .colab-df-quickchart {\n",
              "      --bg-color: #E8F0FE;\n",
              "      --fill-color: #1967D2;\n",
              "      --hover-bg-color: #E2EBFA;\n",
              "      --hover-fill-color: #174EA6;\n",
              "      --disabled-fill-color: #AAA;\n",
              "      --disabled-bg-color: #DDD;\n",
              "  }\n",
              "\n",
              "  [theme=dark] .colab-df-quickchart {\n",
              "      --bg-color: #3B4455;\n",
              "      --fill-color: #D2E3FC;\n",
              "      --hover-bg-color: #434B5C;\n",
              "      --hover-fill-color: #FFFFFF;\n",
              "      --disabled-bg-color: #3B4455;\n",
              "      --disabled-fill-color: #666;\n",
              "  }\n",
              "\n",
              "  .colab-df-quickchart {\n",
              "    background-color: var(--bg-color);\n",
              "    border: none;\n",
              "    border-radius: 50%;\n",
              "    cursor: pointer;\n",
              "    display: none;\n",
              "    fill: var(--fill-color);\n",
              "    height: 32px;\n",
              "    padding: 0;\n",
              "    width: 32px;\n",
              "  }\n",
              "\n",
              "  .colab-df-quickchart:hover {\n",
              "    background-color: var(--hover-bg-color);\n",
              "    box-shadow: 0 1px 2px rgba(60, 64, 67, 0.3), 0 1px 3px 1px rgba(60, 64, 67, 0.15);\n",
              "    fill: var(--button-hover-fill-color);\n",
              "  }\n",
              "\n",
              "  .colab-df-quickchart-complete:disabled,\n",
              "  .colab-df-quickchart-complete:disabled:hover {\n",
              "    background-color: var(--disabled-bg-color);\n",
              "    fill: var(--disabled-fill-color);\n",
              "    box-shadow: none;\n",
              "  }\n",
              "\n",
              "  .colab-df-spinner {\n",
              "    border: 2px solid var(--fill-color);\n",
              "    border-color: transparent;\n",
              "    border-bottom-color: var(--fill-color);\n",
              "    animation:\n",
              "      spin 1s steps(1) infinite;\n",
              "  }\n",
              "\n",
              "  @keyframes spin {\n",
              "    0% {\n",
              "      border-color: transparent;\n",
              "      border-bottom-color: var(--fill-color);\n",
              "      border-left-color: var(--fill-color);\n",
              "    }\n",
              "    20% {\n",
              "      border-color: transparent;\n",
              "      border-left-color: var(--fill-color);\n",
              "      border-top-color: var(--fill-color);\n",
              "    }\n",
              "    30% {\n",
              "      border-color: transparent;\n",
              "      border-left-color: var(--fill-color);\n",
              "      border-top-color: var(--fill-color);\n",
              "      border-right-color: var(--fill-color);\n",
              "    }\n",
              "    40% {\n",
              "      border-color: transparent;\n",
              "      border-right-color: var(--fill-color);\n",
              "      border-top-color: var(--fill-color);\n",
              "    }\n",
              "    60% {\n",
              "      border-color: transparent;\n",
              "      border-right-color: var(--fill-color);\n",
              "    }\n",
              "    80% {\n",
              "      border-color: transparent;\n",
              "      border-right-color: var(--fill-color);\n",
              "      border-bottom-color: var(--fill-color);\n",
              "    }\n",
              "    90% {\n",
              "      border-color: transparent;\n",
              "      border-bottom-color: var(--fill-color);\n",
              "    }\n",
              "  }\n",
              "</style>\n",
              "\n",
              "  <script>\n",
              "    async function quickchart(key) {\n",
              "      const quickchartButtonEl =\n",
              "        document.querySelector('#' + key + ' button');\n",
              "      quickchartButtonEl.disabled = true;  // To prevent multiple clicks.\n",
              "      quickchartButtonEl.classList.add('colab-df-spinner');\n",
              "      try {\n",
              "        const charts = await google.colab.kernel.invokeFunction(\n",
              "            'suggestCharts', [key], {});\n",
              "      } catch (error) {\n",
              "        console.error('Error during call to suggestCharts:', error);\n",
              "      }\n",
              "      quickchartButtonEl.classList.remove('colab-df-spinner');\n",
              "      quickchartButtonEl.classList.add('colab-df-quickchart-complete');\n",
              "    }\n",
              "    (() => {\n",
              "      let quickchartButtonEl =\n",
              "        document.querySelector('#df-a40ac33d-7d9c-467f-bf7e-8bc385932c66 button');\n",
              "      quickchartButtonEl.style.display =\n",
              "        google.colab.kernel.accessAllowed ? 'block' : 'none';\n",
              "    })();\n",
              "  </script>\n",
              "</div>\n",
              "    </div>\n",
              "  </div>\n"
            ]
          },
          "metadata": {},
          "execution_count": 15
        }
      ]
    },
    {
      "cell_type": "code",
      "source": [
        "groups = df.groupby(by='Label').count().Data\n",
        "CNT_my = groups[0]\n",
        "CNT_si = groups[1]\n",
        "CNT_ta = groups[2]\n",
        "fig = go.Figure()\n",
        "fig.add_trace(go.Bar(\n",
        "    x=['my', 'si','ta'],\n",
        "    y=[CNT_my, CNT_si , CNT_ta],\n",
        "    marker_color='indianred',\n",
        "    width=[0.4, 0.4]))\n",
        "\n",
        "fig.update_layout(title='Classes and their number in the dataset', title_x=0.5)"
      ],
      "metadata": {
        "id": "C3DCTOm01j5Z",
        "colab": {
          "base_uri": "https://localhost:8080/",
          "height": 542
        },
        "outputId": "ef12f266-6863-452d-8c76-e630f0f81700"
      },
      "execution_count": null,
      "outputs": [
        {
          "output_type": "display_data",
          "data": {
            "text/html": [
              "<html>\n",
              "<head><meta charset=\"utf-8\" /></head>\n",
              "<body>\n",
              "    <div>            <script src=\"https://cdnjs.cloudflare.com/ajax/libs/mathjax/2.7.5/MathJax.js?config=TeX-AMS-MML_SVG\"></script><script type=\"text/javascript\">if (window.MathJax && window.MathJax.Hub && window.MathJax.Hub.Config) {window.MathJax.Hub.Config({SVG: {font: \"STIX-Web\"}});}</script>                <script type=\"text/javascript\">window.PlotlyConfig = {MathJaxConfig: 'local'};</script>\n",
              "        <script charset=\"utf-8\" src=\"https://cdn.plot.ly/plotly-2.24.1.min.js\"></script>                <div id=\"0c2d4626-b23c-4862-b169-f15508bc14fd\" class=\"plotly-graph-div\" style=\"height:525px; width:100%;\"></div>            <script type=\"text/javascript\">                                    window.PLOTLYENV=window.PLOTLYENV || {};                                    if (document.getElementById(\"0c2d4626-b23c-4862-b169-f15508bc14fd\")) {                    Plotly.newPlot(                        \"0c2d4626-b23c-4862-b169-f15508bc14fd\",                        [{\"marker\":{\"color\":\"indianred\"},\"width\":[0.4,0.4],\"x\":[\"my\",\"si\",\"ta\"],\"y\":[10000,10000,10000],\"type\":\"bar\"}],                        {\"template\":{\"data\":{\"histogram2dcontour\":[{\"type\":\"histogram2dcontour\",\"colorbar\":{\"outlinewidth\":0,\"ticks\":\"\"},\"colorscale\":[[0.0,\"#0d0887\"],[0.1111111111111111,\"#46039f\"],[0.2222222222222222,\"#7201a8\"],[0.3333333333333333,\"#9c179e\"],[0.4444444444444444,\"#bd3786\"],[0.5555555555555556,\"#d8576b\"],[0.6666666666666666,\"#ed7953\"],[0.7777777777777778,\"#fb9f3a\"],[0.8888888888888888,\"#fdca26\"],[1.0,\"#f0f921\"]]}],\"choropleth\":[{\"type\":\"choropleth\",\"colorbar\":{\"outlinewidth\":0,\"ticks\":\"\"}}],\"histogram2d\":[{\"type\":\"histogram2d\",\"colorbar\":{\"outlinewidth\":0,\"ticks\":\"\"},\"colorscale\":[[0.0,\"#0d0887\"],[0.1111111111111111,\"#46039f\"],[0.2222222222222222,\"#7201a8\"],[0.3333333333333333,\"#9c179e\"],[0.4444444444444444,\"#bd3786\"],[0.5555555555555556,\"#d8576b\"],[0.6666666666666666,\"#ed7953\"],[0.7777777777777778,\"#fb9f3a\"],[0.8888888888888888,\"#fdca26\"],[1.0,\"#f0f921\"]]}],\"heatmap\":[{\"type\":\"heatmap\",\"colorbar\":{\"outlinewidth\":0,\"ticks\":\"\"},\"colorscale\":[[0.0,\"#0d0887\"],[0.1111111111111111,\"#46039f\"],[0.2222222222222222,\"#7201a8\"],[0.3333333333333333,\"#9c179e\"],[0.4444444444444444,\"#bd3786\"],[0.5555555555555556,\"#d8576b\"],[0.6666666666666666,\"#ed7953\"],[0.7777777777777778,\"#fb9f3a\"],[0.8888888888888888,\"#fdca26\"],[1.0,\"#f0f921\"]]}],\"heatmapgl\":[{\"type\":\"heatmapgl\",\"colorbar\":{\"outlinewidth\":0,\"ticks\":\"\"},\"colorscale\":[[0.0,\"#0d0887\"],[0.1111111111111111,\"#46039f\"],[0.2222222222222222,\"#7201a8\"],[0.3333333333333333,\"#9c179e\"],[0.4444444444444444,\"#bd3786\"],[0.5555555555555556,\"#d8576b\"],[0.6666666666666666,\"#ed7953\"],[0.7777777777777778,\"#fb9f3a\"],[0.8888888888888888,\"#fdca26\"],[1.0,\"#f0f921\"]]}],\"contourcarpet\":[{\"type\":\"contourcarpet\",\"colorbar\":{\"outlinewidth\":0,\"ticks\":\"\"}}],\"contour\":[{\"type\":\"contour\",\"colorbar\":{\"outlinewidth\":0,\"ticks\":\"\"},\"colorscale\":[[0.0,\"#0d0887\"],[0.1111111111111111,\"#46039f\"],[0.2222222222222222,\"#7201a8\"],[0.3333333333333333,\"#9c179e\"],[0.4444444444444444,\"#bd3786\"],[0.5555555555555556,\"#d8576b\"],[0.6666666666666666,\"#ed7953\"],[0.7777777777777778,\"#fb9f3a\"],[0.8888888888888888,\"#fdca26\"],[1.0,\"#f0f921\"]]}],\"surface\":[{\"type\":\"surface\",\"colorbar\":{\"outlinewidth\":0,\"ticks\":\"\"},\"colorscale\":[[0.0,\"#0d0887\"],[0.1111111111111111,\"#46039f\"],[0.2222222222222222,\"#7201a8\"],[0.3333333333333333,\"#9c179e\"],[0.4444444444444444,\"#bd3786\"],[0.5555555555555556,\"#d8576b\"],[0.6666666666666666,\"#ed7953\"],[0.7777777777777778,\"#fb9f3a\"],[0.8888888888888888,\"#fdca26\"],[1.0,\"#f0f921\"]]}],\"mesh3d\":[{\"type\":\"mesh3d\",\"colorbar\":{\"outlinewidth\":0,\"ticks\":\"\"}}],\"scatter\":[{\"fillpattern\":{\"fillmode\":\"overlay\",\"size\":10,\"solidity\":0.2},\"type\":\"scatter\"}],\"parcoords\":[{\"type\":\"parcoords\",\"line\":{\"colorbar\":{\"outlinewidth\":0,\"ticks\":\"\"}}}],\"scatterpolargl\":[{\"type\":\"scatterpolargl\",\"marker\":{\"colorbar\":{\"outlinewidth\":0,\"ticks\":\"\"}}}],\"bar\":[{\"error_x\":{\"color\":\"#2a3f5f\"},\"error_y\":{\"color\":\"#2a3f5f\"},\"marker\":{\"line\":{\"color\":\"#E5ECF6\",\"width\":0.5},\"pattern\":{\"fillmode\":\"overlay\",\"size\":10,\"solidity\":0.2}},\"type\":\"bar\"}],\"scattergeo\":[{\"type\":\"scattergeo\",\"marker\":{\"colorbar\":{\"outlinewidth\":0,\"ticks\":\"\"}}}],\"scatterpolar\":[{\"type\":\"scatterpolar\",\"marker\":{\"colorbar\":{\"outlinewidth\":0,\"ticks\":\"\"}}}],\"histogram\":[{\"marker\":{\"pattern\":{\"fillmode\":\"overlay\",\"size\":10,\"solidity\":0.2}},\"type\":\"histogram\"}],\"scattergl\":[{\"type\":\"scattergl\",\"marker\":{\"colorbar\":{\"outlinewidth\":0,\"ticks\":\"\"}}}],\"scatter3d\":[{\"type\":\"scatter3d\",\"line\":{\"colorbar\":{\"outlinewidth\":0,\"ticks\":\"\"}},\"marker\":{\"colorbar\":{\"outlinewidth\":0,\"ticks\":\"\"}}}],\"scattermapbox\":[{\"type\":\"scattermapbox\",\"marker\":{\"colorbar\":{\"outlinewidth\":0,\"ticks\":\"\"}}}],\"scatterternary\":[{\"type\":\"scatterternary\",\"marker\":{\"colorbar\":{\"outlinewidth\":0,\"ticks\":\"\"}}}],\"scattercarpet\":[{\"type\":\"scattercarpet\",\"marker\":{\"colorbar\":{\"outlinewidth\":0,\"ticks\":\"\"}}}],\"carpet\":[{\"aaxis\":{\"endlinecolor\":\"#2a3f5f\",\"gridcolor\":\"white\",\"linecolor\":\"white\",\"minorgridcolor\":\"white\",\"startlinecolor\":\"#2a3f5f\"},\"baxis\":{\"endlinecolor\":\"#2a3f5f\",\"gridcolor\":\"white\",\"linecolor\":\"white\",\"minorgridcolor\":\"white\",\"startlinecolor\":\"#2a3f5f\"},\"type\":\"carpet\"}],\"table\":[{\"cells\":{\"fill\":{\"color\":\"#EBF0F8\"},\"line\":{\"color\":\"white\"}},\"header\":{\"fill\":{\"color\":\"#C8D4E3\"},\"line\":{\"color\":\"white\"}},\"type\":\"table\"}],\"barpolar\":[{\"marker\":{\"line\":{\"color\":\"#E5ECF6\",\"width\":0.5},\"pattern\":{\"fillmode\":\"overlay\",\"size\":10,\"solidity\":0.2}},\"type\":\"barpolar\"}],\"pie\":[{\"automargin\":true,\"type\":\"pie\"}]},\"layout\":{\"autotypenumbers\":\"strict\",\"colorway\":[\"#636efa\",\"#EF553B\",\"#00cc96\",\"#ab63fa\",\"#FFA15A\",\"#19d3f3\",\"#FF6692\",\"#B6E880\",\"#FF97FF\",\"#FECB52\"],\"font\":{\"color\":\"#2a3f5f\"},\"hovermode\":\"closest\",\"hoverlabel\":{\"align\":\"left\"},\"paper_bgcolor\":\"white\",\"plot_bgcolor\":\"#E5ECF6\",\"polar\":{\"bgcolor\":\"#E5ECF6\",\"angularaxis\":{\"gridcolor\":\"white\",\"linecolor\":\"white\",\"ticks\":\"\"},\"radialaxis\":{\"gridcolor\":\"white\",\"linecolor\":\"white\",\"ticks\":\"\"}},\"ternary\":{\"bgcolor\":\"#E5ECF6\",\"aaxis\":{\"gridcolor\":\"white\",\"linecolor\":\"white\",\"ticks\":\"\"},\"baxis\":{\"gridcolor\":\"white\",\"linecolor\":\"white\",\"ticks\":\"\"},\"caxis\":{\"gridcolor\":\"white\",\"linecolor\":\"white\",\"ticks\":\"\"}},\"coloraxis\":{\"colorbar\":{\"outlinewidth\":0,\"ticks\":\"\"}},\"colorscale\":{\"sequential\":[[0.0,\"#0d0887\"],[0.1111111111111111,\"#46039f\"],[0.2222222222222222,\"#7201a8\"],[0.3333333333333333,\"#9c179e\"],[0.4444444444444444,\"#bd3786\"],[0.5555555555555556,\"#d8576b\"],[0.6666666666666666,\"#ed7953\"],[0.7777777777777778,\"#fb9f3a\"],[0.8888888888888888,\"#fdca26\"],[1.0,\"#f0f921\"]],\"sequentialminus\":[[0.0,\"#0d0887\"],[0.1111111111111111,\"#46039f\"],[0.2222222222222222,\"#7201a8\"],[0.3333333333333333,\"#9c179e\"],[0.4444444444444444,\"#bd3786\"],[0.5555555555555556,\"#d8576b\"],[0.6666666666666666,\"#ed7953\"],[0.7777777777777778,\"#fb9f3a\"],[0.8888888888888888,\"#fdca26\"],[1.0,\"#f0f921\"]],\"diverging\":[[0,\"#8e0152\"],[0.1,\"#c51b7d\"],[0.2,\"#de77ae\"],[0.3,\"#f1b6da\"],[0.4,\"#fde0ef\"],[0.5,\"#f7f7f7\"],[0.6,\"#e6f5d0\"],[0.7,\"#b8e186\"],[0.8,\"#7fbc41\"],[0.9,\"#4d9221\"],[1,\"#276419\"]]},\"xaxis\":{\"gridcolor\":\"white\",\"linecolor\":\"white\",\"ticks\":\"\",\"title\":{\"standoff\":15},\"zerolinecolor\":\"white\",\"automargin\":true,\"zerolinewidth\":2},\"yaxis\":{\"gridcolor\":\"white\",\"linecolor\":\"white\",\"ticks\":\"\",\"title\":{\"standoff\":15},\"zerolinecolor\":\"white\",\"automargin\":true,\"zerolinewidth\":2},\"scene\":{\"xaxis\":{\"backgroundcolor\":\"#E5ECF6\",\"gridcolor\":\"white\",\"linecolor\":\"white\",\"showbackground\":true,\"ticks\":\"\",\"zerolinecolor\":\"white\",\"gridwidth\":2},\"yaxis\":{\"backgroundcolor\":\"#E5ECF6\",\"gridcolor\":\"white\",\"linecolor\":\"white\",\"showbackground\":true,\"ticks\":\"\",\"zerolinecolor\":\"white\",\"gridwidth\":2},\"zaxis\":{\"backgroundcolor\":\"#E5ECF6\",\"gridcolor\":\"white\",\"linecolor\":\"white\",\"showbackground\":true,\"ticks\":\"\",\"zerolinecolor\":\"white\",\"gridwidth\":2}},\"shapedefaults\":{\"line\":{\"color\":\"#2a3f5f\"}},\"annotationdefaults\":{\"arrowcolor\":\"#2a3f5f\",\"arrowhead\":0,\"arrowwidth\":1},\"geo\":{\"bgcolor\":\"white\",\"landcolor\":\"#E5ECF6\",\"subunitcolor\":\"white\",\"showland\":true,\"showlakes\":true,\"lakecolor\":\"white\"},\"title\":{\"x\":0.05},\"mapbox\":{\"style\":\"light\"}}},\"title\":{\"text\":\"Classes and their number in the dataset\",\"x\":0.5}},                        {\"responsive\": true}                    ).then(function(){\n",
              "                            \n",
              "var gd = document.getElementById('0c2d4626-b23c-4862-b169-f15508bc14fd');\n",
              "var x = new MutationObserver(function (mutations, observer) {{\n",
              "        var display = window.getComputedStyle(gd).display;\n",
              "        if (!display || display === 'none') {{\n",
              "            console.log([gd, 'removed!']);\n",
              "            Plotly.purge(gd);\n",
              "            observer.disconnect();\n",
              "        }}\n",
              "}});\n",
              "\n",
              "// Listen for the removal of the full notebook cells\n",
              "var notebookContainer = gd.closest('#notebook-container');\n",
              "if (notebookContainer) {{\n",
              "    x.observe(notebookContainer, {childList: true});\n",
              "}}\n",
              "\n",
              "// Listen for the clearing of the current output cell\n",
              "var outputEl = gd.closest('.output');\n",
              "if (outputEl) {{\n",
              "    x.observe(outputEl, {childList: true});\n",
              "}}\n",
              "\n",
              "                        })                };                            </script>        </div>\n",
              "</body>\n",
              "</html>"
            ]
          },
          "metadata": {}
        }
      ]
    },
    {
      "cell_type": "code",
      "source": [
        "texts = df['Data']\n",
        "labels = df['Label']"
      ],
      "metadata": {
        "id": "7CRZQMc02fUy"
      },
      "execution_count": null,
      "outputs": []
    },
    {
      "cell_type": "code",
      "source": [
        "texts.shape"
      ],
      "metadata": {
        "colab": {
          "base_uri": "https://localhost:8080/"
        },
        "id": "5agG0ooAGb5u",
        "outputId": "f564f4a1-34e1-460a-9335-d4a6fe4a33dc"
      },
      "execution_count": null,
      "outputs": [
        {
          "output_type": "execute_result",
          "data": {
            "text/plain": [
              "(30000,)"
            ]
          },
          "metadata": {},
          "execution_count": 18
        }
      ]
    },
    {
      "cell_type": "code",
      "source": [
        "NUM_WORDS = 30000\n",
        "MAX_TEXT_LEN = 100\n",
        "\n",
        "tokenizer = Tokenizer(num_words=NUM_WORDS)\n",
        "tokenizer.fit_on_texts(texts)"
      ],
      "metadata": {
        "id": "PpOsVoFp2wcp"
      },
      "execution_count": null,
      "outputs": []
    },
    {
      "cell_type": "code",
      "source": [
        "word_count = 50\n",
        "keys = list(tokenizer.word_index.keys())[:word_count]\n",
        "values = list(tokenizer.word_index.values())[:word_count]\n",
        "list(zip(keys, values))"
      ],
      "metadata": {
        "id": "ObpRdKLA21eo",
        "colab": {
          "base_uri": "https://localhost:8080/"
        },
        "outputId": "e53526bc-d61f-4268-d820-62fc555f8deb"
      },
      "execution_count": null,
      "outputs": [
        {
          "output_type": "execute_result",
          "data": {
            "text/plain": [
              "[('மற்றும்', 1),\n",
              " ('နှင့်', 2),\n",
              " ('හා', 3),\n",
              " ('වූ', 4),\n",
              " ('ஒரு', 5),\n",
              " ('ဖြစ်သည်', 6),\n",
              " ('විය', 7),\n",
              " ('හිට්ලර්', 8),\n",
              " ('ඔහු', 9),\n",
              " ('ලෙස', 10),\n",
              " ('අතර', 11),\n",
              " ('ရှိသည်', 12),\n",
              " ('ခုနှစ်', 13),\n",
              " ('ခုနှစ်တွင်', 14),\n",
              " ('ද', 15),\n",
              " ('දී', 16),\n",
              " ('සහ', 17),\n",
              " ('ඒ', 18),\n",
              " ('වූයේ', 19),\n",
              " ('මේ', 20),\n",
              " ('කොට', 21),\n",
              " ('බව', 22),\n",
              " ('වන', 23),\n",
              " ('இது', 24),\n",
              " ('ஆம்', 25),\n",
              " ('ජර්මන්', 26),\n",
              " ('කල', 27),\n",
              " ('ඇති', 28),\n",
              " ('විසින්', 29),\n",
              " ('இந்த', 30),\n",
              " ('සිටි', 31),\n",
              " ('තම', 32),\n",
              " ('කරන', 33),\n",
              " ('එය', 34),\n",
              " ('නම්', 35),\n",
              " ('பல', 36),\n",
              " ('සඳහා', 37),\n",
              " ('හමුදා', 38),\n",
              " ('இல்', 39),\n",
              " ('සිය', 40),\n",
              " ('තුල', 41),\n",
              " ('යුද', 42),\n",
              " ('එහෙත්', 43),\n",
              " ('මෙම', 44),\n",
              " ('என்ற', 45),\n",
              " ('အဖြစ်', 46),\n",
              " ('என்று', 47),\n",
              " ('නිසා', 48),\n",
              " ('ဖြစ်ပြီး', 49),\n",
              " ('ගේ', 50)]"
            ]
          },
          "metadata": {},
          "execution_count": 20
        }
      ]
    },
    {
      "cell_type": "code",
      "source": [
        "sequences = tokenizer.texts_to_sequences(texts)\n",
        "\n",
        "# As a result, the text under the following index was converted to a vector\n",
        "index = 6\n",
        "print(texts[index])\n",
        "print(sequences[index])\n",
        "\n",
        "X = pad_sequences(sequences, maxlen=MAX_TEXT_LEN)  # Standardization of the number of elements in a vector\n",
        "y = labels.copy()"
      ],
      "metadata": {
        "id": "0I3TAMKQ26b_",
        "colab": {
          "base_uri": "https://localhost:8080/"
        },
        "outputId": "84500dee-e8c0-44ae-8660-575f40c9b33c"
      },
      "execution_count": null,
      "outputs": [
        {
          "output_type": "stream",
          "name": "stdout",
          "text": [
            "ထိုသို့ အမျိုးအနွယ်တစ်ခုမှ တစ်ခုသို့ အဆက်မပြတ် ပြောင်းလဲခြင်းကြောင့် ရှေးကရှိခဲ့ဘူး သော တိရစ္ဆာန်၊ သို့မဟုတ် အပင်နှင့် ယခုအခါ ရှိနေသော တိရစ္ဆာန်၊ သို့မဟုတ် အပင်သည် မတူနိုင်တော့ချေ\n",
            "[376, 15462, 8336, 21524, 763, 5133, 160, 2152, 1265, 4662, 5133, 160, 15463]\n"
          ]
        }
      ]
    },
    {
      "cell_type": "code",
      "source": [
        "sequences_len = []\n",
        "for sequence in sequences:\n",
        "    seq_len = len(sequence)\n",
        "    sequences_len.append(seq_len)\n",
        "\n",
        "fig = go.Figure(data=[go.Histogram(x=sequences_len, marker_color='indianred')])\n",
        "fig.update_layout(title='Histogram of the length of texts', title_x=0.5,xaxis_title=\"Text length\",\n",
        "                  yaxis_title=\"Count\")"
      ],
      "metadata": {
        "id": "I1vG40Ds3Amf",
        "colab": {
          "base_uri": "https://localhost:8080/",
          "height": 542
        },
        "outputId": "6ed22381-af46-4915-881d-daf9971470a6"
      },
      "execution_count": null,
      "outputs": [
        {
          "output_type": "display_data",
          "data": {
            "text/html": [
              "<html>\n",
              "<head><meta charset=\"utf-8\" /></head>\n",
              "<body>\n",
              "    <div>            <script src=\"https://cdnjs.cloudflare.com/ajax/libs/mathjax/2.7.5/MathJax.js?config=TeX-AMS-MML_SVG\"></script><script type=\"text/javascript\">if (window.MathJax && window.MathJax.Hub && window.MathJax.Hub.Config) {window.MathJax.Hub.Config({SVG: {font: \"STIX-Web\"}});}</script>                <script type=\"text/javascript\">window.PlotlyConfig = {MathJaxConfig: 'local'};</script>\n",
              "        <script charset=\"utf-8\" src=\"https://cdn.plot.ly/plotly-2.24.1.min.js\"></script>                <div id=\"d4e2020e-3113-40ff-9c33-55a43430a1a9\" class=\"plotly-graph-div\" style=\"height:525px; width:100%;\"></div>            <script type=\"text/javascript\">                                    window.PLOTLYENV=window.PLOTLYENV || {};                                    if (document.getElementById(\"d4e2020e-3113-40ff-9c33-55a43430a1a9\")) {                    Plotly.newPlot(                        \"d4e2020e-3113-40ff-9c33-55a43430a1a9\",                        [{\"marker\":{\"color\":\"indianred\"},\"x\":[10,7,5,9,11,6,13,3,2,4,6,3,5,5,3,2,17,4,4,5,2,5,2,3,6,6,6,2,3,2,4,6,3,3,3,1,3,7,1,3,8,5,5,6,6,1,1,1,1,1,1,1,3,2,2,1,3,2,1,3,0,5,7,2,2,3,4,5,5,4,5,3,3,1,5,0,5,3,2,1,11,3,10,7,4,9,10,7,2,2,4,1,2,6,4,2,2,2,2,2,0,4,4,6,19,12,1,0,2,1,1,3,2,2,4,3,0,0,0,8,7,2,0,3,3,2,4,2,4,9,18,5,1,2,4,3,10,4,2,6,2,4,0,4,3,5,3,4,0,2,2,3,5,2,2,2,3,3,1,3,3,4,3,2,9,2,2,5,3,4,2,8,2,6,6,2,4,1,3,4,0,5,2,7,4,4,2,2,8,3,8,3,13,0,2,4,7,7,4,4,0,3,6,7,4,10,2,8,3,10,3,4,1,2,8,7,6,13,20,7,8,6,7,7,5,17,11,9,10,7,1,3,0,11,26,3,10,0,3,0,5,1,3,0,1,2,1,3,6,0,2,3,2,3,3,3,4,0,1,0,1,5,2,1,0,3,2,8,13,6,6,4,3,4,9,27,1,1,2,1,4,2,2,2,2,1,6,5,4,2,2,4,4,3,2,1,8,3,2,1,4,5,2,1,8,5,1,7,1,2,4,6,1,2,2,11,6,7,4,3,2,3,3,4,3,4,3,4,10,1,7,6,2,8,4,2,2,6,1,4,2,3,0,3,4,5,1,3,5,3,0,3,4,2,3,3,0,6,3,3,3,4,0,1,5,4,5,2,8,9,1,9,10,5,8,10,12,6,0,10,3,3,4,2,4,1,8,4,5,3,2,1,4,2,3,2,6,1,1,3,2,1,3,4,1,1,3,0,0,1,2,6,2,11,3,2,3,10,8,4,1,7,4,3,9,5,2,8,19,3,2,1,2,5,3,0,1,0,6,1,1,2,0,2,1,0,5,0,0,3,1,1,0,1,2,0,1,2,1,3,5,2,3,1,2,1,0,22,13,28,10,5,7,4,7,5,0,4,7,1,25,14,14,7,7,5,8,4,8,4,5,4,2,6,9,5,2,13,3,3,3,3,2,15,4,8,5,1,4,16,10,3,5,3,4,7,4,4,5,3,3,4,6,2,1,2,5,3,5,6,3,2,2,4,5,4,4,2,3,2,5,5,7,3,3,17,1,0,4,1,3,2,1,1,2,1,2,5,0,5,4,4,3,2,1,3,4,6,6,8,2,4,3,2,1,4,2,3,1,7,2,1,6,5,2,2,4,4,6,3,1,2,4,2,6,3,5,0,5,10,1,1,2,3,3,2,7,3,12,2,3,8,1,3,3,4,2,5,3,3,6,2,8,3,11,1,4,6,3,1,3,1,6,4,9,2,3,5,9,3,1,0,2,2,3,2,2,2,1,2,2,4,1,5,0,1,3,2,3,11,5,9,3,2,2,3,4,0,8,1,1,0,1,3,1,1,4,4,7,5,8,0,4,2,1,1,3,1,5,1,3,2,2,1,1,3,1,0,1,2,2,3,4,1,6,4,4,3,2,10,4,1,1,5,2,0,3,0,0,3,4,4,3,4,7,6,6,4,2,4,2,2,3,0,1,3,0,1,2,4,2,2,3,4,0,2,1,4,2,2,4,2,2,2,4,2,1,1,5,4,4,1,2,5,2,3,6,7,4,10,6,6,3,1,2,3,3,5,5,1,5,7,8,5,3,3,3,5,1,2,4,6,5,8,6,5,6,2,4,6,1,3,1,7,1,2,5,0,2,3,2,3,0,1,8,2,2,4,3,6,1,1,1,2,3,0,4,6,3,5,10,17,8,2,1,3,2,6,4,3,1,3,1,10,2,17,4,1,7,4,8,4,8,6,7,8,2,3,0,2,0,2,1,2,3,2,0,1,1,2,0,2,4,1,2,2,3,1,4,13,6,6,2,10,5,8,5,8,3,8,3,5,4,2,1,3,14,5,80,13,3,7,25,2,10,2,6,3,9,6,3,1,4,6,1,1,1,3,2,7,2,8,2,8,2,2,5,3,2,10,2,3,0,1,1,7,4,6,4,6,3,8,1,4,3,5,5,6,2,2,0,3,7,4,6,2,6,3,3,6,2,11,4,7,1,9,7,3,5,2,8,7,5,12,1,2,7,3,3,2,2,1,7,7,5,1,1,11,6,1,4,3,7,7,4,9,3,5,6,5,5,8,7,4,4,8,6,6,2,10,3,3,9,6,4,2,4,4,4,2,1,5,4,4,7,1,3,3,2,5,1,2,7,3,4,3,10,2,4,4,3,1,5,3,6,6,3,2,2,2,5,4,3,3,3,4,0,3,10,4,2,4,5,2,1,2,3,3,3,2,4,3,3,5,3,3,5,2,5,7,1,2,0,9,2,4,3,2,5,3,2,5,6,5,1,3,4,3,6,10,5,3,7,0,0,2,4,7,2,5,8,3,2,7,12,10,7,6,4,4,1,0,2,8,9,4,16,6,8,21,4,6,7,9,7,12,6,8,11,12,4,6,14,14,5,6,9,5,10,5,9,8,3,8,8,6,10,9,4,6,4,3,5,9,8,7,10,17,5,10,11,9,7,10,10,18,10,5,5,9,5,14,6,10,6,11,16,7,8,13,10,7,7,10,14,4,8,19,9,10,9,4,6,13,9,9,12,17,7,6,6,17,9,12,18,17,6,7,9,6,17,15,19,6,6,20,9,3,12,9,10,8,5,9,7,6,7,8,11,14,8,9,6,8,5,7,13,5,4,2,7,4,9,3,6,9,5,8,4,4,5,31,6,5,7,12,5,5,6,9,2,4,12,8,4,8,19,15,9,10,6,5,12,11,13,6,12,9,7,10,21,15,15,8,7,11,11,19,6,9,15,13,25,14,14,12,5,4,19,13,8,7,12,3,6,31,40,14,15,12,3,3,8,4,9,11,14,4,8,13,14,8,12,14,14,13,11,4,4,4,5,6,25,13,13,15,9,1,8,11,0,7,10,7,6,9,5,7,10,9,9,12,9,14,10,16,14,9,10,12,3,4,5,16,9,11,6,6,2,12,10,18,6,10,5,9,9,5,3,8,7,9,13,6,10,12,10,8,6,6,0,0,0,3,5,10,14,11,1,11,1,9,9,6,21,11,12,7,8,5,10,7,6,6,5,5,25,4,12,7,11,12,8,3,11,4,8,3,5,6,9,9,12,10,5,11,7,9,2,4,1,2,5,6,9,4,8,7,8,9,3,7,6,5,8,5,6,11,14,16,8,6,13,9,17,7,5,4,6,6,11,6,4,19,2,9,2,3,5,4,0,7,1,1,5,0,16,0,0,2,4,1,11,5,3,1,0,7,4,3,3,12,9,8,1,1,0,1,4,1,8,6,7,5,1,5,4,3,4,2,8,1,0,2,1,6,0,3,8,8,6,4,3,4,10,1,2,2,0,0,0,0,2,1,0,1,2,2,2,0,0,2,2,3,2,0,1,1,0,3,1,2,2,1,2,1,1,1,0,3,1,2,3,2,2,0,4,0,2,2,3,8,0,1,1,0,0,0,4,0,0,0,0,0,1,0,5,6,7,1,0,3,0,2,1,1,0,0,13,7,1,12,2,5,5,5,2,8,3,2,3,10,2,2,3,12,3,2,5,8,8,3,10,8,8,8,2,10,1,0,3,5,6,7,6,4,0,1,5,5,17,14,2,1,7,18,4,6,5,6,1,4,1,0,0,1,3,0,3,11,4,2,5,0,3,0,0,2,2,4,4,11,4,4,4,3,6,6,5,0,1,2,2,0,2,5,3,8,2,5,18,2,5,1,2,1,0,0,2,1,1,0,0,2,0,0,1,3,4,0,2,0,0,6,2,0,2,8,11,19,23,16,13,8,5,0,1,0,30,13,11,2,1,1,2,2,3,3,0,9,3,2,0,5,1,0,1,1,1,0,1,6,2,5,7,3,2,3,2,0,1,1,11,5,7,1,5,14,3,4,0,0,2,0,4,4,4,3,2,1,2,3,5,3,1,4,7,4,7,1,4,3,3,4,4,3,0,1,6,4,2,4,2,4,13,3,6,4,2,2,1,2,7,0,4,4,3,2,0,1,2,2,2,10,1,2,2,2,3,3,2,0,2,2,3,1,3,2,4,3,1,3,4,3,2,3,7,6,6,5,6,3,5,1,3,1,3,1,6,7,4,3,13,7,3,3,3,4,6,2,4,5,2,2,3,3,2,6,6,2,5,1,4,4,11,5,3,1,2,3,1,4,7,4,7,7,6,2,5,3,3,1,6,3,4,6,6,2,1,5,6,7,4,9,3,3,2,5,8,1,8,3,1,4,3,2,9,0,1,3,0,2,2,2,1,3,3,5,3,7,3,2,4,4,3,2,2,1,1,6,5,4,4,2,1,4,6,1,3,7,5,0,4,3,1,1,1,0,0,1,1,5,9,5,1,2,7,8,8,4,3,2,4,1,4,4,4,4,4,9,7,2,4,9,0,7,1,2,2,6,2,4,2,4,3,6,3,2,2,0,4,6,3,4,6,3,3,1,5,6,12,1,4,1,1,4,4,6,4,1,3,6,3,2,5,3,6,3,3,3,1,5,1,6,2,2,2,4,4,2,4,1,3,0,3,1,1,1,1,4,3,5,3,8,4,0,2,6,4,2,10,0,3,1,2,0,4,4,2,1,2,2,2,1,3,0,4,0,6,5,3,2,4,2,1,5,3,2,6,7,6,4,3,5,6,3,0,3,5,4,9,5,2,3,3,3,0,2,5,1,5,1,3,1,2,5,2,2,6,3,4,8,6,1,6,1,0,1,6,5,5,1,6,4,2,3,0,4,7,3,6,5,1,3,3,2,3,1,4,3,3,2,3,5,6,1,4,2,1,4,6,3,3,2,3,6,3,3,7,5,3,4,3,7,2,2,4,2,2,3,1,2,5,4,2,2,2,8,2,1,7,0,8,9,7,7,3,3,3,8,6,0,5,1,1,1,0,2,0,3,2,2,5,0,3,2,5,6,2,0,3,0,0,6,4,1,6,2,4,1,4,0,1,0,6,4,5,4,4,3,3,1,3,5,0,4,1,4,1,2,7,2,3,7,6,5,1,2,5,7,5,2,4,7,4,5,6,1,3,5,9,1,4,7,1,5,2,1,8,4,1,6,2,2,5,2,2,6,0,5,5,12,2,4,2,1,2,2,4,6,4,2,3,7,5,5,2,1,7,0,3,2,3,13,6,5,2,11,5,6,7,3,3,5,4,2,3,10,3,5,6,4,5,7,2,2,3,0,2,11,6,4,3,1,3,7,2,3,3,5,2,4,2,3,3,8,6,6,1,4,4,6,4,4,2,2,12,7,7,11,3,7,3,2,3,5,3,0,1,12,2,7,4,9,4,4,9,10,9,4,7,6,7,2,4,8,10,4,8,6,5,4,2,4,5,8,9,4,1,0,6,4,2,2,3,1,4,8,6,8,0,3,4,2,7,6,12,2,8,2,6,4,8,6,5,3,6,5,6,7,8,3,4,1,4,7,5,3,4,4,7,4,4,3,4,4,3,3,4,1,7,7,6,3,5,3,5,5,7,3,3,6,7,10,9,3,4,4,6,4,5,2,5,1,1,3,7,6,2,5,2,4,9,4,8,2,6,1,4,4,1,3,4,6,4,1,1,2,2,6,5,6,3,2,5,4,4,4,1,3,0,6,4,4,4,7,9,6,2,1,2,5,3,2,6,5,2,7,2,0,7,4,8,8,1,4,2,6,4,3,2,3,5,5,3,3,3,4,3,8,4,1,1,1,7,8,4,5,3,1,6,6,4,4,5,7,4,9,3,0,1,3,1,3,6,4,6,6,3,6,0,6,6,4,2,7,6,1,4,5,4,1,2,7,5,4,2,9,4,3,6,3,4,14,1,11,4,1,1,1,12,4,5,5,3,1,2,4,7,4,12,5,3,1,6,5,15,4,7,3,6,22,5,3,6,12,7,10,5,5,18,2,11,1,4,1,2,6,4,5,3,4,4,3,4,5,17,6,2,2,11,3,2,11,3,4,7,1,5,21,2,7,4,1,2,10,0,5,2,11,4,2,15,12,7,21,10,11,8,5,6,9,7,4,17,13,13,4,14,10,14,13,14,9,14,15,8,13,11,11,11,2,13,20,12,11,16,12,8,3,13,6,3,9,11,17,10,14,14,5,15,7,15,8,3,7,17,8,11,9,5,2,9,6,15,4,9,8,28,8,12,17,7,6,19,13,10,20,6,11,16,24,16,13,10,16,1,18,13,9,10,11,7,13,6,15,12,13,8,14,10,7,14,18,6,13,28,7,11,8,4,7,14,28,24,13,11,7,5,7,7,2,10,10,6,8,10,8,3,6,4,5,10,8,15,7,8,16,5,3,8,11,3,14,14,8,4,4,4,12,2,17,4,9,12,5,1,7,2,20,4,10,3,8,10,5,7,8,4,6,10,13,7,6,2,5,5,11,3,5,2,9,2,9,22,14,3,16,6,6,15,6,5,9,5,5,3,12,6,1,3,10,8,11,8,10,7,16,17,12,11,17,9,11,16,8,5,13,9,6,9,14,8,9,7,12,9,11,16,15,8,15,15,12,14,17,11,8,7,11,26,13,4,12,6,10,6,7,8,13,11,5,7,10,7,6,8,7,13,3,6,5,7,0,13,5,6,8,6,16,8,11,15,12,10,9,12,4,6,11,5,7,7,11,8,7,9,18,19,18,6,12,17,14,4,23,11,9,8,22,16,5,22,12,15,6,10,7,6,9,11,10,7,7,16,9,6,6,10,23,15,11,4,8,8,12,5,13,14,7,11,6,5,5,3,6,4,10,5,9,4,8,3,7,6,20,13,7,6,15,10,5,13,19,6,9,6,6,6,10,9,7,9,11,16,20,6,16,22,31,18,7,8,101,10,14,24,6,4,11,8,10,1,22,11,7,10,8,10,6,4,24,9,12,13,4,11,10,3,10,8,8,10,10,9,4,3,3,12,8,6,14,5,4,0,9,3,1,6,6,4,2,5,1,5,5,8,8,10,10,2,5,6,5,4,10,5,15,5,9,11,11,8,4,5,4,4,7,9,6,7,4,4,6,6,4,10,5,4,6,3,12,5,7,10,17,6,6,12,10,12,5,5,6,7,9,5,4,4,2,14,8,3,8,16,12,11,10,12,18,7,9,8,7,5,15,10,0,3,7,14,6,10,12,7,5,14,2,4,2,9,4,12,23,8,11,14,6,9,8,7,12,5,21,7,10,6,8,8,12,9,15,9,4,4,19,11,17,9,7,13,11,12,4,3,6,4,13,8,16,11,8,6,8,10,13,8,13,7,15,12,15,11,7,14,8,8,9,18,15,11,8,17,9,15,19,9,17,16,9,6,13,8,10,9,9,5,10,9,10,2,11,4,4,8,5,10,1,15,16,5,13,15,12,9,5,11,13,9,10,5,16,10,18,11,8,6,15,13,13,7,5,8,5,9,7,4,13,14,6,2,7,6,11,7,23,11,17,12,6,8,11,33,10,15,12,5,15,7,9,12,13,13,11,18,12,3,13,5,11,6,12,2,12,5,16,18,10,12,8,8,12,16,10,14,3,15,14,7,37,18,7,5,6,11,11,19,18,25,16,13,4,5,5,8,6,8,9,12,6,14,12,10,4,16,22,13,8,16,10,12,11,16,16,21,11,21,16,8,9,9,10,8,17,12,5,7,5,7,7,4,7,7,5,11,8,12,10,12,8,6,9,17,13,16,9,11,9,6,8,7,16,7,10,15,13,11,5,16,12,21,6,21,15,5,17,22,7,3,6,9,14,9,20,15,6,12,10,8,13,7,16,16,4,9,4,12,15,11,3,6,5,5,7,9,9,10,10,24,46,9,8,3,6,15,20,9,8,9,12,5,19,9,7,8,4,11,9,16,3,15,6,7,11,7,6,14,5,9,9,3,13,10,7,7,3,18,7,11,9,4,17,23,11,14,16,4,6,13,13,12,5,11,10,11,8,22,9,7,10,8,10,10,3,9,4,18,11,5,8,12,12,11,8,5,5,4,3,10,1,11,7,8,2,8,8,10,15,8,17,15,18,15,3,5,6,9,25,7,8,10,12,10,13,12,14,7,7,5,11,10,10,17,11,11,4,10,13,10,18,14,6,7,7,6,9,8,4,9,9,10,8,10,7,9,11,3,5,5,11,18,11,15,11,8,10,7,14,7,8,11,16,6,4,7,14,11,3,11,11,9,4,9,6,4,4,12,10,10,13,9,5,9,11,10,7,6,9,11,28,11,9,9,9,14,18,9,18,10,16,7,4,13,9,8,8,6,4,8,15,16,7,14,12,10,12,4,11,12,4,15,22,12,12,15,9,1,8,29,7,2,7,5,9,13,8,6,10,5,7,16,3,6,13,4,8,4,16,6,7,8,8,3,6,8,11,13,14,11,8,6,8,7,7,5,3,11,7,25,17,7,12,5,7,22,4,2,3,17,14,6,5,8,15,6,13,2,12,4,10,26,4,6,5,13,10,8,10,11,8,8,5,6,6,6,2,4,10,7,10,5,4,7,5,6,12,2,10,14,6,7,8,11,8,15,16,4,6,3,11,8,4,14,7,12,14,3,8,10,8,11,14,8,7,20,17,22,4,20,16,5,13,8,2,12,8,8,5,6,0,13,10,6,11,1,10,12,15,10,16,14,13,14,14,9,12,11,14,11,7,13,20,8,4,37,12,3,29,4,7,10,7,13,7,6,13,17,3,8,11,19,14,14,11,14,17,9,12,10,7,6,5,4,20,9,6,4,4,11,10,5,7,9,4,5,12,3,10,9,14,10,13,12,10,5,13,18,13,19,9,11,7,14,14,10,9,10,19,9,15,6,15,8,11,9,10,16,9,16,10,12,7,12,9,17,7,17,7,8,5,5,6,13,6,9,10,8,4,10,6,7,5,15,2,11,10,22,5,15,10,10,9,9,7,19,15,9,10,8,10,14,5,7,18,6,11,11,5,5,10,7,20,5,9,11,13,15,6,21,12,8,32,10,10,19,5,3,10,3,7,3,3,7,24,7,21,5,12,5,4,12,3,2,3,5,10,6,6,8,11,11,4,11,4,3,13,10,11,11,4,6,5,7,9,5,2,4,7,7,15,10,7,7,13,5,12,4,8,6,8,5,8,9,6,4,9,3,8,7,7,12,8,6,10,8,8,4,8,16,5,7,9,14,12,9,2,9,5,8,22,14,3,14,7,13,1,12,16,7,11,8,12,14,14,18,10,7,5,7,8,7,10,2,14,9,8,6,10,14,5,9,11,10,3,10,10,11,9,10,6,13,11,26,13,12,7,10,5,15,11,13,8,13,6,8,7,10,8,5,7,5,18,11,17,30,9,16,5,14,4,7,9,13,15,8,5,18,21,18,20,15,6,9,5,14,14,11,12,14,7,5,16,7,8,7,10,10,9,13,8,6,21,21,10,6,4,12,8,11,15,10,10,22,14,30,14,7,17,13,7,15,9,10,10,9,11,7,20,15,4,12,11,17,7,13,6,10,12,12,20,2,7,4,7,7,5,5,9,19,6,7,15,8,25,11,9,13,19,28,11,3,8,11,18,14,10,10,11,10,6,13,7,3,8,6,4,11,15,14,7,11,16,12,5,9,11,11,22,8,3,12,5,20,18,11,9,11,9,13,12,12,26,20,15,7,6,9,7,9,8,9,10,16,17,8,4,3,15,9,9,8,12,15,12,9,17,3,10,13,9,13,21,14,10,5,17,7,7,9,13,5,16,5,12,5,7,32,8,8,2,18,5,16,8,12,4,12,18,10,9,5,14,10,4,8,7,5,18,6,13,19,13,5,16,7,11,18,24,14,23,22,24,34,11,7,12,10,12,21,5,11,17,14,10,12,11,9,6,10,14,22,16,23,10,18,7,14,4,15,16,10,7,12,26,5,16,16,20,10,13,6,11,9,5,18,18,5,16,8,14,12,10,6,5,8,16,17,13,9,12,4,8,8,5,5,3,8,7,6,10,17,7,7,16,31,4,9,10,23,23,10,20,27,13,11,10,7,14,8,3,5,5,7,5,8,14,6,16,10,8,8,6,15,14,9,14,3,13,9,17,17,5,4,14,10,13,13,9,5,10,12,13,15,5,18,22,7,8,26,11,11,5,3,9,27,19,17,8,8,6,6,6,9,8,9,9,14,14,8,14,12,15,8,12,4,7,9,4,6,3,7,12,3,10,10,6,8,8,18,5,11,7,10,10,9,6,13,7,6,6,2,7,8,8,11,8,4,8,8,3,12,10,8,17,3,6,11,5,7,18,6,5,5,6,13,8,10,3,6,4,5,11,5,5,16,5,10,7,8,9,6,17,11,6,5,9,14,16,7,10,7,9,11,7,11,4,6,6,10,13,21,4,7,8,4,9,12,4,12,14,11,11,15,10,17,17,5,3,15,5,11,18,21,11,9,4,5,1,7,7,9,14,9,8,5,15,19,8,7,6,7,12,4,14,9,4,12,7,12,5,7,19,6,11,11,10,8,3,6,19,17,15,9,5,4,19,15,4,8,12,10,15,12,10,12,8,6,12,8,10,19,9,19,17,19,9,4,5,16,13,8,11,26,12,11,11,1,14,9,2,14,18,8,5,10,12,13,13,15,7,4,5,21,1,11,12,11,7,1,8,13,7,19,15,11,9,4,14,13,28,14,12,17,12,7,11,11,8,18,9,8,5,31,8,6,9,7,6,9,11,14,4,17,14,12,7,12,3,7,5,8,7,11,13,10,16,8,2,5,7,1,7,14,5,8,16,8,3,5,8,11,7,0,7,9,11,9,15,10,7,1,6,4,15,1,6,7,7,10,3,6,9,1,2,12,7,5,14,6,15,10,8,8,9,6,6,9,6,7,8,5,1,4,3,14,5,3,14,8,3,14,25,4,5,5,11,27,2,9,5,7,7,4,4,12,10,11,12,8,5,5,9,9,8,11,14,3,15,17,8,5,5,6,1,6,7,12,12,8,7,14,7,5,11,6,5,9,5,8,10,9,5,9,12,6,8,9,10,3,6,9,13,7,18,7,10,11,7,13,6,7,5,9,12,18,9,4,12,8,15,5,5,15,12,19,26,20,10,17,9,8,14,9,14,10,2,15,8,10,17,13,10,9,8,24,4,22,15,12,10,21,6,9,10,10,11,10,6,5,8,6,13,11,7,10,15,8,7,13,15,7,6,2,11,5,19,12,16,10,13,5,20,5,11,7,14,6,9,18,11,7,13,8,15,17,9,10,7,9,14,10,10,16,4,6,5,12,5,1,1,4,3,3,8,5,4,4,4,12,3,8,3,8,5,5,1,7,10,6,3,9,7,7,13,9,5,5,7,5,21,6,16,7,4,6,1,6,2,11,4,4,13,8,10,4,22,10,18,4,10,2,8,3,21,22,17,11,4,4,9,13,18,10,15,9,8,16,8,8,11,8,8,14,5,7,4,12,4,5,5,2,10,4,13,15,8,4,14,5,9,10,5,16,5,7,10,10,11,11,4,11,10,12,3,13,10,7,8,14,11,9,3,2,8,9,2,35,3,11,4,13,3,5,7,2,5,5,8,7,6,6,12,9,3,5,5,11,2,5,13,6,9,7,4,3,9,4,8,7,7,4,10,11,12,13,3,7,23,13,14,6,14,13,6,11,8,5,9,10,14,18,4,14,11,2,18,12,11,11,6,8,16,21,16,15,11,4,13,11,45,3,5,12,5,5,8,11,15,5,9,18,6,5,4,8,8,14,12,13,7,14,13,1,11,12,6,7,6,6,12,18,13,5,8,6,17,11,3,10,11,4,1,6,8,5,7,14,4,2,7,7,6,4,12,6,6,10,19,19,6,3,5,5,15,6,9,5,13,15,8,8,15,8,20,4,5,5,13,4,13,23,16,13,7,19,3,13,3,17,2,5,9,9,11,11,12,2,11,2,4,4,3,8,8,7,7,7,6,3,4,3,11,7,4,8,19,7,7,5,9,7,5,8,8,3,9,4,7,6,4,2,7,8,11,4,14,8,5,6,3,8,5,2,7,4,9,4,5,1,2,6,9,8,10,4,10,10,2,5,5,5,4,4,3,5,5,8,3,14,2,5,11,7,8,8,6,13,22,8,4,6,3,6,7,4,7,4,12,4,13,8,6,1,6,11,6,6,3,9,19,3,10,10,4,4,6,10,10,7,9,8,5,13,5,10,3,1,3,3,7,2,7,9,7,7,2,6,3,3,8,12,2,7,7,6,8,12,10,6,4,5,4,6,4,8,13,21,5,8,10,10,11,16,9,8,19,4,10,11,10,6,9,7,10,7,17,9,8,14,13,15,10,9,14,8,6,16,3,10,14,5,8,8,6,8,3,5,4,3,9,11,8,11,6,5,9,13,13,4,13,15,15,10,7,4,12,15,10,3,4,9,5,5,7,20,8,7,8,4,4,7,4,7,6,8,7,8,4,12,7,11,8,14,3,6,16,5,16,12,13,4,7,6,3,12,7,4,13,9,6,9,11,8,19,4,10,7,13,6,5,7,9,1,11,6,8,5,12,11,8,15,8,15,5,7,4,7,16,6,4,6,12,3,8,11,5,8,10,9,8,4,10,8,10,11,7,5,6,5,8,19,4,2,11,2,15,7,12,5,5,10,6,4,12,9,8,13,8,6,9,7,9,7,4,12,5,18,10,10,7,6,18,9,13,9,10,23,4,4,4,16,13,6,21,4,4,14,13,6,7,8,9,1,5,7,9,5,13,15,9,8,8,13,3,4,6,7,27,22,12,5,10,21,10,18,8,12,24,16,8,9,10,8,5,8,6,6,2,5,8,16,7,7,5,12,9,4,4,11,17,4,16,13,5,20,9,13,4,3,6,7,8,13,8,2,16,5,15,11,4,8,5,12,9,4,5,10,12,2,7,4,6,7,7,9,9,5,7,9,8,22,2,13,6,11,14,6,11,2,6,7,6,18,6,6,6,6,3,5,5,11,5,5,14,9,2,6,9,8,7,12,14,6,7,21,13,2,7,7,8,4,7,4,13,5,5,10,8,4,22,15,15,0,18,5,6,14,7,2,6,6,12,14,12,11,11,13,6,6,7,6,7,5,11,6,15,7,8,7,9,1,5,2,2,13,25,4,2,4,3,1,7,15,10,9,15,7,22,6,4,8,3,2,5,6,10,9,14,12,17,6,6,6,18,21,10,4,9,4,3,9,4,6,4,10,5,10,2,20,2,9,10,1,4,19,22,4,13,6,5,38,9,13,4,9,4,5,5,8,13,5,8,7,15,6,5,3,11,8,8,16,11,9,12,4,14,10,9,11,14,13,6,10,7,10,10,14,10,8,4,5,10,6,8,15,9,9,11,2,13,8,9,5,6,9,10,10,6,16,16,6,16,9,8,10,13,5,5,10,17,14,16,15,10,18,2,12,12,3,9,5,5,6,8,5,2,9,12,6,19,7,14,8,6,13,10,14,10,7,9,17,16,4,4,2,8,5,12,7,9,9,4,6,8,6,3,13,2,3,9,4,6,9,2,4,6,6,5,4,10,4,6,5,11,9,5,4,10,8,1,8,11,18,7,9,7,5,10,12,5,5,10,9,6,4,2,15,9,14,5,15,4,11,6,5,4,7,9,5,5,4,4,6,9,5,5,7,11,15,9,1,9,18,12,11,7,4,8,8,13,9,11,10,11,15,14,10,8,2,8,5,20,10,5,5,4,12,8,6,7,15,4,8,21,12,6,8,6,8,13,2,15,11,12,3,3,2,8,13,14,11,12,18,8,3,4,6,4,10,15,7,8,7,5,5,11,12,6,10,10,4,11,5,3,17,6,11,6,7,13,15,8,6,9,5,17,0,8,5,10,14,8,3,15,4,13,5,24,6,13,8,4,5,4,4,3,9,8,6,3,9,6,14,6,8,2,10,2,6,5,6,9,1,1,10,11,10,4,8,14,6,7,8,9,3,10,10,14,10,6,3,6,8,5,9,5,4,10,4,7,4,4,7,3,7,3,5,3,5,6,4,3,1,11,14,5,4,5,12,10,8,3,8,5,7,4,12,8,11,11,5,5,20,9,4,5,9,7,18,6,8,14,6,6,10,10,3,21,14,5,13,6,10,8,6,9,6,7,6,5,5,4,3,4,6,11,17,7,15,10,3,14,4,11,4,6,6,11,20,4,8,12,16,3,17,16,15,16,16,3,5,3,12,1,7,4,2,7,9,6,13,4,7,14,4,8,6,4,6,3,12,4,5,1,2,5,10,11,11,19,25,9,23,6,17,9,6,7,9,8,5,7,4,3,8,7,13,1,4,7,12,9,10,4,14,9,6,5,5,8,13,9,7,12,11,3,7,2,15,9,2,12,14,7,6,8,10,3,3,2,0,5,7,5,12,6,14,16,2,7,6,6,4,6,9,8,8,4,17,15,9,13,10,11,12,7,4,3,5,4,5,5,6,11,12,8,15,10,5,5,6,7,12,13,11,5,8,7,23,4,14,4,3,10,10,9,9,3,8,9,5,12,6,5,2,4,5,7,8,10,4,13,2,15,8,10,7,8,2,2,4,5,8,7,6,11,7,11,12,12,11,16,4,8,9,5,5,7,4,8,12,8,12,12,2,3,4,7,6,6,7,7,11,6,3,8,13,4,3,0,1,1,3,3,2,4,8,3,5,4,7,3,15,8,9,1,9,6,4,10,4,4,7,5,7,4,8,2,7,15,9,5,22,7,9,10,7,8,9,7,3,11,11,4,2,5,6,5,3,6,4,19,11,7,9,5,2,7,9,6,22,6,11,7,5,5,6,4,12,4,13,12,1,6,6,8,9,25,21,19,7,20,8,5,8,28,11,18,12,14,4,4,14,12,10,16,14,14,13,10,18,10,11,6,5,7,18,8,9,13,6,7,17,5,16,16,17,4,9,9,11,6,7,7,5,11,8,9,5,8,3,13,4,9,14,17,8,10,15,20,16,7,15,8,6,9,7,10,26,18,14,11,13,13,4,16,16,8,6,14,7,12,7,11,10,7,16,23,12,13,12,17,12,16,14,25,15,16,10,14,6,7,5,6,16,8,13,12,8,14,2,4,17,16,5,17,16,10,11,4,3,8,7,27,15,11,8,25,10,15,18,21,19,16,19,7,9,13,17,13,18,15,13,16,19,11,28,14,20,14,8,9,19,18,11,12,3,13,5,19,6,13,7,7,7,11,16,14,6,12,20,22,17,10,15,15,21,10,7,1,3,5,26,6,3,14,8,14,8,15,8,3,5,8,8,5,12,12,17,20,15,14,26,7,7,18,14,4,20,13,14,17,19,11,8,9,28,16,14,22,13,13,12,25,12,6,13,14,3,16,6,14,11,11,10,11,6,11,8,24,14,28,6,14,13,19,4,6,10,17,21,5,7,14,12,10,9,7,17,13,19,4,31,10,10,15,34,8,10,13,10,11,11,18,3,8,15,8,5,19,7,13,11,19,12,9,17,9,4,10,3,5,16,18,11,11,6,7,16,3,23,11,6,10,10,14,7,8,17,5,9,8,8,20,12,5,7,4,12,8,13,7,4,4,18,17,14,12,13,10,8,9,6,3,5,20,8,10,10,22,5,12,3,7,12,6,16,7,4,14,3,9,4,10,13,11,10,5,12,5,1,2,6,4,9,1,1,4,6,4,3,2,2,2,3,3,1,1,5,1,2,1,0,2,1,3,3,4,4,1,9,0,3,1,1,4,4,1,2,4,6,3,2,2,1,6,0,1,3,1,2,2,4,1,1,3,2,3,1,2,3,2,1,1,1,0,2,0,4,1,1,2,3,1,3,3,3,0,2,1,2,4,3,5,3,2,1,3,1,1,0,4,2,1,1,2,2,1,1,3,4,4,3,1,5,6,4,2,2,5,1,2,5,1,1,2,4,1,3,1,1,3,2,2,5,2,8,5,3,3,0,2,3,2,2,5,4,1,1,5,6,1,3,2,3,4,2,4,18,16,7,1,4,25,8,13,8,6,12,3,11,3,7,8,12,11,4,6,12,5,8,8,17,11,12,9,18,14,28,12,3,7,8,5,6,8,9,5,7,6,2,8,11,4,7,5,1,11,6,4,9,8,2,10,10,6,5,3,16,6,12,11,6,7,4,21,4,4,3,4,1,2,2,3,6,5,3,6,3,2,4,2,2,6,6,3,3,6,6,4,4,2,2,5,4,4,1,5,3,3,4,3,3,4,1,2,2,4,1,1,3,5,3,3,3,4,5,4,0,9,2,3,4,8,10,8,11,6,15,5,10,3,4,16,7,15,12,7,5,6,5,2,5,4,1,3,2,4,3,6,6,7,11,9,7,14,16,10,5,10,12,6,6,8,4,4,12,9,13,7,10,6,4,18,12,12,8,6,13,14,2,3,5,8,14,11,7,7,19,1,11,6,7,17,7,9,6,9,9,6,8,11,11,8,11,4,8,17,10,14,16,4,12,8,22,6,12,13,11,6,7,8,8,8,10,9,8,19,12,4,8,7,5,3,11,6,9,10,16,20,4,6,4,17,14,7,6,6,6,9,8,12,13,5,5,11,9,9,5,16,5,6,2,10,4,7,12,3,14,23,8,20,22,7,12,4,7,15,10,14,7,7,6,2,17,10,12,9,9,12,12,10,10,4,2,3,3,8,4,8,9,8,8,11,19,11,10,11,10,4,5,4,10,11,11,11,9,24,4,6,10,17,10,10,8,10,6,10,3,7,28,9,5,9,10,1,4,8,10,4,11,14,15,4,4,10,7,16,6,7,22,15,20,15,15,7,6,6,11,11,6,27,13,18,4,9,2,9,6,8,5,21,16,12,2,12,11,8,8,10,9,7,13,10,8,15,9,8,13,18,7,8,23,9,9,3,9,5,16,18,4,5,14,16,9,9,17,5,14,9,26,12,8,6,7,4,10,5,12,3,6,6,10,7,6,7,7,4,14,6,13,5,13,7,5,12,4,2,6,4,11,15,8,9,14,8,8,6,12,7,7,7,10,7,10,7,5,8,16,5,20,5,10,13,12,9,11,8,18,11,13,8,20,21,5,15,11,6,12,6,1,6,6,15,11,6,10,15,8,9,10,6,7,8,5,15,10,16,15,6,14,11,12,21,12,16,11,17,12,7,12,25,5,6,9,12,6,16,2,15,3,22,24,11,19,9,9,7,6,8,15,13,16,9,17,12,14,5,7,4,3,5,12,13,17,7,15,15,14,25,14,11,4,5,7,8,11,9,11,9,8,8,23,6,12,13,18,5,8,21,15,11,8,11,10,7,13,14,14,5,11,7,11,6,10,8,7,11,5,10,8,5,7,11,8,9,17,9,11,3,13,9,9,13,6,9,4,7,3,9,9,13,5,7,9,10,10,4,14,3,7,3,5,4,2,12,9,14,9,8,9,2,6,10,5,9,11,7,5,7,7,9,5,1,4,5,11,2,4,4,8,10,12,6,14,9,8,15,10,7,8,10,12,13,5,21,7,5,7,5,12,11,8,9,14,15,9,17,9,6,13,11,6,8,19,18,8,4,14,18,24,9,11,11,13,19,25,13,13,9,11,10,15,11,20,10,15,15,6,7,11,14,14,8,7,14,7,10,16,18,6,9,11,2,9,5,11,11,17,12,20,4,8,12,12,26,10,16,13,16,15,15,16,17,8,14,13,6,18,15,14,15,14,11,11,25,15,9,24,11,14,9,18,8,9,22,13,11,32,20,10,10,14,16,7,11,1,15,11,10,13,13,16,7,16,10,14,14,7,9,4,16,8,21,14,10,33,12,8,45,7,7,14,13,3,11,5,9,12,22,15,7,15,11,11,20,6,9,5,17,2,3,12,8,25,26,6,12,15,12,12,16,7,12,12,13,8,8,8,5,6,7,9,14,12,14,15,18,19,13,14,8,11,20,18,11,27,12,19,17,22,23,17,9,9,9,11,9,21,7,9,7,7,6,13,9,13,11,21,15,13,16,3,14,22,24,12,19,19,9,7,12,16,9,10,11,9,18,9,8,21,19,20,12,10,23,18,21,14,25,8,8,9,9,7,22,21,7,22,20,12,7,9,22,17,13,6,15,14,14,7,10,12,16,7,13,7,27,9,13,16,21,10,12,8,19,7,9,55,17,14,11,18,12,15,20,8,14,5,18,15,14,16,8,7,10,20,12,13,19,12,25,16,12,14,5,11,6,1,11,10,6,6,6,7,10,15,27,13,7,14,10,9,12,8,6,7,21,11,10,9,14,10,7,14,9,8,3,11,19,6,18,11,7,6,7,18,14,13,21,46,8,8,11,14,17,10,1,0,1,4,1,1,4,3,2,2,1,2,1,3,3,2,3,2,2,6,4,6,2,2,2,2,1,0,1,1,2,2,3,0,3,1,0,0,1,5,3,4,1,1,8,6,4,7,3,4,8,0,3,4,8,0,5,1,2,1,4,5,2,2,2,1,6,6,0,2,4,0,6,2,0,0,0,4,3,1,1,2,0,3,0,1,2,3,1,4,4,0,4,2,2,3,2,5,5,2,7,4,2,10,0,5,2,1,3,1,2,5,2,7,1,0,1,2,11,6,3,5,2,3,1,4,7,3,4,5,6,4,8,2,5,6,5,3,4,6,3,3,3,3,3,3,4,5,5,3,2,4,3,4,3,2,2,2,2,1,1,4,5,2,0,7,5,3,8,6,0,7,6,2,7,3,4,12,5,8,9,12,6,5,6,4,2,11,8,12,12,2,9,9,11,11,15,5,11,5,2,6,8,6,7,6,4,5,11,2,2,15,2,4,7,6,6,6,16,9,3,10,6,5,4,6,7,4,5,14,4,8,8,24,2,9,8,8,2,2,2,5,25,18,14,2,5,9,9,7,6,3,4,9,3,5,10,7,4,0,0,4,3,4,1,3,2,8,3,4,5,0,6,7,5,0,8,2,4,11,0,3,6,1,6,2,2,6,0,1,2,6,4,1,3,7,2,2,2,2,10,9,4,2,2,1,7,2,4,3,4,3,2,4,11,2,2,8,3,6,2,1,2,1,2,5,2,3,4,2,6,7,4,3,3,2,5,5,1,5,2,6,3,7,5,4,6,1,5,7,9,3,9,2,5,2,3,3,6,0,3,6,4,5,2,2,5,2,7,8,3,7,2,3,7,2,1,4,2,5,11,3,3,5,4,3,3,7,6,4,9,5,4,2,6,4,1,1,1,5,8,4,4,5,5,4,3,3,1,3,8,1,3,2,1,7,4,9,6,4,6,2,4,10,2,13,6,6,3,3,12,3,22,2,5,9,7,5,3,3,2,3,4,13,9,4,5,7,6,5,4,5,7,0,3,1,7,6,7,1,6,10,11,3,15,11,4,2,12,2,7,17,2,3,8,10,7,7,6,2,6,3,4,5,1,1,1,10,3,9,4,4,2,3,4,3,2,3,4,4,2,1,5,4,5,4,9,4,2,2,0,3,2,9,3,3,3,2,3,2,3,3,1,9,6,3,4,1,5,2,4,5,7,13,2,7,8,3,1,5,3,10,4,3,2,6,12,6,0,2,7,8,7,5,3,2,4,7,4,6,5,4,2,5,1,6,5,2,6,2,5,7,3,8,4,8,3,3,7,5,5,3,5,3,4,10,10,3,3,3,8,2,2,4,5,5,5,12,8,6,7,2,8,3,9,4,2,5,3,3,2,1,4,3,9,1,6,1,6,3,7,5,7,6,4,2,7,4,10,3,6,15,7,3,2,4,2,5,2,9,3,5,10,3,3,8,2,3,5,4,3,4,6,8,8,4,7,2,3,2,3,7,7,4,5,3,8,4,12,2,0,2,4,7,3,2,3,3,5,4,3,4,2,1,2,4,1,3,0,0,3,1,3,3,2,4,2,0,1,2,2,2,2,3,1,4,2,1,1,4,3,4,4,0,6,6,4,3,2,7,4,5,12,1,7,1,1,1,6,1,10,4,0,5,1,8,2,3,11,3,2,12,9,20,15,13,11,4,18,4,2,14,9,6,12,2,12,3,9,5,10,5,7,5,6,7,8,6,4,14,15,7,5,10,4,9,4,5,11,6,8,11,18,2,8,11,8,9,5,7,10,8,8,6,6,4,9,8,8,9,11,9,10,7,16,6,6,9,10,6,2,10,13,6,9,7,8,13,34,14,3,9,4,6,10,11,4,8,5,7,11,15,5,6,14,12,9,12,12,13,15,4,15,18,12,18,14,7,4,7,10,9,3,10,6,16,13,9,5,7,7,5,6,3,11,8,14,6,12,4,15,6,4,5,4,6,10,6,13,15,9,11,5,10,6,13,4,4,4,8,8,7,4,3,2,7,8,9,5,17,8,3,9,9,10,2,6,6,2,2,2,5,1,3,6,6,7,7,11,5,7,17,13,9,7,8,12,8,11,11,9,11,4,10,24,7,5,6,6,11,29,13,9,36,13,22,17,12,15,7,8,20,10,5,9,11,4,6,10,3,3,4,24,9,9,8,15,10,6,26,7,3,8,3,18,11,5,10,11,11,5,17,11,6,8,17,16,8,15,8,22,7,9,4,6,8,11,8,10,13,12,16,6,6,8,15,9,18,13,9,8,14,5,10,10,11,19,18,8,5,10,7,13,6,8,5,10,17,8,14,9,7,14,8,11,9,14,5,17,4,4,14,9,18,8,5,6,7,4,4,4,14,7,6,6,6,1,3,2,2,3,0,2,2,0,0,1,3,4,6,1,2,2,2,0,2,4,5,5,2,1,2,1,2,1,2,4,2,1,8,10,7,0,4,3,4,1,2,0,4,4,1,1,5,3,2,5,4,7,2,7,7,1,3,4,2,3,11,0,1,1,4,5,1,4,3,1,1,1,4,1,4,3,3,3,4,6,1,2,6,3,5,1,3,2,6,1,1,2,4,3,3,8,6,5,2,2,5,1,4,1,4,3,1,4,2,5,3,5,3,2,7,3,2,6,4,6,5,2,2,2,3,2,9,7,3,3,5,2,2,2,2,3,3,5,2,7,1,7,3,4,2,3,2,3,2,6,7,1,2,4,5,6,6,3,7,3,3,3,2,3,1,15,7,4,7,4,5,6,3,8,6,3,1,4,4,9,4,6,2,4,5,3,4,7,5,4,8,6,3,1,4,1,4,3,3,7,7,2,5,8,5,4,5,7,6,3,2,6,7,5,3,3,4,9,2,3,3,3,6,3,11,10,9,7,5,2,5,2,9,8,3,7,6,10,6,2,5,2,5,3,7,3,2,4,9,3,5,1,3,5,4,1,1,1,4,1,1,3,1,3,0,1,1,5,5,0,5,3,1,3,1,4,4,2,7,4,1,1,2,4,1,0,2,4,3,2,4,5,5,1,4,2,5,5,5,3,3,4,6,12,13,6,4,1,2,5,5,2,6,3,2,2,3,4,2,2,2,10,2,14,6,8,2,5,8,4,6,4,4,3,1,7,2,1,4,2,4,4,4,4,2,2,2,7,6,8,4,3,1,3,3,3,5,5,1,2,6,3,2,6,4,5,3,6,7,2,4,3,8,4,9,2,5,12,7,0,4,7,8,5,8,4,3,5,2,2,4,6,5,10,0,3,4,9,6,3,9,2,4,4,10,0,2,3,1,4,5,6,4,9,1,7,2,1,3,2,3,3,5,6,8,10,4,6,4,5,4,2,0,11,6,5,6,2,0,6,4,4,3,7,5,2,14,3,3,1,0,0,4,5,0,9,6,3,4,12,3,2,3,3,9,7,3,8,4,2,1,7,1,4,2,6,4,6,2,3,4,2,2,1,2,4,9,4,5,5,3,2,2,1,3,5,7,6,5,7,4,3,5,0,3,4,7,4,2,9,1,4,5,6,2,8,2,9,6,7,3,3,4,0,14,5,5,4,5,5,4,12,3,7,0,11,4,10,8,9,9,3,5,8,9,7,13,8,9,6,6,2,8,3,3,6,1,5,8,2,3,6,2,2,1,4,5,2,7,4,7,3,5,7,3,2,2,0,3,9,3,0,1,0,4,6,3,2,7,3,13,3,5,6,13,5,5,5,12,1,13,4,6,6,0,2,7,37,13,2,1,2,7,12,5,3,5,5,8,5,10,2,1,4,6,5,14,12,2,0,0,2,5,0,5,1,4,10,10,4,3,10,4,1,2,4,13,4,2,9,0,0,1,2,1,3,3,13,2,2,3,3,2,1,2,3,3,3,15,2,2,13,2,1,3,0,3,7,11,2,0,7,7,13,5,11,12,3,0,1,5,7,3,4,3,4,4,6,4,3,7,3,3,4,3,5,5,3,2,8,7,5,5,4,2,3,3,4,4,3,7,8,2,0,6,6,3,5,3,5,11,6,5,5,4,4,6,10,11,3,2,7,8,3,6,12,4,3,1,2,1,5,10,10,2,7,3,6,8,4,4,3,2,1,6,5,2,9,2,3,6,2,3,3,14,4,0,6,3,5,4,4,4,2,2,3,1,4,7,11,6,6,2,0,1,2,11,10,14,16,20,9,2,16,20,13,7,11,11,24,13,20,15,24,21,22,36,33,11,23,25,15,9,6,10,12,18,11,9,16,19,14,19,6,21,20,18,14,5,6,12,7,18,5,14,7,5,6,8,12,8,22,17,10,20,8,15,25,8,26,3,8,12,4,18,11,4,7,11,13,9,16,22,28,14,10,11,29,14,11,15,18,19,15,15,24,14,13,13,16,28,6,10,6,12,11,6,9,16,15,6,8,16,9,6,11,8,16,10,20,24,12,11,9,20,21,12,11,16,14,7,13,19,7,12,37,14,24,17,4,12,14,12,9,9,11,8,10,19,7,18,13,10,16,22,12,15,9,21,28,10,5,37,8,22,22,13,14,21,6,14,10,18,16,32,16,12,8,14,4,16,12,8,11,22,29,26,18,16,14,25,13,14,17,1,8,8,19,26,15,32,30,14,13,16,28,7,16,12,14,8,10,12,8,24,24,8,13,7,13,9,8,11,8,4,4,7,7,7,9,7,13,16,16,7,10,10,14,3,10,13,14,10,18,15,12,29,15,17,21,10,21,15,9,11,10,17,16,17,18,7,16,17,18,17,16,18,6,15,13,14,9,8,12,28,22,29,19,16,16,10,8,13,14,12,12,10,9,29,10,11,8,26,16,8,13,14,13,15,7,17,19,11,15,6,9,15,6,12,15,18,7,24,12,6,16,29,24,11,18,26,9,21,23,17,12,12,18,12,13,35,14,12,11,11,9,12,6,24,15,19,20,10,17,13,4,20,17,5,24,10,6,12,10,8,10,14,12,9,11,6,16,4,16,13,13,16,14,19,6,7,9,6,18,9,23,7,5,17,8,10,13,2,12,14,7,7,10,14,16,27,16,5,11,19,9,4,17,7,11,9,8,18,8,9,5,12,10,18,8,12,6,6,12,7,7,16,16,13,16,6,8,7,15,8,17,10,6,5,4,6,6,12,16,8,13,5,11,16,22,20,11,35,19,13,23,19,10,16,13,10,11,13,7,23,11,22,11,7,26,14,15,27,21,16,15,22,18,18,12,10,6,26,12,5,15,9,12,9,16,11,14,6,13,14,8,2,18,15,26,11,10,14,13,38,12,24,11,6,8,19,20,21,22,16,34,18,10,15,19,17,19,25,21,17,18,6,10,8,4,17,9,21,15,19,24,18,9,14,4,10,6,12,11,18,13,8,2,9,19,9,6,10,9,18,12,20,25,17,8,10,33,4,25,6,20,13,12,20,13,15,23,22,20,20,25,19,6,8,6,23,15,3,12,11,13,26,15,10,11,14,22,19,8,12,8,12,5,8,32,20,15,9,19,13,7,8,14,9,30,27,19,11,11,12,5,5,8,13,5,6,18,21,13,9,16,6,13,17,21,10,19,19,24,21,13,22,18,26,13,11,17,14,15,10,8,5,19,7,12,10,11,7,22,19,7,19,22,17,5,12,14,26,15,22,17,7,11,11,19,14,13,15,15,19,11,10,12,24,21,19,15,13,21,14,14,8,8,15,12,26,14,7,6,17,16,12,8,8,17,25,12,50,15,16,12,15,19,15,19,24,15,22,4,16,28,11,6,14,26,22,21,20,12,17,12,29,21,16,19,9,12,34,20,12,24,17,2,16,26,11,13,17,21,8,14,5,27,9,12,15,6,26,18,27,40,15,20,8,12,18,6,17,11,18,6,6,25,14,12,13,9,11,17,14,16,6,30,15,20,23,26,9,14,17,20,24,14,13,27,19,19,21,22,19,23,12,30,4,16,11,15,28,26,16,14,7,6,7,14,10,23,29,14,7,12,12,9,7,27,20,32,8,13,20,20,20,14,14,18,4,19,5,31,7,9,25,13,8,16,15,15,10,18,11,11,12,12,20,29,10,18,15,18,23,11,31,5,15,26,21,8,4,3,13,7,19,21,14,12,11,21,9,23,13,14,11,7,24,29,10,15,42,16,4,7,24,7,11,8,11,20,13,13,18,19,25,12,13,17,19,15,19,11,24,13,17,12,15,36,12,28,13,6,14,7,9,11,7,9,8,6,4,6,7,24,19,3,10,4,10,6,14,8,5,17,17,8,9,12,12,10,9,9,10,19,11,19,9,9,16,14,11,26,4,3,12,14,14,10,8,13,12,27,29,8,25,20,10,8,17,23,48,17,10,13,19,15,21,24,19,6,20,26,12,27,9,12,19,30,13,16,28,30,17,11,12,15,14,22,14,11,24,21,14,12,17,18,35,9,10,15,10,20,34,20,18,14,17,4,23,4,27,11,9,20,12,13,6,20,16,5,5,13,15,14,17,8,13,15,6,20,5,8,19,10,9,11,11,16,17,12,8,12,11,16,11,3,6,29,5,8,8,9,24,4,11,5,27,16,18,12,32,11,9,12,13,24,4,13,17,46,11,6,23,33,4,5,6,4,2,13,4,8,8,4,17,18,2,8,10,25,9,9,16,19,8,14,23,41,6,15,9,11,24,16,4,60,12,13,13,17,27,6,18,14,14,22,9,8,11,10,6,13,9,23,13,15,12,21,26,8,18,9,6,5,20,7,3,17,2,5,6,3,21,24,14,21,15,21,8,4,24,15,12,24,6,12,10,9,3,15,9,15,10,14,16,11,24,15,25,26,12,17,9,12,14,17,11,14,7,9,10,7,21,5,8,4,6,3,6,12,6,14,4,5,27,6,11,16,6,20,13,20,12,11,18,23,15,25,38,6,4,9,6,7,8,4,11,10,6,8,12,8,6,7,17,26,5,5,12,10,10,36,33,10,11,8,23,13,20,6,11,9,11,8,7,8,14,9,12,15,15,3,3,13,13,9,10,10,6,29,15,14,13,29,19,28,13,11,16,13,4,2,17,30,16,22,20,9,33,10,19,12,57,20,9,10,11,22,4,10,17,10,26,7,10,22,15,9,17,28,19,10,8,9,4,9,14,10,35,12,23,32,11,10,11,17,5,7,15,9,32,15,31,27,18,13,17,2,21,32,26,15,12,19,21,42,22,32,19,4,14,27,12,11,27,6,7,5,15,8,26,7,12,9,18,10,9,4,33,17,10,8,22,8,5,10,16,9,6,20,21,12,15,13,20,6,24,27,19,9,6,18,31,3,19,3,22,30,12,15,6,9,17,20,18,18,19,22,18,22,12,30,15,8,8,10,14,8,5,13,3,17,9,12,11,18,11,4,9,10,27,13,5,4,28,23,16,17,17,24,11,17,20,19,7,13,16,19,8,13,9,17,16,6,3,7,34,21,4,15,9,16,11,17,30,30,5,7,3,20,10,14,6,5,19,9,5,18,6,13,7,28,18,12,7,23,6,10,22,29,5,19,8,18,11,11,8,2,13,14,7,4,8,7,4,9,22,1,29,12,21,7,7,6,14,22,8,3,12,24,6,3,7,10,3,7,8,8,10,14,20,24,6,8,5,8,6,18,12,19,9,14,6,3,4,3,6,7,18,10,4,6,6,14,5,8,7,23,13,13,7,22,18,3,11,20,5,14,12,10,17,52,6,13,10,22,9,5,13,15,10,9,15,5,9,7,13,4,10,5,6,24,10,10,8,10,17,10,10,14,6,6,8,11,8,14,9,6,5,10,14,7,13,10,7,15,22,14,8,29,9,1,7,13,12,4,11,9,17,6,9,4,12,10,11,3,7,6,7,8,7,10,5,14,7,6,20,18,15,6,11,7,8,7,8,18,10,11,18,12,23,7,22,4,13,6,6,9,16,12,20,8,13,10,17,8,26,3,11,9,9,13,7,5,14,8,9,5,7,12,5,7,9,5,8,12,11,5,21,20,8,22,12,5,36,8,26,15,10,6,17,26,13,7,10,11,5,19,6,9,19,29,12,14,7,12,13,11,31,5,22,10,7,22,17,20,6,22,9,9,13,11,19,5,6,18,20,5,10,6,5,22,10,10,17,10,21,17,14,12,14,3,4,5,5,12,11,10,17,2,3,7,6,4,30,7,7,20,8,9,5,2,9,15,9,4,15,7,9,6,9,9,6,6,9,26,6,15,9,5,10,22,15,23,22,21,20,33,6,23,17,8,13,12,18,11,15,13,10,11,10,2,11,16,12,14,31,10,14,16,25,7,16,5,12,5,10,9,14,8,11,12,8,6,14,15,7,6,5,5,16,9,26,4,4,5,1,15,7,22,10,26,3,15,24,4,17,15,11,5,12,4,21,18,11,11,17,27,19,32,41,5,13,31,7,13,7,11,16,19,23,14,17,23,22,7,9,16,20,22,20,23,7,6,12,7,34,7,12,13,10,5,30,11,19,6,14,27,6,13,13,11,18,8,8,23,20,9,32,20,16,39,11,15,17,29,14,26,22,27,22,19,13,19,8,12,15,12,12,23,22,18,34,14,19,7,23,13,5,2,16,14,18,12,15,9,16,7,5,3,25,13,16,16,23,13,11,29,10,24,7,11,4,11,8,16,18,15,11,13,17,8,3,4,11,5,13,13,4,3,5,18,30,17,15,16,47,10,8,11,10,5,3,1,5,4,7,5,19,16,17,8,39,7,8,3,9,10,14,4,6,3,18,12,13,12,2,20,13,9,11,5,15,21,23,11,10,7,5,7,24,7,4,15,18,21,16,10,29,11,23,8,10,14,13,14,1,21,22,16,12,11,16,4,8,17,6,2,20,12,4,10,4,15,32,21,24,13,30,16,11,24,13,4,14,21,20,17,17,21,11,7,19,11,18,20,7,11,10,4,8,2,15,6,10,4,16,12,13,4,6,10,24,9,7,13,16,9,2,9,6,13,5,10,1,5,8,4,11,8,7,20,15,9,22,13,9,13,5,11,14,9,13,14,13,5,15,11,17,6,11,14,7,8,9,16,11,18,14,10,11,5,17,4,20,10,8,12,10,14,23,11,6,18,7,17,11,19,16,5,12,9,6,16,11,19,6,4,12,22,5,5,10,10,28,13,16,10,9,9,15,4,10,12,10,10,11,6,6,7,6,2,12,6,12,4,11,6,4,4,7,9,4,8,11,6,21,17,7,11,10,7,6,6,6,6,9,4,14,7,35,31,13,6,7,4,6,7,11,5,11,5,11,7,15,6,5,4,9,11,6,4,17,8,5,10,10,11,13,4,6,4,3,11,21,24,11,10,3,2,2,5,9,15,3,13,4,9,21,6,8,17,16,11,14,8,7,4,2,12,16,13,11,15,19,7,9,15,8,3,16,8,3,3,10,16,6,7,27,8,1,3,1,4,8,8,3,17,14,44,20,7,18,21,16,12,39,6,7,4,29,4,24,4,20,24,2,6,7,19,8,9,7,14,14,27,6,23,19,20,20,24,12,19,9,8,27,9,26,11,16,3,7,3,20,20,8,12,10,8,7,7,9,7,4,10,3,8,1,0,10,8,8,23,10,10,5,9,5,10,6,17,4,5,19,7,6,18,7,11,4,14,19,7,13,10,5,9,10,3,4,4,9,9,4,15,18,17,14,19,7,46,8,11,14,16,9,8,62,12,37,5,31,7,10,3,30,13,8,10,8,22,13,8,11,2,23,17,15,10,7,7,11,7,7,10,8,11,9,5,5,7,15,18,16,6,7,13,5,10,9,3,7,17,6,19,8,7,8,4,14,1,12,22,14,5,20,7,8,8,6,4,3,3,25,11,7,24,3,6,16,30,13,19,25,9,16,9,18,11,1,3,12,4,9,5,5,11,3,3,3,4,6,4,6,21,8,13,6,16,7,5,7,22,14,4,9,4,15,13,22,17,6,28,15,12,16,14,11,5,7,3,4,2,10,18,12,3,10,5,14,6,6,8,5,19,0,4,4,16,6,13,13,6,10,18,10,6,2,9,11,19,11,15,6,4,12,5,15,24,17,7,29,8,25,12,13,12,19,13,27,7,10,24,6,10,4,7,25,6,4,14,4,7,6,6,21,6,21,22,4,17,12,5,5,11,19,17,12,12,6,4,9,34,19,17,13,21,7,7,18,9,13,12,10,6,5,13,16,3,6,15,17,7,7,7,5,19,32,14,11,7,25,19,21,11,24,9,10,13,15,15,7,7,11,7,8,5,4,12,6,24,17,4,27,4,14,15,9,15,21,12,11,4,15,4,8,10,16,14,4,19,12,16,7,6,4,5,7,9,13,16,15,14,7,7,16,4,4,9,3,1,10,8,28,20,25,24,28,4,10,1,19,10,7,20,22,22,22,18,16,10,7,3,43,9,4,5,15,37,10,10,4,10,11,4,15,16,7,20,16,8,12,6,6,10,19,10,27,6,18,9,8,4,19,6,11,15,28,5,13,6,9,7,37,18,10,5,8,7,3,21,19,33,21,24,14,34,15,10,8,14,17,8,4,4,28,11,8,12,20,17,8,27,18,12,10,17,11,12,17,6,6,5,18,16,4,3,4,7,16,3,5,9,12,14,15,19,4,4,3,13,10,7,26,13,12,12,15,8,10,8,6,13,12,18,17,13,20,5,21,7,9,3,10,3,4,15,6,7,8,9,6,11,13,6,14,9,1,21,14,16,32,18,16,19,16,11,6,7,3,5,26,23,16,7,7,8,13,7,12,12,11,14,10,7,9,9,10,11,5,19,14,8,4,4,7,12,5,10,15,9,7,8,8,2,6,14,2,6,6,6,10,20,16,13,23,11,15,12,12,14,9,13,16,10,15,12,12,10,20,19,33,19,21,5,23,15,24,5,14,9,5,8,14,13,15,7,15,7,19,5,5,17,6,18,26,17,6,14,8,3,45,5,3,23,35,6,17,7,25,2,9,15,24,29,27,7,14,42,0,7,6,6,9,10,9,14,5,24,11,11,9,11,6,32,8,12,10,6,5,19,12,26,5,21,22,21,14,9,25,24,36,18,9,7,4,18,9,9,4,7,4,14,13,17,16,8,26,24,14,6,10,19,6,17,17,19,11,8,26,21,9,19,18,19,6,9,12,21,24,20,10,31,10,9,4,11,27,17,16,23,8,21,11,10,26,20,15,5,5,4,17,17,7,16,19,21,10,5,23,5,6,17,55,29,18,4,19,7,8,5,13,30,11,3,11,11,4,9,10,8,14,18,4,13,10,11,24,12,28,16,7,15,11,36,30,19,13,5,32,26,15,12,2,6,29,9,18,3,7,17,18,22,3,9,19,21,22,68,23,21,14,13,3,33,6,5,5,17,14,8,14,5,2,10,7,2,17,26,4,6,7,6,10,19,12,10,12,18,20,11,16,12,21,10,5,14,20,10,24,6,35,16,28,7,29,28,25,23,26,17,21,15,17,10,13,15,11,18,6,34,16,7,13,5,2,6,10,11,10,6,10,9,28,3,9,14,15,9,9,11,19,4,7,5,13,20,7,17,29,8,26,18,18,17,13,25,16,11,21,40,15,33,23,23,12,6,29,5,13,21,3,6,12,9,14,13,5,35,5,22,5,8,8,3,7,1,9,17,16,14,8,4,4,9,2,5,4,15,9,8,7,8,4,10,7,25,17,9,12,9,27,17,13,5,19,19,32,12,21,12,12,12,4,11,20,19,13,13,5,7,12,9,20,18,20,28,6,4,7,7,10,15,4,31,18,17,6,4,7,6,21,11,8,2,5,9,6,23,8,8,7,3,5,4,4,13,5,1,8,4,20,7,13,10,7,5,4,8,3,24,5,5,14,13,17,13,4,8,6,18,23,18,35,10,16,10,13,18,6,16,8,12,7,8,7,9,12,4,7,2,13,5,7,11,17,16,10,28,6,4,24,15,21,17,14,1,10,18,17,15,8,12,6,6,33,30,20,16,12,6,15,13,9,14,6,4,10,3,13,12,16,15,12,27,15,9,6,4,6,5,17,5,5,11,15,31,22,26,18,16,25,15,12,8,35,10,8,19,11,15,5,5,30,14,38,17,7,3,2,10,8,8,9,24,6,9,16,6,5,4,6,7,10,9,7,10,14,2,10,17,21,11,13,9,8,14,11,16,10,7,4,26,21,8,24,18,15,15,5,5,16,2,10,7,26,29,7,16,8,6,18,34,26,29,13,33,31,17,20,15,6,19,16,12,12,15,15,28,21,7,8,14,10,7,6,9,7,11,11,11,3,17,16,14,11,35,19,19,6,4,9,16,22,11,19,28,23,15,10,17,9,4,2,7,5,6,11,12,14,25,20,29,6,4,3,20,15,7,29,21,10,9,7,7,35,6,7,19,20,6,12,4,12,17,9,2,2,4,13,7,7,4,10,11,3,5,6,24,8,20,10,35,41,12,22,23,8,26,6,11,13,9,10,11,7,20,33,15,18,11,17,28,33,13,14,28,20,15,39,17,12,5,13,10,11,11,8,16,4,12,8,13,12,5,13,8,17,6,13,9,3,11,6,2,23,9,6,19,13,18,2,27,7,8,29,14,23,6,7,13,8,13,9,16,11,13,10,17,19,11,19,8,7,31,7,7,31,12,15,12,22,21,7,38,13,10,5,28,24,31,34,11,28,21,8,12,13,14,8,13,19,23,16,17,9,37,22,26,8,7,16,32,6,18,41,7,26,16,13,12,16,45,14,12,17,25,7,18,2,7,6,10,7,17,15,10,4,11,35,19,10,18,16,26,6,28,4,32,14,49,4,6,5,34,19,12,23,10,10,15,13,10,16,4,20,16,7,4,16,9,25,14,5,40,50,14,20,31,5,8,11,22,33,4,9,14,15,2,5,22,5,5,5,7,2,10,16,10,7,18,4,33,9,6,15,3,6,13,12,5,16,10,11,5,8,9,3,4,4,20,5,5,17,14,7,14,9,13,8,14,4,17,17,2,4,19,20,16,7,14,7,28,20,9,10,15,10,3,0,7,22,8,17,9,11,17,5,48,11,4,12,7,6,14,17,10,15,16,18,38,22,3,7,11,22,18,15,3,3,10,9,6,4,23,9,14,12,19,31,19,29,22,14,12,6,8,13,12,19,12,31,24,24,24,16,28,20,28,40,6,19,24,33,35,7,10,14,16,5,15,18,22,14,11,16,20,13,16,9,21,10,25,18,7,3,18,6,9,3,4,7,24,3,12,28,6,6,32,27,15,31,31,24,20,12,7,14,17,25,27,18,17,23,20,13,21,17,36,14,22,21,11,10,23,36,20,12,22,15,2,9,18,10,9,18,12,2,5,10,12,17,9,19,11,24,6,10,24,19,19,3,9,5,7,8,3,17,8,16,7,13,4,3,11,22,25,15,5,10,17,22,18,4,4,15,25,18,21,17,14,1,27,10,7,9,24,24,29,11,5,21,18,7,8,5,11,6,2,5,9,7,17,16,28,6,40,28,16,21,24,14,8,7,6,18,22,10,20,10,15,13,36,11,1,29,20,5,3,15,16,23,20,8,18,32,39,4,7,3,24,5,24,7,14,16,10,17,18,5,12,20,6,13,13,3,32,13,8,6,4,14,32,13,7,14,10,17,27,10,15,7,16,9,19,16,37,5,17,33,6,4,14,22,24,14,10,14,8,35,24,6,14,22,10,9,18,12,25,20,12,5,48,5,16,13,18,4,23,5,15,16,16,8,11,20,16,11,6,4,19,6,7,10,10,3,4,7,6,15,20,15,31,27,19,17,11,15,12,14,18,29,6,11,7,13,11,12,10,20,35,9,20,17,29,10,6,6,6,13,12,13,3,8,6,12,14,26,21,23,17,20,15,24,15,24,34,17,31,8,4,8,8,5,8,19,8,6,4,9,12,13,4,10,9,9,8,3,8,12,17,30,18,33,31,10,28,34,8,23,19,11,11,16,14,25,19,12,6,17,12,18,22,14,14,7,18,11,35,27,15,17,6,9,16,12,8,15,5,8,9,27,11,4,19,4,6,26,12,9,21,5,7,3,8,9,5,4,13,4,8,4,23,12,6,6,10,12,15,18,15,8,17,14,4,4,8,23,13,3,9,3,25,41,24,17,32,33,16,13,10,8,10,17,14,9,9,14,11,20,9,13,12,9,19,7,20,14,20,5,11,7,20,8,15,35,15,12,7,30,6,25,10,10,13,13,17,16,19,14,17,27,16,25,19,7,31,16,23,27,21,15,21,17,18,10,6,6,14,24,26,10,16,25,21,8,11,25,5,21,16,4,14,14,17,28,14,17,21,11,12,10,19,7,8,10,18,16,5,12,6,7,17,17,4,14,16,37,6,9,15,15,9,18,10,30,9,4,5,34,2,9,7,8,19,18,5,24,8,10,7,7,2,11,2,28,5,18,10,7,19,5,2,18,17,6,8,16,9,18,32,11,23,4,12,3,8,10,12,5,5,7,7,6,15,35,7,12,17,7,25,5,20,24,11,24,11,3,13,8,6,3,12,5,7,4,13,14,10,29,14,14,5,22,17,21,14,26,11,10,7,16,4,14,9,3,30,12,6,8,7,11,12,10,15,5,4,6,11,2,8,12,11,13,7,7,10,7,14,29,12,4,9,14,10,14,12,33,5,12,13,23,14,16,7,17,6,9,18,11,7,11,12,5,8,9,42,31,16,20,24,25,17,20,13,10,10,14,16,5,20,16,14,18,10,11,3,7,9,10,7,10,10,13,23,10,3,13,4,6,14,14,14,13,7,17,11,14,7,7,7,4,3,6,7,8,5,4,8,9,6,13,9,6,5,10,8,5,5,8,4,11,2,10,6,3,8,8,2,9,2,12,13,6,20,10,18,15,15,12,34,15,21,39,27,14,17,19,13,8,21,16,5,7,6,13,19,16,8,19,17,16,10,5,19,15,2,13,8,13,7,5,5,13,9,4,5,2,7,6,25,7,13,13,17,19,10,5,9,15,7,26,7,9,7,18,9,27,13,28,30,17,20,25,10,17,9,9,25,9,16,35,23,9,9,13,16,18,32,19,11,16,18,23,33,13,11,26,5,13,9,14,21,14,17,39,17,22,4,12,4,4,13,7,22,15,7,5,8,9,12,12,22,17,28,8,20,5,11,11,27,24,6,7,7,19,31,8,20,13,14,25,26,11,16,7,13,10,30,10,10,11,25,16,18,13,6,4,7,26,4,24,33,12,16,8,21,11,11,19,12,2,7,7,4,4,21,18,3,3,2,2,7,3,3,4,5,14,18,4,15,10,7,4,15,5,10,14,14,7,20,7,10,11,13,24,27,6,13,13,9,28,20,11,3,10,22,8,11,10,21,4,8,7,15,12,6,9,15,29,6,3,1,4,3,4,2,12,5,3,8,4,8,16,16,12,3,22,6,28,16,29,12,15,20,20,8,6,16,27,5,27,11,22,20,8,24,17,10,9,8,14,9,12,14,7,43,18,8,16,12,10,57,32,33,17,26,11,11,11,21,16,16,15,9,28,4,26,38,36,4,11,24,6,4,20,21,11,40,26,8,23,6,22,6,19,26,6,17,4,11,25,13,18,29,21,3,36,15,20,10,6,22,14,14,9,13,10,13,7,11,31,40,23,25,28,6,17,26,8,17,8,16,7,22,11,19,20,7,23,23,18,10,15,30,6,21,9,23,16,22,12,8,9,12,7,10,10,16,32,7,4,3,15,12,9,17,6,3,10,12,2,8,10,11,21,9,3,7,10,25,11,25,28,19,7,25,26,6,11,11,8,6,22,13,4,4,9,16,18,3,17,20,10,18,8,3,25,4,16,9,19,16,12,11,13,13,13,12,40,5,13,5,4,4,3,7,6,10,8,9,8,24,8,15,27,31,16,6,4,12,2,10,7,4,14,15,28,9,5,7,10,13,15,37,28,12,30,11,45,53,19,18,9,10,10,16,7,8,17,9,6,11,21,16,12,9,8,7,7,5,6,8,8,33,49,12,16,6,12,30,7,5,6,7,8,12,15,11,3,19,26,10,10,11,2,24,26,9,4,4,24,16,47,11,14,19,18,7,9,10,7,21,6,5,11,9,10,3,9,3,3,4,5,14,9,6,22,7,4,5,23,12,7,19,10,16,5,7,12,54,9,14,12,17,3,5,15,11,0,4,19,16,12,19,13,11,25,31,6,23,12,10,16,11,8,10,17,14,32,30,20,48,28,9,7,23,7,9,21,26,20,6,5,5,4,6,3,34,7,14,9,20,9,2,9,14,9,9,5,29,36,9,16,6,5,11,11,9,17,10,24,29,28,10,12,20,8,29,11,15,27,30,10,15,15,14,46,27,35,21,28,7,32,14,5,21,15,9,14,22,12,10,9,7,4,30,15,30,7,5,10,11,20,11,17,32,23,9,4,12,5,12,13,10,4,11,11,12,5,9,21,3,13,37,13,8,11,43,5,12,15,9,4,5,3,2,8,7,9,16,6,8,4,21,45,10,10,11,8,17,17,8,27,24,13,7,34,8,32,29,13,4,21,39,29,30,4,11,21,14,18,17,3,12,5,5,17,20,23,16,11,7,12,16,11,10,32,10,16,21,9,17,3,14,6,6,7,7,9,3,4,3,17,22,29,29,15,10,3,3,5,20,12,18,27,20,27,21,10,2,9,13,13,4,29,41,6,8,10,31,20,15,15,37,59,12,3,14,19,40,19,15,30,26,17,34,57,27,20,5,33,12,22,6,5,16,13,52,30,22,12,29,20,2,6,13,17,8,26,31,16,14,39,10,7,10,15,42,76,34,20,17,16,16,9,9,10,29,9,10,22,12,65,29,38,13,17,35,34,14,23,21,20,8,27,24,31,33,6,15,25,11,11,15,12,4,37,14,42,5,17,31,22,30,49,31,16,12,21,33,12,16,28,13,4,9,3,4,22,13,43,25,3,4,15,22,17,16,32,5,7,18,27,5,6,11,4,25,10,5,12,12,6,1,18,5,11,16,11,5,8,12,11,28,34,47,20,37,27,11,39,46,13,16,34,18,5,10,15,5,12,15,7,31,14,9,13,19,8,7,15,20,7,6,8,10,12,17,24,7,9,40,13,4,7,3,10,6,13,17,9,7,5,25,8,6,5,4,7,5,16,16,4,21,25,13,12,11,32,63,27,5,15,15,10,11,5,8,5,6,8,5,6,7,3,4,15,10,8,13,7,10,10,4,5,31,6,15,22,13,20,19,36,6,7,22,25,46,6,4,4,3,9,24,13,13,23,24,22,14,6,8,4,24,15,8,7,15,7,11,10,3,8,4,17,2,5,3,4,10,15,4,27,19,14,3,19,27,13,12,32,37,12,8,33,8,26,19,5,4,11,12,12,9,17,5,6,8,12,8,4,28,44,11,3,21,26,39,29,10,5,10,22,18,23,5,37,20,27,5,24,11,17,4,25,9,13,13,11,11,22,10,9,4,9,9,9,29,6,2,11,5,4,6,15,4,5,6,21,18,16,23,22,14,30,13,4,18,26,7,8,3,50,21,7,12,12,28,8,44,11,9,42,10,24,7,10,35,24,11,23,8,12,7,9,8,17,8,9,5,22,12,4,8,3,8,5,11,12,19,16,5,10,4,8,10,6,15,8,12,18,14,11,9,8,14,17,8,32,15,31,10,16,11,9,15,4,29,3,23,20,11,10,2,19,15,4,4,6,10,4,6,12,14,13,15,24,26,17,5,14,12,16,10,9,1,9,10,11,10,9,14,16,18,15,21,30,24,14,10,8,6,22,4,15,32,15,10,16,26,13,7,3,5,5,12,16,8,10,4,8,9,8,4,5,23,5,12,31,26,5,18,14,7,10,17,6,8,27,19,6,25,6,25,4,12,22,23,10,26,10,16,9,14,23,25,5,33,6,16,12,18,8,36,13,4,14,13,3,8,6,9,7,6,12,19,6,82,15,14,16,20,26,22,4,33,7,2,13,56,16,22,12,7,11,17,10,69,21,14,14,33,19,26,26,11,21,8,18,24,9,7,10,16,23,15,6,13,34,8,19,3,11,6,6,4,6,8,26,10,9,15,26,10,7,7,6,11,6,23,17,7,16,35,14,3,6,10,4,10,26,6,8,27,11,17,20,16,12,6,20,12,7,15,4,13,9,8,6,9,2,7,14,6,9,8,12,8,8,49,8,14,26,37,5,23,14,19,33,21,7,5,9,12,11,6,26,15,14,4,5,14,10,5,14,11,13,7,22,11,7,8,10,19,17,14,15,11,11,19,7,6,17,17,31,23,8,19,21,18,49,12,9,18,33,28,11,25,13,15,15,17,8,11,6,33,18,25,32,15,28,2,7,7,13,12,4,11,28,19,9,18,40,15,20,14,9,5,4,5,6,17,15,17,15,4,7,18,5,6,4,4,15,16,22,16,7,8,7,18,22,3,7,5,12,14,4,12,16,7,12,5,16,6,11,20,20,22,26,18,19,10,14,5,5,5,11,13,3,18,8,11,11,18,24,7,19,15,7,14,19,25,17,7,25,18,30,12,6,17,30,32,10,22,31,11,21,14,17,8,33,3,31,22,32,22,47,16,28,18,7,19,40,21,11,21,8,6,2,10,16,11,7,16,22,12,22,13,21,12,28,15,7,20,6,19,8,7,18,17,29,3,21,4,15,27,15,11,5,30,9,17,4,19,10,15,21,10,18,22,37,10,22,4,3,8,10,16,26,12,4,7,14,15,7,12,22,13,5,6,18,9,10,10,7,23,22,15,16,4,14,32,7,11,12,18,27,25,10,26,13,32,12,10,21,39,31,30,18,23,27,31,17,25,50,5,28,4,28,6,1,31,17,7,26,16,23,5,6,15,21,7,11,10,5,8,10,5,3,4,12,8,12,23,12,8,4,7,11,10,17,26,9,4,8,7,7,6,6,2,16,17,5,13,16,20,12,9,11,14,6,12,10,6,8,16,10,6,7,8,14,6,18,11,11,7,8,5,5,15,8,12,17,9,24,12,5,12,3,12,20,8,7,11,18,5,10,15,14,7,17,7,17,7,17,19,8,16,9,12,14,12,14,7,19,18,12,11,24,19,35,12,8,7,15,22,13,7,8,12,8,15,12,17,16,10,17,12,21,18,5,29,7,11,20,14,21,19,35,19,10,11,7,23,20,25,7,16,12,18,29,12,14,10,11,11,10,11,21,22,25,19,16,26,4,8,9,18,10,11,15,14,9,13,16,8,19,16,13,13,14,5,16,10,9,10,18,19,11,5,8,18,25,21,10,12,22,7,18,12,7,4,10,8,6,6,12,7,10,9,20,7,9,7,16,17,16,15,12,7,12,6,5,7,16,26,27,13,21,15,17,7,17,12,25,14,9,8,7,18,18,26,15,16,20,14,22,28,22,9,12,10,20,17,11,20,26,20,17,17,10,10,19,10,12,17,13,14,5,16,10,12,15,4,12,14,13,19,11,23,9,20,20,16,18,10,11,4,9,8,19,8,7,7,7,8,9,12,13,14,28,9,5,10,9,12,18,16,19,7,9,19,10,8,27,21,13,6,11,8,20,7,11,16,14,6,17,12,7,10,9,7,10,11,7,9,16,7,12,14,36,6,13,30,16,20,6,10,13,7,24,8,6,16,24,6,23,14,8,6,24,12,11,4,27,8,17,12,28,26,20,12,17,16,24,9,9,10,6,8,23,13,13,11,12,24,13,11,8,23,16,11,11,9,11,17,7,18,14,7,9,8,10,22,6,11,10,22,8,9,8,10,19,23,20,17,14,22,15,10,15,11,24,18,11,15,5,25,10,11,12,5,9,19,15,18,14,6,13,9,4,12,10,12,16,13,12,18,12,18,21,15,23,12,20,7,19,10,10,9,23,7,24,15,12,7,11,19,21,17,21,28,7,19,14,8,18,16,5,17,19,6,6,11,9,6,12,10,10,23,12,11,13,12,8,17,13,25,6,11,15,23,13,26,14,16,13,10,6,10,12,7,6,12,30,11,8,12,7,21,12,27,12,12,8,20,13,17,19,17,11,13,8,20,13,8,23,16,12,12,12,27,23,29,22,16,9,14,5,15,18,19,14,17,13,14,20,9,10,18,15,19,19,14,15,23,14,6,5,16,9,17,9,12,17,11,5,22,12,5,8,6,4,2,8,8,10,11,15,12,10,14,11,32,11,11,22,6,16,13,36,7,5,11,32,26,20,12,14,20,16,14,31,18,7,10,12,5,22,11,25,16,19,28,12,14,16,13,5,24,12,11,29,7,14,17,22,26,8,30,26,17,9,25,18,13,18,34,16,11,23,15,7,13,16,20,21,20,17,22,9,16,15,13,61,8,8,32,21,6,13,13,13,19,45,15,18,12,16,18,12,6,16,19,3,16,3,35,14,13,9,5,20,13,7,13,18,29,8,17,8,12,7,7,10,8,10,16,21,15,13,20,20,7,14,22,24,7,11,16,12,8,12,9,17,14,8,15,15,31,24,17,21,22,19,19,18,18,20,8,11,17,11,13,9,6,7,9,9,13,12,17,13,6,17,8,13,11,10,6,8,9,11,16,14,7,14,11,14,12,8,17,7,23,15,4,13,11,17,12,13,12,22,22,33,9,11,10,7,10,6,5,8,6,7,18,15,9,10,12,23,22,8,13,19,24,22,26,18,26,8,6,5,18,17,20,8,15,12,15,25,5,11,17,2,6,8,22,7,5,24,11,13,12,11,25,17,19,5,12,9,11,8,13,20,8,7,9,6,9,34,9,15,7,11,11,31,24,17,15,15,12,17,30,21,10,18,17,5,5,8,31,14,20,14,8,34,13,9,13,9,25,23,12,7,17,31,7,11,10,12,22,10,22,24,3,3,10,12,2,22,7,9,4,16,11,6,12,5,8,38,6,7,7,7,7,13,10,13,10,7,5,3,1,5,8,8,9,19,5,3,16,24,11,5,20,6,16,21,14,12,10,17,7,10,9,6,4,3,16,13,9,8,11,4,3,23,20,8,2,7,25,6,20,10,14,9,6,9,13,13,15,17,15,13,12,8,16,17,10,8,11,10,10,8,18,14,6,28,8,5,8,16,8,11,27,16,11,9,8,17,19,14,15,19,14,13,33,13,5,9,17,9,25,15,4,10,9,8,8,13,9,3,6,5,10,6,6,8,6,4,7,9,14,12,8,14,18,14,28,5,11,10,19,20,10,9,8,9,26,18,7,12,21,10,23,9,9,15,13,5,15,10,11,7,2,11,3,8,7,5,14,14,11,10,5,6,15,22,15,10,11,9,16,8,15,10,9,14,28,14,13,16,10,26,15,20,13,16,14,11,20,13,13,14,12,14,26,16,17,17,24,13,10,20,18,11,23,24,12,59,11,17,16,43,10,9,11,35,16,15,17,5,17,16,17,11,20,25,17,5,13,6,7,3,13,13,10,13,11,11,12,6,19,17,24,9,6,23,11,25,15,12,4,1,7,13,14,18,18,9,15,7,6,19,8,10,12,17,5,7,8,13,4,6,11,7,20,13,11,12,19,6,10,14,18,25,14,16,15,15,15,14,5,18,15,21,6,10,10,7,6,14,20,23,10,15,14,8,8,4,7,17,32,13,8,11,11,13,7,8,6,17,9,19,14,9,5,7,6,15,10,8,10,4,10,27,7,10,11,3,1,3,12,14,9,4,7,12,28,17,14,7,14,7,10,14,11,16,10,4,5,7,4,9,5,11,13,7,13,10,12,8,13,10,3,11,17,16,10,11,14,12,15,9,13,19,17,7,21,19,6,15,6,10,11,12,7,12,18,15,11,9,16,24,28,8,17,4,4,18,2,3,7,4,8,5,11,7,16,7,15,11,18,16,4,39,6,13,2,7,14,6,0,14,9,5,10,18,5,9,15,9,12,10,6,4,4,8,16,16,12,12,20,8,6,17,3,9,9,13,22,16,16,19,12,11,11,11,12,10,13,11,6,12,8,17,5,7,6,10,6,13,8,10,18,8,12,37,12,36,11,11,12,6,32,9,20,24,18,17,26,24,10,12,11,15,9,14,14,22,9,5,10,6,15,2,21,13,11,11,18,35,4,21,14,10,5,9,23,14,12,10,15,12,9,15,4,8,14,14,18,8,15,15,24,9,6,14,5,19,8,7,26,26,13,19,7,17,14,4,12,6,5,6,12,11,14,9,10,6,14,12,10,13,5,5,5,8,13,10,16,14,4,2,5,10,3,5,5,8,4,5,11,5,8,20,8,14,14,6,5,3,13,11,6,11,9,10,8,12,12,12,12,1,19,15,9,8,1,12,9,14,22,7,4,5,7,13,8,9,17,11,5,16,7,16,5,2,3,4,6,5,4,0,4,3,5,12,6,10,19,11,9,5,6,18,11,15,13,2,10,6,2,5,9,4,5,18,7,1,4,16,6,7,5,8,12,4,6,6,3,9,8,11,11,13,19,18,16,11,29,4,4,3,7,19,16,18,6,13,8,14,17,50,17,32,12,11,22,18,7,10,8,18,10,17,11,33,17,17,19,15,24,7,14,10,44,16,5,25,17,23,8,36,22,10,9,12,4,4,11,8,3,13,11,13,20,19,23,16,17,17,13,18,6,11,6,19,9,11,12,11,3,9,6,6,6,9,4,19,7,11,10,13,15,7,16,13,8,8,12,9,11,7,17,8,6,12,11,22,17,8,3,3,6,11,18,8,6,4,13,21,10,11,13,24,16,16,6,14,9,10,7,12,10,11,7,8,10,9,13,10,22,15,12,13,8,28,20,12,9,13,10,12,10,4,6,6,9,9,7,20,16,16,10,18,18,11,22,10,11,10,15,5,4,8,13,11,8,10,14,4,11,7,5,9,11,8,8,11,23,17,6,8,6,32,3,7,3,12,15,12,9,13,15,5,8,2,8,4,9,11,6,5,12,6,7,1,5,7,5,17,15,6,3,8,7,8,21,13,9,14,13,14,12,24,14,6,9,8,9,10,8,5,13,10,7,6,3,10,7,12,8,6,14,13,16,12,19,11,23,12,24,12,14,5,19,10,15,5,11,6,14,15,32,21,18,13,20,15,16,5,11,15,29,22,20,23,16,12,13,6,15,26,12,10,30,34,10,15,18,4,12,24,15,5,12,6,16,4,20,7,9,6,9,23,13,4,6,17,8,8,7,5,12,17,16,12,10,7,16,4,31,9,16,9,13,13,16,19,28,7,11,7,8,8,13,7,16,10,16,10,31,10,9,11,13,20,12,3,21,10,20,13,19,6,9,7,9,15,20,17,13,20,27,5,10,8,17,4,11,12,9,18,4,4,15,8,7,4,8,10,6,11,6,7,10,11,17,4,16,3,6,16,12,8,9,5,13,18,15,31,14,16,8,21,8,19,26,10,8,7,13,6,22,11,24,15,12,24,12,3,30,10,5,11,19,5,8,9,17,5,9,6,14,18,12,8,14,18,8,4,24,19,9,8,7,17,11,8,10,20,26,2,6,10,6,4,11,19,4,5,9,10,19,5,13,20,8,6,5,6,18,27,18,7,28,9,13,23,14,22,9,20,13,20,17,18,12,12,10,5,19,21,20,14,13,12,15,16,18,7,17,12,10,8,17,12,7,6,6,5,13,14,18,12,31,16,12,13,10,17,9,11,8,20,12,7,13,9,7,8,7,9,15,9,11,22,5,8,3,2,5,15,24,19,15,11,10,14,4,9,10,13,9,15,10,8,9,6,17,12,21,14,7,22,11,20,11,29,11,11,7,16,10,9,8,12,11,6,3,15,7,14,14,1,23,16,7,8,27,14,11,5,5,7,9,7,10,9,12,26,10,19,8,10,25,20,17,14,25,11,14,7,10,8,16,7,19,13,15,13,11,10,8,10,6,11,16,19,19,11,13,21,15,7,15,7,6,5,5,14,9,21,28,8,10,17,9,19,6,16,5,16,13,10,14,15,11,7,31,8,10,14,16,8,13,22,20,11,10,11,30,13,20,11,10,18,8,16,15,16,16,5,20,12,16,11,17,13,16,22,17,8,4,4,8,6,8,8,19,22,20,17,38,11,14,11,11,6,12,18,17,17,10,9,7,7,8,35,7,24,13,6,11,10,16,12,7,16,6,10,8,7,8,8,13,20,28,16,12,8,13,18,9,9,10,13,15,3,8,18,8,10,8,12,8,3,11,26,18,29,11,7,14,9,13,20,7,14,8,17,18,15,9,10,23,15,17,10,14,8,16,27,12,11,18,5,14,15,28,14,35,7,10,5,18,14,19,6,19,16,10,9,15,15,26,17,19,19,16,18,8,11,16,16,19,8,9,11,15,13,18,15,15,18,9,7,10,8,17,22,4,13,16,16,23,9,5,10,4,10,4,7,11,9,14,18,20,9,15,10,7,10,10,13,7,9,13,5,3,13,12,2,10,11,6,16,10,12,21,15,12,10,7,14,8,14,11,8,4,4,22,8,20,11,9,10,12,17,17,6,9,4,9,4,5,10,14,15,16,5,16,8,20,15,5,8,14,15,15,7,9,7,16,8,17,15,8,6,10,14,16,3,17,5,8,2,8,6,11,6,5,4,12,3,14,10,10,14,12,11,6,10,9,17,11,13,10,13,14,14,4,11,10,7,12,22,12,18,21,9,10,7,1,15,6,35,9,13,9,8,12,11,20,10,20,17,9,7,12,8,12,10,11,10,9,18,9,5,2,1,6,8,11,5,8,8,8,22,8,14,11,6,22,12,12,8,13,11,11,7,13,8,8,16,7,15,10,15,8,11,10,8,10,7,7,11,8,9,7,3,11,17,5,11,5,17,10,9,11,20,19,7,5,13,8,11,9,8,4,7,8,7,5,9,12,10,12,5,13,5,6,8,15,8,10,10,14,14,5,13,5,10,15,14,29,2,0,10,14,17,7,8,19,15,16,11,5,4,9,20,13,12,10,22,8,4,4,20,9,22,8,7,19,14,13,15,18,18,14,24,25,14,18,27,12,12,9,35,10,20,8,5,7,23,27,17,3,15,9,7,22,11,19,10,19,8,7,11,13,28,24,17,13,6,23,8,29,6,19,15,27,10,17,16,19,15,5,8,23,4,22,5,18,12,10,20,3,7,17,30,34,14,4,14,8,9,30,6,16,8,14,11,10,8,12,30,19,13,9,9,26,6,26,21,32,16,10,8,7,9,13,35,37,16,13,3,29,12,14,13,16,33,9,11,23,24,7,8,41,14,10,7,12,8,19,14,31,10,14,11,13,15,17,20,23,17,14,3,8,14,8,10,13,13,17,12,6,16,16,6,23,15,20,12,12,18,22,24,4,9,2,27,17,10,12,10,7,17,26,9,13,18,18,13,3,4,15,4,21,4,6,16,9,8,12,17,20,27,13,22,17,10,16,12,4,27,16,10,15,9,11,15,11,14,30,13,9,11,13,9,21,7,8,4,21,14,10,25,13,12,8,8,24,15,25,13,5,9,7,10,3,24,12,11,7,10,15,26,9,20,20,23,18,20,11,36,13,4,7,20,19,8,13,17,6,5,7,18,22,8,5,11,27,35,24,17,27,46,16,16,17,18,14,8,18,12,13,15,13,16,6,19,10,21,10,7,14,7,8,20,30,7,19,25,26,23,8,26,17,10,19,9,9,26,8,9,16,6,26,23,35,23,21,4,19,20,15,7,5,21,15,19,17,27,23,30,21,10,17,22,10,11,23,6,10,15,22,10,16,22,12,12,9,12,34,11,16,15,32,8,15,11,20,23,25,38,6,11,9,24,18,22,29,10,14,29,13,27,13,8,26,20,15,28,4,24,12,12,27,7,13,10,20,7,12,11,10,18,9,15,25,10,20,19,22,9,21,20,7,16,15,12,20,9,34,17,6,12,17,6,11,5,4,6,24,17,5,12,26,19,20,7,21,8,11,13,5,9,11,15,19,24,22,31,24,19,19,9,16,3,12,19,7,10,18,15,21,8,27,21,16,21,17,7,7,21,8,11,19,20,21,29,12,23,9,30,24,14,23,23,18,22,28,28,20,21,14,7,22,17,21,7,8,11,18,38,8,7,33,17,21,18,6,13,12,19,29,23,16,9,30,17,21,7,17,24,16,12,10,15,13,24,16,13,30,26,9,37,25,13,14,23,17,19,20,7,24,16,7,20,15,10,14,6,19,34,18,14,11,18,6,5,8,22,13,24,17,24,7,34,11,26,19,6,17,18,4,22,22,14,15,13,22,21,15,9,16,10,15,20,8,15,4,6,20,19,15,20,7,6,20,22,19,46,12,10,4,19,21,6,9,3,8,11,7,7,15,7,10,6,35,10,14,15,10,19,16,15,17,20,22,29,39,17,29,7,18,24,14,18,18,21,37,10,31,21,30,18,16,22,17,15,51,18,17,10,34,8,40,8,8,25,28,17,17,19,12,20,27,50,35,6,13,19,68,8,14,28,19,16,24,10,24,15,32,30,13,27,32,10,16,12,22,42,10,22,10,9,16,17,19,10,11,26,13,20,12,14,47,12,5,14,16,27,29,17,19,21,20,8,13,10,15,20,6,8,16,13,14,33,10,1,8,14,22,16,15,17,31,15,39,5,15,23,15,29,17,7,6,12,16,26,13,7,15,14,13,16,22,26,9,22,8,9,17,22,19,4,21,10,18,20,21,8,18,30,10,24,4,32,26,14,3,17,24,40,17,14,22,3,14,6,11,22,27,13,28,23,11,20,13,38,3,25,17,10,30,18,20,7,11,23,22,15,19,4,26,5,6,6,21,22,20,22,38,26,15,21,13,7,6,9,14,28,11,13,29,13,24,11,10,5,12,9,7,3,3,3,6,9,8,1,5,2,0,0,1,3,2,1,1,7,6,12,7,9,10,11,1,9,14,6,4,8,5,1,6,8,6,11,27,8,6,7,6,10,6,9,7,9,6,10,13,19,10,4,8,9,4,11,5,11,8,3,3,25,6,11,3,17,13,5,10,3,3,2,4,0,5,3,3,3,20,4,5,7,6,5,8,7,5,9,11,2,9,3,15,27,25,6,19,22,6,11,14,5,10,12,12,22,19,7,6,14,15,20,18,13,10,22,23,8,3,13,9,12,9,13,12,9,10,7,22,24,17,8,15,5,10,6,7,7,5,16,6,11,0,10,12,22,11,5,8,4,10,4,5,7,15,12,6,14,8,12,12,15,6,5,10,5,18,4,9,9,5,19,8,12,12,17,14,9,14,7,10,12,10,20,14,11,13,9,13,17,13,8,8,12,14,13,8,12,15,17,18,9,10,15,5,8,8,11,4,4,12,13,3,17,9,16,21,8,11,16,8,15,13,13,17,19,8,15,22,8,10,10,19,12,5,11,7,6,14,7,11,20,13,11,9,12,23,13,7,16,13,18,19,14,8,18,10,27,10,9,28,25,16,22,5,8,22,3,11,8,8,10,3,7,14,8,9,16,1,9,8,3,13,19,7,11,18,8,3,11,21,3,7,13,3,5,8,9,28,15,4,3,29,1,14,23,14,14,7,14,9,9,9,26,5,10,7,8,19,7,5,14,11,12,18,13,8,16,12,9,14,21,12,15,7,13,7,17,5,15,21,14,12,15,12,15,4,8,11,14,20,15,10,7,14,3,5,9,6,2,8,10,17,20,11,10,12,11,20,26,18,15,18,12,8,17,16,3,14,15,3,4,20,5,12,9,1,4,17,11,4,19,10,14,8,7,6,1,8,4,12,9,6,21,9,14,21,13,15,14,17,5,9,5,27,5,15,11,9,15,8,9,7,10,6,4,6,19,13,13,6,14,21,14,18,27,11,18,20,9,28,10,18,17,14,14,8,5,9,11,18,13,9,9,13,17,14,11,16,20,12,7,29,9,14,20,19,3,8,19,5,9,8,22,18,3,9,24,12,7,15,12,20,8,22,19,19,16,24,21,16,9,32,4,2,20,10,19,16,15,4,5,9,20,6,12,10,24,10,4,3,20,12,5,7,5,14,19,8,5,9,22,6,2,12,8,10,14,9,12,14,6,26,8,17,10,7,15,12,19,12,8,10,14,14,15,17,18,33,16,12,7,28,12,15,12,12,16,13,4,4,4,5,2,7,17,30,18,13,20,5,14,13,11,11,14,6,3,8,14,15,6,11,13,23,2,15,23,15,18,7,7,11,18,7,18,3,14,6,6,7,9,14,15,25,9,8,6,11,8,23,23,6,11,13,10,18,15,6,11,4,12,8,15,7,7,15,3,5,12,5,2,8,15,4,11,17,19,10,6,7,8,6,8,14,7,20,3,15,27,7,15,10,19,18,2,7,25,23,17,22,5,8,7,17,13,8,9,28,4,7,8,16,5,3,5,5,4,10,8,9,7,11,13,8,10,6,7,11,11,6,6,13,11,14,11,5,11,13,8,20,11,13,7,7,4,6,2,8,4,6,3,5,4,6,4,5,7,11,5,1,9,6,3,15,17,10,5,9,6,6,9,8,5,5,14,8,9,5,16,19,16,6,2,8,16,16,7,9,5,16,23,8,7,10,8,5,12,9,12,4,25,19,22,9,6,10,13,6,10,15,9,12,7,6,14,3,9,12,16,38,10,3,21,6,5,9,5,7,9,5,7,2,7,16,9,17,16,9,5,9,9,4,6,7,14,8,10,21,10,10,19,6,13,15,12,8,10,11,11,7,5,7,9,12,6,5,11,5,8,7,24,9,7,20,11,7,11,9,16,6,11,1,6,9,3,9,2,10,5,8,6,7,5,11,9,11,5,5,1,4,12,10,12,9,8,15,10,6,5,6,30,9,9,9,6,8,15,8,16,3,3,9,11,13,6,7,11,5,3,3,5,9,7,14,6,4,7,7,4,11,8,6,11,9,5,6,14,10,9,8,16,10,4,15,3,6,7,14,6,11,2,16,5,4,5,2,8,1,1,4,1,5,5,3,5,12,4,3,9,9,7,9,9,6,2,6,1,7,4,4,3,4,3,4,5,9,13,13,3,3,3,13,11,7,13,5,14,5,6,5,8,22,9,6,9,15,12,20,6,10,8,6,8,20,14,3,7,2,12,8,16,15,18,13,6,3,5,8,7,5,7,14,10,6,6,5,8,3,6,3,8,7,5,14,12,9,6,4,13,8,7,12,5,14,7,2,5,8,10,4,4,7,8,2,1,10,7,3,7,4,5,6,7,2,11,19,4,18,18,10,12,7,8,3,5,9,4,8,6,7,4,6,6,11,15,4,15,5,3,8,8,4,5,3,9,13,10,13,9,8,8,5,5,13,8,11,10,7,3,14,10,5,4,13,6,9,17,14,7,16,9,9,13,14,6,6,12,8,10,6,10,8,5,0,3,4,3,2,7,5,6,5,7,12,4,6,7,6,10,6,5,9,9,4,9,6,9,9,3,12,3,2,6,8,6,6,13,3,11,4,5,7,7,13,17,11,4,7,8,5,11,2,7,11,5,4,5,7,8,8,11,22,3,9,4,6,7,10,4,4,12,9,13,4,5,7,2,6,11,15,9,4,8,7,14,10,6,12,9,6,9,12,9,23,7,14,24,11,11,14,14,10,24,8,7,7,15,5,3,6,11,9,9,7,4,12,10,6,20,3,3,4,5,7,11,5,6,12,25,14,12,12,6,14,10,5,8,8,3,3,4,7,2,7,5,4,6,3,4,4,6,2,6,4,7,3,4,8,5,10,5,9,5,3,11,14,7,7,7,2,8,4,3,7,5,14,8,4,9,7,10,9,4,5,1,5,3,1,8,4,2,3,5,4,5,4,6,3,2,1,2,2,7,4,6,4,8,5,4,5,6,13,4,8,10,5,5,8,13,15,7,1,9,8,4,7,3,5,7,11,7,14,12,14,11,7,8,12,11,6,21,18,4,4,7,10,3,10,14,9,8,14,9,8,12,7,8,11,13,9,14,12,17,10,6,4,8,6,5,9,11,7,5,6,8,14,13,6,3,5,13,19,10,5,11,4,17,8,25,12,22,13,0,11,15,11,6,13,6,8,6,12,5,12,6,14,5,16,6,13,14,14,15,11,7,5,9,14,3,13,21,5,11,9,6,17,25,10,3,3,4,16,16,8,13,4,7,4,4,6,12,9,5,7,9,4,11,3,3,6,4,5,5,19,14,8,18,9,15,5,8,8,7,4,15,16,28,5,5,7,5,18,9,4,8,4,11,7,10,15,8,15,14,4,9,8,10,6,9,5,10,11,11,3,6,15,5,7,16,18,14,2,9,9,7,4,2,1,4,1,9,2,4,7,6,17,7,9,3,1,9,2,15,10,4,2,10,14,9,4,9,4,17,13,9,9,7,8,7,8,25,8,3,8,3,14,19,16,8,5,2,30,12,25,7,5,2,3,8,4,3,1,15,25,13,10,5,6,13,11,19,13,5,4,8,4,2,6,9,8,9,7,6,4,9,6,11,16,13,7,8,7,8,13,6,13,19,14,11,2,6,6,15,16,7,5,3,7,10,9,2,15,4,11,17,5,3,9,13,9,7,10,5,6,9,10,4,10,5,11,17,6,7,8,21,20,10,8,5,10,10,9,9,12,4,3,7,6,11,6,11,5,4,7,8,12,5,10,13,12,16,10,7,15,10,15,10,7,13,14,7,9,14,13,14,4,3,19,19,21,2,5,12,16,18,8,17,14,6,7,5,12,13,6,8,10,11,10,6,17,11,5,4,10,5,5,12,8,12,8,5,5,18,7,8,6,19,7,9,8,13,7,8,18,17,8,7,6,11,5,9,10,9,7,16,12,4,9,6,6,11,4,9,14,10,7,12,9,7,4,5,14,9,9,7,8,15,8,12,5,6,5,5,4,25,6,6,9,9,5,8,8,8,21,13,17,7,9,12,15,12,4,9,15,9,5,14,2,13,3,7,8,17,20,11,13,18,4,9,11,5,18,6,19,2,14,11,9,9,12,10,6,9,23,9,13,11,12,7,6,8,21,11,18,7,11,10,6,11,11,6,10,13,3,9,12,11,6,6,25,8,13,7,2,5,7,12,17,5,5,4,4,3,8,3,13,10,7,5,16,11,6,4,9,6,8,13,7,8,8,4,10,7,13,9,10,8,14,6,5,8,7,7,7,9,8,9,9,15,5,8,3,12,5,2,14,9,4,4,15,3,11,13,13,7,10,5,5,14,6,3,5,16,8,14,9,10,10,6,14,6,17,10,7,15,11,14,5,4,15,8,5,2,7,10,6,13,8,3,6,9,5,9,9,13,5,8,4,10,13,10,6,10,13,15,7,14,14,23,9,15,10,7,7,13,24,11,25,9,7,4,6,8,4,15,22,10,11,7,15,11,11,22,17,18,13,18,2,10,12,5,4,11,6,3,8,4,6,3,4,2,10,11,6,6,8,5,9,15,7,5,9,7,21,16,24,15,12,7,9,12,8,10,6,11,11,7,14,8,8,4,19,17,5,7,3,6,25,11,10,4,15,8,4,8,3,13,9,13,16,7,12,15,6,7,5,18,22,11,2,14,20,13,6,3,6,14,11,9,4,20,11,10,11,18,15,14,9,5,10,5,4,12,8,9,9,18,5,5,2,7,5,9,4,13,9,6,2,3,8,12,8,5,2,11,9,12,13,7,9,10,11,18,4,2,9,5,17,11,7,11,9,8,9,4,10,5,18,19,7,19,23,11,14,13,6,10,8,34,8,29,13,11,14,8,11,7,9,7,9,14,10,10,8,7,8,5,3,6,5,13,4,5,15,16,11,11,9,6,15,10,8,8,2,8,11,9,7,4,3,7,18,5,8,13,13,6,27,12,7,11,6,11,12,7,4,12,10,7,4,10,6,6,6,29,10,9,14,11,12,20,10,29,11,3,6,12,6,10,8,10,9,6,10,9,2,25,7,7,8,8,8,7,6,8,21,3,4,6,24,28,7,8,9,20,6,7,6,6,7,18,10,6,11,22,7,14,9,15,20,9,8,9,6,8,8,6,5,10,12,7,29,16,9,11,16,21,4,12,10,6,7,0,7,6,8,16,6,13,21,5,12,6,12,4,1,10,6,11,3,4,5,3,4,4,8,9,10,2,15,14,3,13,6,9,9,9,6,8,2,17,12,10,4,4,9,7,14,11,13,14,13,6,7,8,10,11,13,8,4,4,5,19,8,11,5,13,16,6,9,5,8,8,7,6,5,6,6,4,3,8,5,5,4,10,9,6,8,7,3,9,6,3,14,9,4,20,11,3,4,3,11,4,5,4,12,13,5,3,7,7,5,15,6,17,5,10,8,10,16,10,13,10,9,10,23,5,18,3,6,15,10,18,10,5,24,2,14,16,7,9,11,10,10,8,7,14,3,7,8,4,3,16,8,6,9,6,7,5,7,10,5,4,6,5,13,10,2,5,9,10,12,10,4,8,8,6,12,7,6,15,9,7,9,4,13,7,10,10,4,9,4,12,3,10,8,8,17,8,7,7,5,10,12,5,7,10,7,6,9,11,10,5,12,5,4,5,8,9,7,12,7,5,20,17,13,9,9,12,17,7,3,8,7,9,12,15,9,12,13,7,12,3,7,3,3,11,7,8,16,5,6,4,3,15,4,8,8,3,6,0,7,7,16,6,10,18,4,9,8,13,13,22,8,2,22,15,19,10,1,12,4,12,15,7,6,9,14,19,16,6,6,17,10,4,6,7,21,10,10,9,8,16,9,6,6,14,8,5,27,4,8,31,9,8,10,8,11,11,6,10,6,16,23,11,9,11,12,6,6,3,6,5,10,10,9,6,6,14,8,4,4,18,5,3,21,10,12,12,14,4,8,8,9,10,11,12,23,25,6,6,13,6,12,15,5,25,19,9,17,13,10,8,29,5,10,11,6,12,6,12,6,5,13,10,12,10,4,17,29,13,4,3,13,7,12,3,9,8,12,14,5,11,10,17,4,19,7,10,10,8,15,10,22,11,9,1,5,10,8,10,7,4,2,6,6,4,9,6,3,6,19,8,6,10,12,6,9,2,7,6,5,6,13,6,7,4,9,4,5,10,14,13,7,6,3,7,5,14,9,6,11,13,11,8,10,7,5,10,7,9,15,4,5,18,8,11,12,11,27,6,6,9,15,9,8,15,16,14,10,12,6,4,5,7,12,9,3,13,4,4,4,15,6,8,8,4,24,10,10,19,11,5,11,8,15,6,18,8,11,1,3,4,13,8,8,8,6,9,3,9,21,4,5,13,10,3,9,16,11,12,8,5,10,9,6,18,7,3,5,3,6,1,6,11,5,12,11,8,12,17,11,6,13,19,7,2,4,4,2,5,4,5,7,11,8,6,11,6,7,15,6,11,6,40,9,10,9,4,5,9,13,3,8,2,11,4,19,3,3,2,4,8,4,3,8,7,4,6,4,6,7,5,7,5,3,5,8,8,8,4,7,10,4,3,4,10,23,19,4,6,9,4,15,7,2,3,7,9,8,7,8,9,7,4,3,8,11,13,7,12,8,16,12,6,14,3,7,8,10,7,15,12,21,6,8,11,13,8,5,8,6,6,8,7,4,12,9,10,10,18,7,6,23,11,4,3,11,10,8,9,5,5,12,5,6,9,14,11,10,6,9,8,4,9,5,8,5,11,4,6,6,11,13,8,4,6,5,10,11,11,6,14,7,4,11,8,4,6,5,8,4,2,7,9,8,6,13,3,8,3,3,8,9,9,11,10,12,7,9,18,24,15,4,12,11,16,12,13,6,12,9,9,7,9,5,4,6,16,12,9,26,10,15,15,6,4,38,8,3,11,9,5,18,7,10,19,16,6,9,6,3,12,6,10,16,8,20,5,15,15,9,4,17,13,10,12,14,3,7,18,4,15,10,5,8,16,8,12,6,9,24,12,10,8,13,14,11,24,13,33,9,4,7,10,12,7,27,2,9,3,5,7,9,6,4,9,21,12,5,6,6,7,14,8,5,14,19,11,13,6,12,13,11,12,18,11,23,8,7,4,7,8,18,11,7,8,11,17,10,6,8,5,30,5,16,12,6,6,12,15,16,17,17,7,7,5,4,13,16,9,8,13,11,9,7,8,8,14,12,6,12,19,10,4,23,8,14,8,3,7,7,5,12,10,6,10,7,7,9,7,11,5,7,16,4,12,7,18,20,5,9,7,7,7,5,4,3,11,6,6,8,14,26,17,15,7,20,10,6,8,7,4,8,6,6,5,8,9,10,5,7,9,4,11,8,9,11,25,15,8,21,16,17,20,15,8,16,8,13,12,6,4,8,15,16,10,8,12,8,11,6,5,22,10,4,5,12,9,18,5,12,17,7,6,5,11,5,2,9,8,4,15,18,10,5,4,3,9,7,13,13,7,9,6,7,2,7,7,13,8,8,6,8,15,13,12,12,15,10,12,7,7,8,11,6,10,4,7,7,7,7,6,7,11,5,22,12,6,6,17,7,4,16,12,1,11,5,12,11,5,16,7,4,14,6,5,16,5,6,9,7,6,4,12,13,18,23,10,3,10,6,9,16,4,6,8,7,3,6,14,7,9,14,12,20,13,7,6,8,7,14,18,21,8,34,10,15,12,15,6,13,13,3,11,7,9,17,6,6,6,8,11,5,3,9,13,4,3,9,9,9,4,9,5,4,6,10,6,14,8,3,5,3,3,8,3,4,6,6,7,3,3,4,4,5,5,7,6,11,10,4,12,11,4,9,2,4,11,10,9,2,3,5,6,4,7,14,6,6,6,6,13,6,5,4,4,6,6,5,12,20,22,18,14,8,10,6,10,4,9,7,8,14,5,10,18,17,7,4,14,5,14,10,7,7,4,6,6,5,4,6,4,6,12,6,5,10,7,9,4,8,6,8,8,4,6,9,4,6,3,4,7,3,4,10,16,7,5,4,8,4,12,15,5,17,9,8,3,7,3,15,5,5,7,6,5,3,0,6,10,9,6,4,15,12,8,9,11,7,3,2,8,5,3,9,6,13,9,9,22,13,6,7,7,4,14,7,4,5,15,8,7,6,5,14,3,4,8,10,6,3,8,3,9,40,6,26,17,14,4,8,5,4,5,6,3,3,6,4,6,5,3,7,10,10,5,8,6,3,3,3,5,11,11,11,6,5,22,7,9,6,7,3,6,5,2,8,14,6,11,5,4,9,10,4,9,12,5,6,7,9,9,11,6,6,5,4,6,11,5,4,5,7,2,11,4,4,3,8,14,11,7,4,5,13,8,14,14,4,7,8,9,8,10,4,1,6,7,8,5,11,7,13,16,5,14,11,22,14,6,8,9,15,18,6,8,5,7,6,7,7,6,5,15,16,8,3,12,18,11,8,5,7,10,19,7,7,12,11,19,8,16,5,6,19,11,8,9,11,15,9,6,10,8,15,5,7,22,10,13,8,8,8,3,2,18,4,6,3,15,7,7,3,5,7,6,11,5,7,3,6,6,10,1,2,7,4,7,5,6,15,12,7,8,14,9,12,7,12,3,11,3,6,13,3,11,6,12,5,9,7,16,7,13,11,10,14,13,8,6,5,7,2,8,9,12,8,7,9,19,2,3,2,4,10,5,4,11,2,14,10,10,14,8,8,4,3,9,15,6,6,13,7,7,8,12,19,3,4,15,11,4,14,13,24,5,12,9,8,6,7,17,10,6,11,20,8,10,6,8,9,6,6,8,8,8,14,7,5,8,2,6,19,17,4,11,16,14,8,10,14,9,7,5,14,24,12,8,7,8,16,7,24,18,15,16,20,11,18,13,13,8,14,16,2,8,7,7,8,6,12,16,8,7,5,13,6,17,18,7,12,11,10,6,2,6,12,11,4,5,10,11,10,8,7,10,6,7,16,5,5,5,15,7,15,6,15,7,17,13,18,11,11,8,10,11,6,8,6,9,11,21,14,9,7,4,10,17,18,17,11,4,28,14,16,5,12,10,12,4,29,12,10,23,19,4,14,8,17,7,6,11,19,13,11,20,10,11,18,9,17,10,11,10,7,8,10,19,4,23,26,10,6,9,15,4,10,8,11,12,2,6,9,22,30,6,16,12,12,14,8,15,13,10,8,6,11,20,9,20,7,21,9,38,21,6,6,8,16,11,2,13,9,26,22,11,21,12,4,14,4,10,13,3,9,12,14,13,5,9,9,8,15,17,3,13,7,12,33,13,7,14,5,25,15,13,7,13,10,14,18,15,12,22,16,22,8,11,11,21,6,17,7,18,3,4,13,13,6,8,11,14,12,8,9,8,5,7,4,8,9,9,10,7,4,18,12,12,8,5,2,8,5,11,7,9,11,7,36,5,7,18,5,10,6,3,10,4,23,4,6,12,11,14,13,5,5,18,11,5,7,5,14,10,20,5,5,4,11,5,12,44,4,7,8,6,3,7,5,14,5,9,10,17,10,9,10,6,15,5,9,3,11,5,22,22,9,6,21,11,6,16,3,11,4,5,7,10,6,11,6,7,10,17,4,8,8,14,6,8,6,13,6,7,8,8,8,3,7,15,10,15,8,6,5,7,7,3,6,8,12,6,5,5,6,8,6,19,10,5,14,11,7,7,9,12,7,2,10,8,9,15,10,3,14,8,9,8,16,5,7,9,26,18,5,12,4,10,5,13,11,15,8,3,16,5,4,11,4,3,12,5,7,9,15,5,14,12,6,4,4,6,7,16,9,9,8,16,11,7,7,5,4,7,14,4,6,8,12,8,10,13,4,14,16,16,11,9,5,3,10,13,8,14,11,13,14,6,7,4,24,3,13,21,15,16,4,7,13,13,5,9,5,10,7,3,7,11,5,9,9,7,3,9,9,17,18,9,31,7,7,11,10,17,16,16,12,9,20,13,3,14,8,8,3,14,14,9,18,24,19,5,6,4,4,3,4,14,11,5,8,15,12,10,6,6,13,10,5,5,3,7,10,9,8,9,9,8,9,8,8,13,12,8,11,10,5,18,6,11,15,16,16,15,22,16,10,9,7,10,10,9,5,9,5,8,14,9,7,7,9,9,3,4,13,4,8,8,6,5,7,11,7,10,11,6,13,15,8,10,21,8,10,10,15,18,17,5,5,8,12,5,13,4,3,20,9,9,8,10,4,11,5,4,16,7,7,5,2,4,5,3,3,5,6,10,3,6,6,7,10,4,10,6,5,6,7,13,10,5,5,3,7,6,8,2,4,12,8,8,6,6,6,8,9,14,4,7,10,5,5,9,7,15,9,13,7,5,13,14,4,9,7,4,12,5,9,5,5,6,14,7,4,8,14,6,4,12,16,7,2,6,5,2,4,0,4,6,3,3,7,6,7,9,10,2,15,9,6,10,8,3,8,6,6,4,4,4,6,3,7,4,5,3,2,3,7,7,10,4,4,22,5,6,3,8,6,10,8,5,8,4,6,21,13,12,10,5,5,6,12,9,3,10,9,4,5,19,6,8,3,5,13,5,5,8,8,6,5,8,6,6,4,4,5,5,10,5,4,5,8,8,6,12,3,4,3,5,14,10,10,4,13,4,5,6,7,10,11,8,14,6,4,4,5,6,13,5,9,4,5,9,7,12,8,14,19,5,5,13,7,6,11,6,10,7,8,3,5,6,11,6,9,4,6,5,5,1,6,6,3,17,4,4,10,7,11,5,2,3,8,13,5,5,5,11,6,6,6,2,5,7,9,4,4,2,7,2,6,5,4,3,5,10,12,4,9,3,6,6,7,3,5,4,2,12,5,9,8,4,4,14,8,9,6,11,4,8,8,6,6,5,7,7,9,13,6,6,8,3,4,4,4,15,4,6,7,5,11,3,14,10,12,10,16,7,12,10,12,4,9,12,6,7,6,5,10,5,9,4,4,6,9,10,5,6,8,3,3,2,4,11,7,2,2,16,6,7,4,19,6,9,5,9,11,11,2,7,10,7,6,7,16,6,4,7,7,20,7,5,10,9,5,4,16,4,5,16,13,9,10,10,14,10,13,10,13,6,5,10,4,5,5,6,25,5,3,14,4,9,5,16,10,12,2,6,12,6,17,2,5,13,4,10,2,10,8,5,2,7,7,7,8,9,9,6,4,28,5,25,5,5,11,10,8,6,9,17,31,9,7,7,6,23,12,12,5,9,4,3,6,11,13,11,9,15,12,9,13,8,13,3,11,8,10,4,3,6,10,6,7,9,11,15,8,9,13,21,17,23,14,7,5,11,9,15,6,5,12,7,8,8,15,5,4,1,13,5,9,28,13,5,14,10,10,10,7,10,11,11,8,17,22,11,14,16,20,13,11,19,17,7,20,11,4,16,14,10,11,18,9,3,8,16,9,11,19,7,12,16,15,21,15,12,15,14,8,6,16,13,12,7,6,10,17,7,4,9,5,18,9,12,7,15,4,20,7,18,9,10,8,13,9,10,9,18,11,6,11,9,6,12,10,4,13,7,5,10,15,25,14,5,10,17,14,10,7,20,9,3,10,12,10,12,4,5,3,8,19,3,12,9,12,16,6,9,15,13,7,24,15,11,14,4,1,0,14,10,6,9,4,10,16,12,10,14,5,4,9,9,21,9,8,20,8,6,16,22,12,16,16,10,5,12,9,10,8,13,7,14,20,22,13,14,13,16,7,13,29,4,8,8,5,7,7,11,6,9,7,18,7,6,4,14,8,5,13,16,18,12,11,8,13,14,15,12,22,5,11,30,8,8,25,11,10,11,20,11,12,15,29,22,16,12,11,8,7,13,30,12,13,10,12,15,15,7,4,5,7,4,9,10,7,10,13,32,18,13,11,12,29,8,18,10,15,22,20,30,22,16,19,7,9,8,4,4,4,4,9,11,13,6,7,10,8,14,11,6,9,9,12,4,13,8,10,9,11,7,9,7,12,6,6,11,9,16,13,10,24,10,27,9,10,18,11,15,42,7,5,18,21,18,10,18,21,21,33,8,11,16,4,13,18,18,8,11,16,8,22,13,20,22,10,18,17,21,38,19,31,8,4,14,25,7,12,25,11,10,13,6,21,6,23,3,11,24,16,12,3,12,12,21,24,10,19,8,11,9,13,13,14,17,17,7,9,17,9,14,20,4,14,19,20,24,13,23,25,20,10,17,11,8,11,23,9,8,5,4,18,11,12,13,10,2,12,9,17,12,9,6,9,8,11,9,14,15,8,6,10,13,12,13,5,6,13,6,10,8,15,9,3,6,12,7,15,11,4,7,12,14,19,25,8,13,10,6,3,9,4,9,7,7,14,7,10,11,3,10,14,6,19,7,10,16,4,5,11,12,4,12,10,18,8,3,8,8,9,11,9,5,5,5,7,8,3,12,5,5,2,11,4,7,4,10,6,8,6,6,5,8,9,5,5,7,3,7,4,11,6,7,13,18,5,5,6,8,5,7,7,2,8,5,11,3,11,10,8,4,17,8,5,6,14,11,11,8,3,6,8,3,3,8,6,8,15,15,9,5,13,12,7,4,5,6,6,4,11,4,6,8,11,5,6,3,4,6,2,4,4,9,2,9,9,7,18,3,4,10,7,9,6,7,4,10,6,7,3,5,1,3,7,5,6,3,11,6,4,5,6,8,13,7,2,7,6,7,4,3,13,3,10,13,11,6,9,13,2,3,11,5,5,6,10,8,7,6,8,13,6,5,13,7,4,6,6,6,7,8,3,11,5,8,3,7,5,11,13,4,5,9,7,16,8,10,9,9,3,5,3,11,3,7,4,7,8,5,11,7,5,5,6,4,11,9,4,8,14,8,13,2,3,12,3,5,4,6,4,14,4,6,4,8,9,10,8,8,9,18,7,4,8,5,12,5,13,8,9,8,9,6,10,4,5,4,3,10,5,7,8,5,5,8,6,7,5,5,4,6,3,4,3,3,11,4,5,6,5,11,12,4,5,5,4,9,5,13,3,4,3,9,7,11,10,24,16,7,6,6,6,5,4,6,8,11,13,7,3,1,7,11,6,4,4,21,8,17,6,5,3,5,6,6,12,7,7,5,11,6,6,6,5,19,8,7,8,7,4,5,8,9,8,6,2,7,5,12,5,11,6,7,10,2,8,12,7,3,1,5,4,3,19,6,6,7,4,9,3,5,8,9,2,9,9,4,7,12,5,8,4,6,4,4,7,4,8,4,5,8,4,0,5,8,15,7,11,13,5,13,4,15,9,10,10,13,19,8,5,6,10,9,9,9,13,6,3,5,23,4,9,5,12,9,7,4,10,5,4,3,5,7,6,17,7,5,16,11,23,15,19,16,3,16,5,4,5,3,4,9,4,9,10,12,19,11,5,3,10,13,7,8,5,7,1,4,6,6,5,8,4,18,7,15,8,11,11,7,16,10,8,19,11,8,7,8,10,14,4,20,14,7,6,5,19,4,15,6,7,4,22,16,11,9,17,8,14,8,3,10,7,5,8,11,10,16,8,8,4,6,3,11,7,8,9,13,11,4,15,7,7,4,12,9,6,11,8,6,8,12,12,3,6,4,3,6,7,12,7,9,5,5,9,3,16,4,9,15,14,4,7,4,5,8,15,6,9,5,7,8,3,9,13,5,4,7,1,11,10,5,13,4,12,3,5,5,4,6,12,6,7,5,7,19,5,6,5,6,4,7,10,13,9,9,5,6,6,5,1,11,4,10,8,9,9,11,22,5,5,9,3,10,13,8,1,3,7,6,15,9,15,8,11,7,9,11,17,3,5,5,5,12,3,16,6,9,24,6,2,3,6,7,4,10,19,13,10,8,15,17,13,6,6,5,7,6,16,9,5,21,11,12,7,12,5,11,7,10,9,4,10,8,22,9,3,5,11,10,6,6,13,11,10,4,10,10,12,23,10,10,8,10,24,5,7,10,8,4,8,4,3,4,6,11,7,15,14,14,7,6,5,8,13,3,11,17,7,5,12,6,18,8,10,11,11,7,8,18,7,9,15,19,17,22,13,13,24,8,11,20,8,10,5,21,16,6,15,15,11,12,11,7,13,11,18,10,8,7,9,13,12,6,13,6,14,8,3,14,7,6,11,12,8,5,3,8,20,11,12,10,13,9,8,11,9,12,7,9,25,13,14,10,6,11,5,7,11,29,29,18,9,6,29,16,6,5,5,5,2,5,14,6,13,10,9,5,14,13,12,4,12,8,10,8,36,24,6,10,21,11,31,7,23,6,7,9,11,9,5,6,17,9,14,1,10,5,8,16,13,18,6,6,5,5,2,10,13,6,4,5,6,8,17,11,23,5,9,4,8,9,13,14,12,2,9,7,5,4,7,9,13,12,6,13,5,9,6,5,14,18,18,26,14,10,15,12,0,4,11,6,12,10,11,6,10,18,10,13,10,14,9,30,9,9,7,6,16,4,5,15,7,11,5,7,5,4,8,6,10,6,11,13,4,5,3,8,8,9,7,6,4,7,15,8,10,21,24,9,6,16,9,6,6,4,13,17,4,11,15,13,10,12,19,7,16,17,15,12,13,12,20,6,8,15,6,23,29,5,13,25,10,10,13,9,6,14,15,13,21,22,16,5,11,7,11,6,9,8,9,1,17,16,8,12,21,9,7,12,20,8,19,7,10,15,10,9,20,24,4,12,6,6,11,9,16,7,11,11,6,9,7,14,10,6,13,8,9,20,8,15,9,6,13,11,21,12,15,8,10,11,24,6,10,7,14,10,17,12,4,18,11,15,7,8,11,1,6,6,9,7,7,16,25,7,5,18,13,10,6,7,12,8,11,6,7,23,13,8,7,10,21,5,11,6,12,2,13,27,7,6,13,13,6,4,7,5,6,7,8,6,10,10,4,13,13,10,4,6,7,6,4,10,18,14,3,9,5,6,4,9,4,4,8,14,9,7,4,12,9,9,5,7,10,15,1,5,5,4,12,9,11,8,14,9,9,14,4,13,3,6,16,11,14,4,25,4,6,4,9,3,19,8,12,5,13,7,8,18,5,5,3,6,8,4,4,6,21,18,14,14,2,13,4,11,6,14,17,8,2,2,3,5,8,5,11,5,10,14,12,12,8,9,6,13,7,9,10,9,12,5,5,17,5,2,7,6,21,17,18,12,8,7,11,4,13,8,4,5,4,5,4,9,7,16,2,5,13,10,5,7,11,10,10,7,10,8,5,10,4,16,7,4,12,17,8,2,29,5,9,2,11,19,6,6,4,2,14,5,13,11,6,7,3,6,6,10,4,7,5,3,4,17,3,4,10,12,5,8,19,4,3,6,7,7,10,7,8,14,11,15,19,9,8,10,12,8,5,8,7,9,10,14,9,8,4,5,11,13,9,11,7,16,10,7,16,10,19,9,8,3,6,9,5,5,13,16,11,8,6,6,9,13,10,7,9,14,5,9,12,9,18,14,8,4,9,9,10,3,10,15,23,11,2,16,15,5,9,11,11,10,8,8,9,7,2,9,15,7,5,6,10,12,11,3,3,13,7,8,9,12,6,6,4,5,4,7,6,13,13,10,5,4,7,10,18,11,12,16,18,6,12,10,5,9,12,11,5,5,4,3,4,22,20,6,10,6,12,2,6,20,4,6,5,4,2,5,14,6,6,4,7,6,8,11,6,10,29,3,7,19,10,4,8,5,5,8,7,15,7,7,3,8,14,5,6,13,17,7,3,14,4,9,2,10,2,7,3,6,7,3,6,4,8,10,3,4,7,11,4,8,3,4,10,4,11,4,10,3,3,5,6,2,3,5,5,10,5,3,5,8,5,10,11,3,10,12,9,12,5,12,3,22,3,8,5,2,12,8,6,4,15,4,8,12,2,21,7,9,7,5,8,12,13,8,1,5,5,8,2,4,4,7,21,5,3,5,2,8,7,7,3,20,8,7,8,9,3,2,14,13,4,14,4,5,2,4,8,5,2,6,4,4,7,3,6,7,4,5,8,6,3,5,2,4,4,7,6,3,9,7,5,2,3,5,6,7,18,7,8,5,5,8,10,28,8,9,5,6,13,26,11,7,1,2,18,5,13,8,14,15,13,13,3,9,10,16,18,16,20,14,18,8,3,6,17,4,11,7,3,20,4,8,17,16,7,5,22,16,6,16,12,4,14,2,11,4,11,11,2,1,7,9,22,22,12,10,8,12,13,6,12,11,11,7,5,9,6,19,12,13,4,12,7,7,11,4,6,9,8,16,4,5,14,4,12,9,8,10,15,3,6,5,12,5,15,6,13,1,4,6,4,2,4,6,6,9,4,4,4,12,7,10,6,12,3,1,1,6,7,27,2,4,1,7,3,6,1,3,6,7,15,3,4,5,3,6,6,6,7,3,4,6,12,8,7,6,6,7,2,8,16,8,4,3,4,2,10,12,4,7,8,8,6,13,5,6,4,6,19,8,15,19,5,18,19,18,29,9,18,8,13,13,13,10,9,6,5,13,7,2,5,4,5,8,6,2,3,8,3,11,4,16,3,18,8,15,7,4,11,6,9,7,4,7,10,6,7,6,5,3,2,5,10,16,5,6,7,3,7,8,17,14,4,10,4,6,12,8,5,14,10,22,16,7,17,11,14,11,5,17,6,6,15,5,4,7,11,11,24,9,7,29,8,5,4,12,2,4,4,7,7,9,4,4,5,11,10,7,13,11,14,3,6,13,7,7,8,2,6,6,5,6,9,17,12,18,15,17,13,23,9,9,13,15,38,12,26,15,14,11,5,3,26,19,8,17,11,12,34,9,25,5,11,5,11,13,11,5,14,9,6,14,15,4,20,17,22,7,8,3,14,14,26,10,12,26,11,10,28,14,5,11,2,15,10,4,5,19,13,10,20,9,8,15,9,29,16,12,4,5,9,7,7,26,3,7,15,11,13,15,5,21,8,5,11,8,10,17,11,6,11,21,13,16,18,16,9,2,1,10,6,11,6,8,4,9,2,11,10,13,13,10,6,10,26,12,8,32,18,16,36,13,13,13,11,10,11,8,20,8,12,12,3,10,16,11,15,11,8,13,8,4,13,25,15,5,9,18,27,9,13,5,13,10,15,4,7,15,4,12,9,14,17,13,9,6,9,25,7,8,20,10,16,5,11,10,7,10,14,26,9,15,21,13,24,28,20,16,18,10,14,14,6,10,5,7,7,5,7,11,8,4,6,10,13,16,10,9,6,15,8,14,21,10,3,5,24,7,10,19,7,11,7,6,4,11,11,5,6,13,4,16,6,9,14,7,11,23,11,12,11,9,11,18,11,3,5,11,5,17,7,13,28,9,16,8,20,17,7,35,25,9,18,10,12,19,9,14,15,9,6,14,9,16,6,10,16,17,9,23,11,16,36,6,31,10,11,13,10,16,10,6,8,8,9,5,6,11,4,5,11,11,8,8,10,9,8,10,37,15,12,15,11,12,11,12,15,4,4,5,7,8,13,9,7,11,11,5,27,11,19,17,16,32,11,10,27,7,19,17,23,17,19,26,22,29,19,19,25,18,15,15,14,38,7,20,11,39,12,17,6,16,24,7,24,15,23,21,20,6,4,17,10,12,11,18,21,9,27,12,30,17,12,13,13,12,11,8,6,8,5,12,17,14,24,18,11,18,8,13,6,13,12,18,8,19,8,14,27,11,14,21,12,23,21,13,7,18,16,22,11,15,6,13,9,12,12,8,5,11,12,13,16,19,18,12,12,15,15,28,8,16,30,8,25,18,31,16,4,11,5,19,9,13,15,24,3,23,4,22,8,8,9,16,6,19,12,18,8,10,11,26,5,16,26,25,22,14,30,14,13,13,9,20,17,12,25,20,16,8,12,22,13,25,23,21,18,24,19,6,30,17,16,8,19,16,19,20,11,9,13,19,15,18,16,11,12,19,13,15,5,10,10,16,11,5,6,15,26,16,6,5,8,6,14,27,17,27,17,13,10,23,14,15,8,32,15,21,8,24,16,22,15,8,7,11,24,9,23,13,28,32,13,19,25,12,10,7,12,15,12,12,9,12,10,16,7,15,10,16,21,4,17,16,19,15,35,14,22,7,15,7,16,20,18,8,9,3,15,7,13,7,14,7,8,21,6,5,5,5,5,12,8,5,22,4,6,6,7,3,21,5,2,9,8,5,7,7,7,5,6,6,4,9,4,4,9,6,6,8,6,7,8,10,5,11,6,4,4,3,5,7,8,6,5,1,5,2,16,4,7,5,7,8,7,10,3,9,6,4,7,8,5,7,5,5,4,6,7,15,4,3,11,2,7,7,2,2,3,4,9,8,6,7,5,5,6,2,5,4,10,2,12,2,12,4,11,2,6,5,7,7,15,5,2,7,8,5,5,8,4,9,4,3,6,6,11,1,4,3,0,6,5,8,4,14,1,4,2,10,6,12,5,8,3,2,13,4,2,6,4,10,7,6,13,6,4,3,3,7,4,23,11,6,9,1,13,5,9,7,4,12,13,3,6,14,6,5,7,6,10,6,6,3,5,5,16,6,7,4,9,2,5,7,4,3,4,6,10,8,5,5,9,11,5,10,8,9,13,7,8,7,5,13,6,5,14,9,11,9,13,5,12,18,12,5,10,12,10,5,3,3,9,9,9,18,4,8,8,6,11,7,12,7,15,14,12,13,14,5,16,7,8,10,10,9,6,5,4,6,16,7,11,4,3,5,13,9,9,3,5,6,9,12,5,5,15,6,6,6,7,12,8,14,5,12,12,6,9,5,11,8,3,5,7,7,3,6,8,10,9,6,8,7,6,5,6,18,12,10,17,14,9,3,7,3,9,6,11,3,6,9,6,5,9,9,6,6,10,13,5,5,5,13,8,10,8,7,6,10,6,9,3,3,5,7,5,4,7,6,13,2,13,16,17,6,14,6,23,20,2,9,6,12,4,6,6,5,5,10,6,6,7,4,10,4,5,8,9,13,2,13,4,4,5,8,9,2,6,8,5,2,11,4,5,7,3,3,8,9,4,4,17,11,13,11,8,8,8,11,5,11,7,25,13,7,10,6,6,6,5,10,12,4,17,6,8,4,5,5,7,11,13,11,7,7,14,7,4,5,7,4,11,12,5,10,8,18,4,3,6,9,9,10,11,17,9,4,10,5,2,4,5,4,2,3,10,3,1,7,7,6,12,15,5,6,3,4,7,9,9,9,10,10,11,8,1,6,14,5,10,11,9,13,3,5,4,14,7,26,15,6,4,8,29,8,8,10,17,6,9,5,12,10,8,6,8,4,12,6,6,15,8,9,8,5,3,10,8,15,32,11,16,21,6,31,13,10,11,8,10,11,6,8,8,11,10,6,14,5,13,19,12,6,11,4,7,7,2,13,17,6,8,8,11,14,5,9,11,12,2,6,14,7,18,10,10,19,12,20,13,3,6,11,6,4,29,4,4,12,5,5,10,9,4,7,6,6,9,8,3,8,13,13,10,7,3,6,17,4,10,7,8,7,2,9,4,6,5,6,4,6,6,11,1,3,4,4,11,4,7,4,3,8,8,7,8,21,6,8,10,9,11,10,8,12,10,9,11,10,6,16,4,6,5,2,10,6,3,4,7,10,10,7,4,2,1,6,1,6,5,4,13,6,6,5,6,4,3,5,5,5,7,5,5,6,8,6,3,5,6,8,7,11,11,5,7,4,4,5,3,10,10,8,8,7,9,6,4,3,7,8,8,5,7,4,6,3,9,12,5,4,12,5,6,18,7,7,6,5,6,5,13,7,4,4,3,5,5,17,9,7,10,7,5,4,13,4,5,3,4,12,13,10,13,6,9,12,7,5,10,8,8,10,11,46,6,14,5,19,13,14,13,7,20,5,10,8,13,10,6,11,9,10,4,4,7,5,4,1,6,10,11,5,11,20,6,12,13,10,8,9,12,8,12,7,9,4,6,4,6,5,4,5,3,9,11,8,2,4,6,4,7,8,5,7,5,9,6,3,8,12,10,7,13,17,18,17,4,4,11,12,12,13,7,19,7,12,3,10,8,14,12,3,8,5,6,8,14,18,19,10,13,5,7,18,7,26,11,4,7,5,9,14,9,10,14,6,3,5,21,14,20,6,9,11,10,5,4,4,11,12,3,8,7,3,11,14,6,15,8,6,7,5,6,5,22,8,5,16,23,9,8,5,13,6,10,9,5,7,4,4,9,6,8,21,14,18,10,19,14,8,14,8,13,14,8,7,8,7,8,5,8,4,13,11,11,4,6,10,7,4,2,8,13,8,11,11,68,5,22,17,9,12,7,3,10,10,4,9,6,8,14,11,12,5,7,13,4,13,5,9,7,4,5,13,7,2,12,7,5,11,12,7,4,5,3,9,5,7,12,6,10,9,8,2,9,8,7,6,8,0,5,7,6,16,6,6,4,12,4,5,9,6,6,6,5,4,12,18,7,9,26,14,5,12,13,11,17,5,2,17,29,17,6,24,8,22,6,10,6,6,3,7,7,6,11,10,15,7,9,6,2,11,7,3,4,3,7,4,5,2,3,7,5,13,8,13,15,2,9,7,13,13,4,8,4,7,8,7,3,5,1,4,5,5,5,8,8,4,13,5,10,4,19,10,9,18,11,17,6,2,7,15,9,8,9,5,11,16,8,10,10,10,8,22,12,6,5,5,13,2,8,8,4,5,8,10,13,7,6,12,13,7,6,6,11,10,6,5,16,3,12,9,12,12,7,9,20,2,3,3,9,6,4,10,12,6,4,5,9,4,12,7,13,5,6,7,12,6,3,11,13,7,14,11,5,5,10,8,10,14,8,7,17,10,13,22,11,14,2,10,8,7,5,11,7,14,6,3,8,4,17,15,8,11,17,8,16,8,10,8,11,25,13,16,15,8,17,7,13,14,10,6,13,15,16,12,5,5,7,6,29,16,17,12,6,8,10,12,8,4,10,14,7,16,12,16,4,11,9,6,12,10,8,11,18,23,14,12,12,7,9,13,17,4,10,6,5,18,6,2,11,10,5,10,7,5,11,12,2,4,7,6,5,6,11,6,5,9,7,5,5,8,3,4,4,5,10,4,6,7,7,5,9,6,7,7,4,19,4,4,8,6,6,7,7,4,6,5,5,6,4,5,6,6,6,9,5,13,9,3,3,6,3,7,5,9,4,4,4,6,7,5,8,6,3,8,8,6,6,4,6,5,7,9,4,3,5,12,3,2,5,2,11,8,15,11,9,5,5,11,10,11,9,6,6,5,10,4,7,5,2,5,6,4,3,3,8,3,7,6,5,17,4,3,4,11,6,4,4,6,4,11,5,3,4,6,2,6,8,9,15,11,10,12,4,3,2,4,7,9,9,8,2,7,4,8,12,4,2,4,2,4,8,4,6,5,6,12,10,11,11,9,6,16,10,11,5,7,16,6,6,3,4,10,8,9,6,4,7,7,4,6,6,6,11,6,5,5,12,5,4,4,3,3,6,7,5,5,4,6,6,6,5,8,4,8,0,4,8,4,8,5,4,11,7,6,14,2,7,11,3,3,4,2,3,7,3,10,5,5,5,8,7,10,3,2,5,6,8,8,8,17,4,9,6,4,21,10,13,8,13,8,13,8,7,6,2,8,9,2,7,7,7,8,3,3,3,6,7,5,6,4,4,3,9,10,12,16,6,13,8,15,22,12,9,16,12,14,17,10,9,14,8,19,6,5,12,12,3,9,5,13,5,4,15,2,6,10,11,14,10,7,5,6,12,17,9,10,9,6,18,6,11,12,6,4,12,10,8,7,4,9,5,10,9,11,8,11,9,8,4,5,8,4,3,4,7,8,8,5,4,17,6,4,7,3,9,13,13,8,5,10,10,7,3,7,8,6,9,4,3,6,19,11,5,8,10,11,5,1,11,8,9,7,18,11,7,6,11,9,6,10,4,13,10,18,10,17,5,10,19,7,9,20,6,6,5,5,13,6,5,13,14,10,1,15,1,7,8,4,6,6,5,4,15,16,10,15,2,15,10,7,7,5,9,8,3,4,2,1,4,3,4,7,2,8,6,11,8,15,7,6,7,8,3,6,5,6,4,2,14,19,11,4,15,6,13,6,15,2,4,1,5,6,9,9,6,4,14,7,11,11,6,10,9,16,12,12,9,14,16,6,8,4,11,9,7,7,7,3,8,13,5,2,17,9,6,7,5,6,5,9,5,6,8,9,7,5,8,13,4,5,5,6,12,6,4,17,4,6,4,3,8,8,15,7,5,12,18,10,4,3,14,10,9,3,11,6,15,8,10,13,9,0,16,2,3,4,5,8,5,8,19,8,4,7,2,16,12,4,6,8,7,4,9,3,7,7,4,6,2,4,5,7,2,10,3,2,2,3,10,4,11,10,14,16,2,7,5,4,3,4,5,1,4,5,5,5,9,11,15,8,12,11,5,5,12,7,7,9,6,2,2,8,3,9,5,4,8,11,4,6,6,17,6,14,3,4,5,5,3,12,4,11,4,7,5,8,7,16,8,16,8,10,5,5,4,5,9,4,7,2,16,6,7,6,3,5,5,3,9,4,6,2,3,5,2,13,10,3,15,20,5],\"type\":\"histogram\"}],                        {\"template\":{\"data\":{\"histogram2dcontour\":[{\"type\":\"histogram2dcontour\",\"colorbar\":{\"outlinewidth\":0,\"ticks\":\"\"},\"colorscale\":[[0.0,\"#0d0887\"],[0.1111111111111111,\"#46039f\"],[0.2222222222222222,\"#7201a8\"],[0.3333333333333333,\"#9c179e\"],[0.4444444444444444,\"#bd3786\"],[0.5555555555555556,\"#d8576b\"],[0.6666666666666666,\"#ed7953\"],[0.7777777777777778,\"#fb9f3a\"],[0.8888888888888888,\"#fdca26\"],[1.0,\"#f0f921\"]]}],\"choropleth\":[{\"type\":\"choropleth\",\"colorbar\":{\"outlinewidth\":0,\"ticks\":\"\"}}],\"histogram2d\":[{\"type\":\"histogram2d\",\"colorbar\":{\"outlinewidth\":0,\"ticks\":\"\"},\"colorscale\":[[0.0,\"#0d0887\"],[0.1111111111111111,\"#46039f\"],[0.2222222222222222,\"#7201a8\"],[0.3333333333333333,\"#9c179e\"],[0.4444444444444444,\"#bd3786\"],[0.5555555555555556,\"#d8576b\"],[0.6666666666666666,\"#ed7953\"],[0.7777777777777778,\"#fb9f3a\"],[0.8888888888888888,\"#fdca26\"],[1.0,\"#f0f921\"]]}],\"heatmap\":[{\"type\":\"heatmap\",\"colorbar\":{\"outlinewidth\":0,\"ticks\":\"\"},\"colorscale\":[[0.0,\"#0d0887\"],[0.1111111111111111,\"#46039f\"],[0.2222222222222222,\"#7201a8\"],[0.3333333333333333,\"#9c179e\"],[0.4444444444444444,\"#bd3786\"],[0.5555555555555556,\"#d8576b\"],[0.6666666666666666,\"#ed7953\"],[0.7777777777777778,\"#fb9f3a\"],[0.8888888888888888,\"#fdca26\"],[1.0,\"#f0f921\"]]}],\"heatmapgl\":[{\"type\":\"heatmapgl\",\"colorbar\":{\"outlinewidth\":0,\"ticks\":\"\"},\"colorscale\":[[0.0,\"#0d0887\"],[0.1111111111111111,\"#46039f\"],[0.2222222222222222,\"#7201a8\"],[0.3333333333333333,\"#9c179e\"],[0.4444444444444444,\"#bd3786\"],[0.5555555555555556,\"#d8576b\"],[0.6666666666666666,\"#ed7953\"],[0.7777777777777778,\"#fb9f3a\"],[0.8888888888888888,\"#fdca26\"],[1.0,\"#f0f921\"]]}],\"contourcarpet\":[{\"type\":\"contourcarpet\",\"colorbar\":{\"outlinewidth\":0,\"ticks\":\"\"}}],\"contour\":[{\"type\":\"contour\",\"colorbar\":{\"outlinewidth\":0,\"ticks\":\"\"},\"colorscale\":[[0.0,\"#0d0887\"],[0.1111111111111111,\"#46039f\"],[0.2222222222222222,\"#7201a8\"],[0.3333333333333333,\"#9c179e\"],[0.4444444444444444,\"#bd3786\"],[0.5555555555555556,\"#d8576b\"],[0.6666666666666666,\"#ed7953\"],[0.7777777777777778,\"#fb9f3a\"],[0.8888888888888888,\"#fdca26\"],[1.0,\"#f0f921\"]]}],\"surface\":[{\"type\":\"surface\",\"colorbar\":{\"outlinewidth\":0,\"ticks\":\"\"},\"colorscale\":[[0.0,\"#0d0887\"],[0.1111111111111111,\"#46039f\"],[0.2222222222222222,\"#7201a8\"],[0.3333333333333333,\"#9c179e\"],[0.4444444444444444,\"#bd3786\"],[0.5555555555555556,\"#d8576b\"],[0.6666666666666666,\"#ed7953\"],[0.7777777777777778,\"#fb9f3a\"],[0.8888888888888888,\"#fdca26\"],[1.0,\"#f0f921\"]]}],\"mesh3d\":[{\"type\":\"mesh3d\",\"colorbar\":{\"outlinewidth\":0,\"ticks\":\"\"}}],\"scatter\":[{\"fillpattern\":{\"fillmode\":\"overlay\",\"size\":10,\"solidity\":0.2},\"type\":\"scatter\"}],\"parcoords\":[{\"type\":\"parcoords\",\"line\":{\"colorbar\":{\"outlinewidth\":0,\"ticks\":\"\"}}}],\"scatterpolargl\":[{\"type\":\"scatterpolargl\",\"marker\":{\"colorbar\":{\"outlinewidth\":0,\"ticks\":\"\"}}}],\"bar\":[{\"error_x\":{\"color\":\"#2a3f5f\"},\"error_y\":{\"color\":\"#2a3f5f\"},\"marker\":{\"line\":{\"color\":\"#E5ECF6\",\"width\":0.5},\"pattern\":{\"fillmode\":\"overlay\",\"size\":10,\"solidity\":0.2}},\"type\":\"bar\"}],\"scattergeo\":[{\"type\":\"scattergeo\",\"marker\":{\"colorbar\":{\"outlinewidth\":0,\"ticks\":\"\"}}}],\"scatterpolar\":[{\"type\":\"scatterpolar\",\"marker\":{\"colorbar\":{\"outlinewidth\":0,\"ticks\":\"\"}}}],\"histogram\":[{\"marker\":{\"pattern\":{\"fillmode\":\"overlay\",\"size\":10,\"solidity\":0.2}},\"type\":\"histogram\"}],\"scattergl\":[{\"type\":\"scattergl\",\"marker\":{\"colorbar\":{\"outlinewidth\":0,\"ticks\":\"\"}}}],\"scatter3d\":[{\"type\":\"scatter3d\",\"line\":{\"colorbar\":{\"outlinewidth\":0,\"ticks\":\"\"}},\"marker\":{\"colorbar\":{\"outlinewidth\":0,\"ticks\":\"\"}}}],\"scattermapbox\":[{\"type\":\"scattermapbox\",\"marker\":{\"colorbar\":{\"outlinewidth\":0,\"ticks\":\"\"}}}],\"scatterternary\":[{\"type\":\"scatterternary\",\"marker\":{\"colorbar\":{\"outlinewidth\":0,\"ticks\":\"\"}}}],\"scattercarpet\":[{\"type\":\"scattercarpet\",\"marker\":{\"colorbar\":{\"outlinewidth\":0,\"ticks\":\"\"}}}],\"carpet\":[{\"aaxis\":{\"endlinecolor\":\"#2a3f5f\",\"gridcolor\":\"white\",\"linecolor\":\"white\",\"minorgridcolor\":\"white\",\"startlinecolor\":\"#2a3f5f\"},\"baxis\":{\"endlinecolor\":\"#2a3f5f\",\"gridcolor\":\"white\",\"linecolor\":\"white\",\"minorgridcolor\":\"white\",\"startlinecolor\":\"#2a3f5f\"},\"type\":\"carpet\"}],\"table\":[{\"cells\":{\"fill\":{\"color\":\"#EBF0F8\"},\"line\":{\"color\":\"white\"}},\"header\":{\"fill\":{\"color\":\"#C8D4E3\"},\"line\":{\"color\":\"white\"}},\"type\":\"table\"}],\"barpolar\":[{\"marker\":{\"line\":{\"color\":\"#E5ECF6\",\"width\":0.5},\"pattern\":{\"fillmode\":\"overlay\",\"size\":10,\"solidity\":0.2}},\"type\":\"barpolar\"}],\"pie\":[{\"automargin\":true,\"type\":\"pie\"}]},\"layout\":{\"autotypenumbers\":\"strict\",\"colorway\":[\"#636efa\",\"#EF553B\",\"#00cc96\",\"#ab63fa\",\"#FFA15A\",\"#19d3f3\",\"#FF6692\",\"#B6E880\",\"#FF97FF\",\"#FECB52\"],\"font\":{\"color\":\"#2a3f5f\"},\"hovermode\":\"closest\",\"hoverlabel\":{\"align\":\"left\"},\"paper_bgcolor\":\"white\",\"plot_bgcolor\":\"#E5ECF6\",\"polar\":{\"bgcolor\":\"#E5ECF6\",\"angularaxis\":{\"gridcolor\":\"white\",\"linecolor\":\"white\",\"ticks\":\"\"},\"radialaxis\":{\"gridcolor\":\"white\",\"linecolor\":\"white\",\"ticks\":\"\"}},\"ternary\":{\"bgcolor\":\"#E5ECF6\",\"aaxis\":{\"gridcolor\":\"white\",\"linecolor\":\"white\",\"ticks\":\"\"},\"baxis\":{\"gridcolor\":\"white\",\"linecolor\":\"white\",\"ticks\":\"\"},\"caxis\":{\"gridcolor\":\"white\",\"linecolor\":\"white\",\"ticks\":\"\"}},\"coloraxis\":{\"colorbar\":{\"outlinewidth\":0,\"ticks\":\"\"}},\"colorscale\":{\"sequential\":[[0.0,\"#0d0887\"],[0.1111111111111111,\"#46039f\"],[0.2222222222222222,\"#7201a8\"],[0.3333333333333333,\"#9c179e\"],[0.4444444444444444,\"#bd3786\"],[0.5555555555555556,\"#d8576b\"],[0.6666666666666666,\"#ed7953\"],[0.7777777777777778,\"#fb9f3a\"],[0.8888888888888888,\"#fdca26\"],[1.0,\"#f0f921\"]],\"sequentialminus\":[[0.0,\"#0d0887\"],[0.1111111111111111,\"#46039f\"],[0.2222222222222222,\"#7201a8\"],[0.3333333333333333,\"#9c179e\"],[0.4444444444444444,\"#bd3786\"],[0.5555555555555556,\"#d8576b\"],[0.6666666666666666,\"#ed7953\"],[0.7777777777777778,\"#fb9f3a\"],[0.8888888888888888,\"#fdca26\"],[1.0,\"#f0f921\"]],\"diverging\":[[0,\"#8e0152\"],[0.1,\"#c51b7d\"],[0.2,\"#de77ae\"],[0.3,\"#f1b6da\"],[0.4,\"#fde0ef\"],[0.5,\"#f7f7f7\"],[0.6,\"#e6f5d0\"],[0.7,\"#b8e186\"],[0.8,\"#7fbc41\"],[0.9,\"#4d9221\"],[1,\"#276419\"]]},\"xaxis\":{\"gridcolor\":\"white\",\"linecolor\":\"white\",\"ticks\":\"\",\"title\":{\"standoff\":15},\"zerolinecolor\":\"white\",\"automargin\":true,\"zerolinewidth\":2},\"yaxis\":{\"gridcolor\":\"white\",\"linecolor\":\"white\",\"ticks\":\"\",\"title\":{\"standoff\":15},\"zerolinecolor\":\"white\",\"automargin\":true,\"zerolinewidth\":2},\"scene\":{\"xaxis\":{\"backgroundcolor\":\"#E5ECF6\",\"gridcolor\":\"white\",\"linecolor\":\"white\",\"showbackground\":true,\"ticks\":\"\",\"zerolinecolor\":\"white\",\"gridwidth\":2},\"yaxis\":{\"backgroundcolor\":\"#E5ECF6\",\"gridcolor\":\"white\",\"linecolor\":\"white\",\"showbackground\":true,\"ticks\":\"\",\"zerolinecolor\":\"white\",\"gridwidth\":2},\"zaxis\":{\"backgroundcolor\":\"#E5ECF6\",\"gridcolor\":\"white\",\"linecolor\":\"white\",\"showbackground\":true,\"ticks\":\"\",\"zerolinecolor\":\"white\",\"gridwidth\":2}},\"shapedefaults\":{\"line\":{\"color\":\"#2a3f5f\"}},\"annotationdefaults\":{\"arrowcolor\":\"#2a3f5f\",\"arrowhead\":0,\"arrowwidth\":1},\"geo\":{\"bgcolor\":\"white\",\"landcolor\":\"#E5ECF6\",\"subunitcolor\":\"white\",\"showland\":true,\"showlakes\":true,\"lakecolor\":\"white\"},\"title\":{\"x\":0.05},\"mapbox\":{\"style\":\"light\"}}},\"title\":{\"text\":\"Histogram of the length of texts\",\"x\":0.5},\"xaxis\":{\"title\":{\"text\":\"Text length\"}},\"yaxis\":{\"title\":{\"text\":\"Count\"}}},                        {\"responsive\": true}                    ).then(function(){\n",
              "                            \n",
              "var gd = document.getElementById('d4e2020e-3113-40ff-9c33-55a43430a1a9');\n",
              "var x = new MutationObserver(function (mutations, observer) {{\n",
              "        var display = window.getComputedStyle(gd).display;\n",
              "        if (!display || display === 'none') {{\n",
              "            console.log([gd, 'removed!']);\n",
              "            Plotly.purge(gd);\n",
              "            observer.disconnect();\n",
              "        }}\n",
              "}});\n",
              "\n",
              "// Listen for the removal of the full notebook cells\n",
              "var notebookContainer = gd.closest('#notebook-container');\n",
              "if (notebookContainer) {{\n",
              "    x.observe(notebookContainer, {childList: true});\n",
              "}}\n",
              "\n",
              "// Listen for the clearing of the current output cell\n",
              "var outputEl = gd.closest('.output');\n",
              "if (outputEl) {{\n",
              "    x.observe(outputEl, {childList: true});\n",
              "}}\n",
              "\n",
              "                        })                };                            </script>        </div>\n",
              "</body>\n",
              "</html>"
            ]
          },
          "metadata": {}
        }
      ]
    },
    {
      "cell_type": "code",
      "source": [
        "X_train, X_test, y_train, y_test = train_test_split(X, y, test_size=0.2, shuffle=True, random_state=42)\n",
        "print(f'Training sample size: {len(X_train)}')\n",
        "print(f'Test sample size: {len(X_test)}')"
      ],
      "metadata": {
        "id": "ZcTojlz73Dtu",
        "colab": {
          "base_uri": "https://localhost:8080/"
        },
        "outputId": "22d29ea3-113a-44d2-bd05-8827e1b9965b"
      },
      "execution_count": null,
      "outputs": [
        {
          "output_type": "stream",
          "name": "stdout",
          "text": [
            "Training sample size: 24000\n",
            "Test sample size: 6000\n"
          ]
        }
      ]
    },
    {
      "cell_type": "markdown",
      "source": [
        "# Modeling"
      ],
      "metadata": {
        "id": "yBBz61_X819R"
      }
    },
    {
      "cell_type": "code",
      "source": [
        "from sklearn.metrics import confusion_matrix, f1_score, recall_score, precision_score , accuracy_score"
      ],
      "metadata": {
        "id": "VDFMF6U0PpB1"
      },
      "execution_count": null,
      "outputs": []
    },
    {
      "cell_type": "code",
      "source": [
        "#A recurrent neural network (RNN) model with an LSTM layer ()\n",
        "import tensorflow as tf\n",
        "from tensorflow.keras import layers\n",
        "EMBEDDING_DIM = 100\n",
        "\n",
        "model = tf.keras.Sequential([\n",
        "    layers.Embedding(input_dim=NUM_WORDS, output_dim=EMBEDDING_DIM, input_length=MAX_TEXT_LEN),\n",
        "    layers.LSTM(units=64),  # Or other RNN layers like GRU\n",
        "    layers.Dense(units=3, activation='softmax')\n",
        "])\n",
        "\n",
        "model.compile(optimizer='adam', loss='sparse_categorical_crossentropy', metrics=['accuracy'])\n",
        "history = model.fit(X_train, y_train, epochs=10, validation_data=(X_test, y_test))"
      ],
      "metadata": {
        "colab": {
          "base_uri": "https://localhost:8080/"
        },
        "id": "t2w0hXI_LxWN",
        "outputId": "d50bff9e-6c56-47d5-e57c-2f750ce4bbdf"
      },
      "execution_count": null,
      "outputs": [
        {
          "output_type": "stream",
          "name": "stdout",
          "text": [
            "Epoch 1/10\n",
            "750/750 [==============================] - 117s 146ms/step - loss: 0.1303 - accuracy: 0.9495 - val_loss: 0.0127 - val_accuracy: 0.9965\n",
            "Epoch 2/10\n",
            "750/750 [==============================] - 95s 126ms/step - loss: 0.0071 - accuracy: 0.9983 - val_loss: 0.0155 - val_accuracy: 0.9948\n",
            "Epoch 3/10\n",
            "750/750 [==============================] - 90s 120ms/step - loss: 0.0048 - accuracy: 0.9991 - val_loss: 0.0103 - val_accuracy: 0.9965\n",
            "Epoch 4/10\n",
            "750/750 [==============================] - 91s 121ms/step - loss: 0.0045 - accuracy: 0.9991 - val_loss: 0.0111 - val_accuracy: 0.9965\n",
            "Epoch 5/10\n",
            "750/750 [==============================] - 89s 119ms/step - loss: 0.0040 - accuracy: 0.9991 - val_loss: 0.0125 - val_accuracy: 0.9965\n",
            "Epoch 6/10\n",
            "750/750 [==============================] - 91s 121ms/step - loss: 0.0040 - accuracy: 0.9990 - val_loss: 0.0097 - val_accuracy: 0.9970\n",
            "Epoch 7/10\n",
            "750/750 [==============================] - 88s 118ms/step - loss: 0.0041 - accuracy: 0.9991 - val_loss: 0.0100 - val_accuracy: 0.9973\n",
            "Epoch 8/10\n",
            "750/750 [==============================] - 91s 122ms/step - loss: 0.0040 - accuracy: 0.9991 - val_loss: 0.0130 - val_accuracy: 0.9968\n",
            "Epoch 9/10\n",
            "750/750 [==============================] - 88s 117ms/step - loss: 0.0039 - accuracy: 0.9991 - val_loss: 0.0104 - val_accuracy: 0.9968\n",
            "Epoch 10/10\n",
            "750/750 [==============================] - 91s 121ms/step - loss: 0.0041 - accuracy: 0.9990 - val_loss: 0.0098 - val_accuracy: 0.9965\n"
          ]
        }
      ]
    },
    {
      "cell_type": "code",
      "source": [
        "'''#Naive Bayes classifier ML model\n",
        "from sklearn.naive_bayes import MultinomialNB\n",
        "model = MultinomialNB()\n",
        "model =model.fit(X_train, y_train)\n",
        "y_pred = model.predict(X_test)\n",
        "\n",
        "f1 = f1_score(y_test, y_pred, average='weighted')\n",
        "recall = recall_score(y_test, y_pred, average='weighted')\n",
        "precision = precision_score(y_test, y_pred, average='weighted')\n",
        "accuracy = accuracy_score(y_test, y_pred)\n",
        "\n",
        "print('Accuracy_score:', accuracy)\n",
        "print('F1-score:', f1)\n",
        "print('Recall_score:', recall)\n",
        "print('Precision_score:', precision)'''"
      ],
      "metadata": {
        "colab": {
          "base_uri": "https://localhost:8080/",
          "height": 70
        },
        "id": "yy4xaMFSCQte",
        "outputId": "b6dda4a3-9ced-4388-e87f-eec4a659fb1a"
      },
      "execution_count": null,
      "outputs": [
        {
          "output_type": "execute_result",
          "data": {
            "text/plain": [
              "\"#Naive Bayes classifier ML model\\nfrom sklearn.naive_bayes import MultinomialNB\\nmodel = MultinomialNB()\\nmodel =model.fit(X_train, y_train)\\ny_pred = model.predict(X_test)\\n\\nf1 = f1_score(y_test, y_pred, average='weighted')\\nrecall = recall_score(y_test, y_pred, average='weighted')\\nprecision = precision_score(y_test, y_pred, average='weighted')\\naccuracy = accuracy_score(y_test, y_pred)\\n\\nprint('Accuracy_score:', accuracy)\\nprint('F1-score:', f1)\\nprint('Recall_score:', recall)\\nprint('Precision_score:', precision)\""
            ],
            "application/vnd.google.colaboratory.intrinsic+json": {
              "type": "string"
            }
          },
          "metadata": {},
          "execution_count": 26
        }
      ]
    },
    {
      "cell_type": "code",
      "source": [
        "'''from sklearn.ensemble import RandomForestClassifier\n",
        "rf_model = RandomForestClassifier(n_estimators=100)\n",
        "rf_model.fit(X_train, y_train)\n",
        "\n",
        "y_pred = rf_model.predict(X_test)\n",
        "\n",
        "f1 = f1_score(y_test, y_pred, average='weighted')\n",
        "recall = recall_score(y_test, y_pred, average='weighted')\n",
        "precision = precision_score(y_test, y_pred, average='weighted')\n",
        "accuracy = accuracy_score(y_test, y_pred)\n",
        "\n",
        "print('Accuracy_score:', accuracy)\n",
        "print('F1-score:', f1)\n",
        "print('Recall_score:', recall)\n",
        "print('Precision_score:', precision)'''"
      ],
      "metadata": {
        "colab": {
          "base_uri": "https://localhost:8080/",
          "height": 70
        },
        "id": "OhY8oaTuPI3c",
        "outputId": "5b169a63-4b82-47ae-c19d-c54e0c6c869b"
      },
      "execution_count": null,
      "outputs": [
        {
          "output_type": "execute_result",
          "data": {
            "text/plain": [
              "\"from sklearn.ensemble import RandomForestClassifier\\nrf_model = RandomForestClassifier(n_estimators=100)\\nrf_model.fit(X_train, y_train)\\n\\ny_pred = rf_model.predict(X_test)\\n\\nf1 = f1_score(y_test, y_pred, average='weighted')\\nrecall = recall_score(y_test, y_pred, average='weighted')\\nprecision = precision_score(y_test, y_pred, average='weighted')\\naccuracy = accuracy_score(y_test, y_pred)\\n\\nprint('Accuracy_score:', accuracy)\\nprint('F1-score:', f1)\\nprint('Recall_score:', recall)\\nprint('Precision_score:', precision)\""
            ],
            "application/vnd.google.colaboratory.intrinsic+json": {
              "type": "string"
            }
          },
          "metadata": {},
          "execution_count": 27
        }
      ]
    },
    {
      "cell_type": "code",
      "source": [
        "'''from sklearn.linear_model import LogisticRegression\n",
        "lr_model = LogisticRegression(multi_class='multinomial', solver='lbfgs')\n",
        "\n",
        "lr_model.fit(X_train, y_train)\n",
        "y_pred = lr_model.predict(X_test)\n",
        "\n",
        "f1 = f1_score(y_test, y_pred, average='weighted')\n",
        "recall = recall_score(y_test, y_pred, average='weighted')\n",
        "precision = precision_score(y_test, y_pred, average='weighted')\n",
        "accuracy = accuracy_score(y_test, y_pred)\n",
        "\n",
        "print('Accuracy_score:', accuracy)\n",
        "print('F1-score:', f1)\n",
        "print('Recall_score:', recall)\n",
        "print('Precision_score:', precision)'''"
      ],
      "metadata": {
        "colab": {
          "base_uri": "https://localhost:8080/",
          "height": 70
        },
        "id": "SqlnuU_VP2em",
        "outputId": "bd3dab1b-b56d-48d2-9ab3-00a86359382a"
      },
      "execution_count": null,
      "outputs": [
        {
          "output_type": "execute_result",
          "data": {
            "text/plain": [
              "\"from sklearn.linear_model import LogisticRegression\\nlr_model = LogisticRegression(multi_class='multinomial', solver='lbfgs')\\n\\nlr_model.fit(X_train, y_train)\\ny_pred = lr_model.predict(X_test)\\n\\nf1 = f1_score(y_test, y_pred, average='weighted')\\nrecall = recall_score(y_test, y_pred, average='weighted')\\nprecision = precision_score(y_test, y_pred, average='weighted')\\naccuracy = accuracy_score(y_test, y_pred)\\n\\nprint('Accuracy_score:', accuracy)\\nprint('F1-score:', f1)\\nprint('Recall_score:', recall)\\nprint('Precision_score:', precision)\""
            ],
            "application/vnd.google.colaboratory.intrinsic+json": {
              "type": "string"
            }
          },
          "metadata": {},
          "execution_count": 28
        }
      ]
    },
    {
      "cell_type": "code",
      "source": [
        "import matplotlib.pyplot as plt\n",
        "\n",
        "# Create a visually striking and informative plot\n",
        "plt.figure(figsize=(12, 6))  # Size adjusted for visual clarity\n",
        "plt.style.use('seaborn-whitegrid')  # Apply a visual style for aesthetics\n",
        "\n",
        "plt.plot(history.history['accuracy'], label='Training Accuracy', color='royalblue')  # Enhanced label clarity\n",
        "plt.plot(history.history['val_accuracy'], label='Validation Accuracy', color='orangered')\n",
        "\n",
        "plt.title('Model Performance Over Epochs', fontsize=16, fontweight='bold')  # Clear and concise title\n",
        "plt.xlabel('Epochs', fontsize=14)\n",
        "plt.ylabel('Accuracy', fontsize=14)\n",
        "\n",
        "plt.xticks(fontsize=12)\n",
        "plt.yticks(fontsize=12)\n",
        "\n",
        "plt.grid(True)\n",
        "plt.legend(fontsize=12)\n",
        "\n",
        "plt.tight_layout()  # Ensure optimal spacing for readability\n",
        "plt.show()\n"
      ],
      "metadata": {
        "colab": {
          "base_uri": "https://localhost:8080/",
          "height": 696
        },
        "id": "dux4Y8yLRDqQ",
        "outputId": "ca7d3933-c153-4ee5-a7fe-d0d887e46a69"
      },
      "execution_count": null,
      "outputs": [
        {
          "output_type": "stream",
          "name": "stderr",
          "text": [
            "<ipython-input-29-d9e69c8217d3>:5: MatplotlibDeprecationWarning:\n",
            "\n",
            "The seaborn styles shipped by Matplotlib are deprecated since 3.6, as they no longer correspond to the styles shipped by seaborn. However, they will remain available as 'seaborn-v0_8-<style>'. Alternatively, directly use the seaborn API instead.\n",
            "\n"
          ]
        },
        {
          "output_type": "display_data",
          "data": {
            "text/plain": [
              "<Figure size 1200x600 with 1 Axes>"
            ],
            "image/png": "[encoded data removed]"
          },
          "metadata": {}
        }
      ]
    },
    {
      "cell_type": "code",
      "source": [
        "print(f'Metric on test: {model.evaluate(X_test, y_test)}')\n",
        "print(f'Metric on train: {model.evaluate(X_train, y_train)}')"
      ],
      "metadata": {
        "colab": {
          "base_uri": "https://localhost:8080/"
        },
        "id": "bdlEgiGQ9gm7",
        "outputId": "5bca533f-c7ef-488d-9773-a0e12549833e"
      },
      "execution_count": null,
      "outputs": [
        {
          "output_type": "stream",
          "name": "stdout",
          "text": [
            "188/188 [==============================] - 4s 19ms/step - loss: 0.0098 - accuracy: 0.9965\n",
            "Metric on test: [0.009754500351846218, 0.9965000152587891]\n",
            "750/750 [==============================] - 16s 22ms/step - loss: 0.0037 - accuracy: 0.9991\n",
            "Metric on train: [0.0037310183979570866, 0.9990833401679993]\n"
          ]
        }
      ]
    },
    {
      "cell_type": "code",
      "source": [
        "model.summary()"
      ],
      "metadata": {
        "colab": {
          "base_uri": "https://localhost:8080/"
        },
        "id": "cGvmT92y9ihZ",
        "outputId": "b4d59280-ca82-4c59-dfc4-ab5f4b36eecc"
      },
      "execution_count": null,
      "outputs": [
        {
          "output_type": "stream",
          "name": "stdout",
          "text": [
            "Model: \"sequential\"\n",
            "_________________________________________________________________\n",
            " Layer (type)                Output Shape              Param #   \n",
            "=================================================================\n",
            " embedding (Embedding)       (None, 100, 100)          3000000   \n",
            "                                                                 \n",
            " lstm (LSTM)                 (None, 64)                42240     \n",
            "                                                                 \n",
            " dense (Dense)               (None, 3)                 195       \n",
            "                                                                 \n",
            "=================================================================\n",
            "Total params: 3042435 (11.61 MB)\n",
            "Trainable params: 3042435 (11.61 MB)\n",
            "Non-trainable params: 0 (0.00 Byte)\n",
            "_________________________________________________________________\n"
          ]
        }
      ]
    },
    {
      "cell_type": "code",
      "source": [
        "y_pred = model.predict(X_test)\n",
        "y_pred_classes = np.argmax(y_pred,axis =1)\n",
        "cm = confusion_matrix(y_test, y_pred_classes)\n",
        "print(cm)"
      ],
      "metadata": {
        "colab": {
          "base_uri": "https://localhost:8080/"
        },
        "id": "L0CfAjN815aU",
        "outputId": "def53086-0a53-4f61-ee3e-71b981d3bc4c"
      },
      "execution_count": null,
      "outputs": [
        {
          "output_type": "stream",
          "name": "stdout",
          "text": [
            "188/188 [==============================] - 5s 21ms/step\n",
            "[[1998    0    4]\n",
            " [  10 1986    0]\n",
            " [   7    0 1995]]\n"
          ]
        }
      ]
    },
    {
      "cell_type": "code",
      "source": [
        "f1 = f1_score(y_test, y_pred_classes, average='weighted')\n",
        "recall = recall_score(y_test, y_pred_classes, average='weighted')\n",
        "precision = precision_score(y_test, y_pred_classes, average='weighted')\n",
        "accuracy = accuracy_score(y_test, y_pred_classes)\n",
        "\n",
        "print('Accuracy_score:', accuracy)\n",
        "print('F1-score:', f1)\n",
        "print('Recall_score:', recall)\n",
        "print('Precision_score:', precision)"
      ],
      "metadata": {
        "colab": {
          "base_uri": "https://localhost:8080/"
        },
        "id": "Zw67UmDp19nl",
        "outputId": "5e3a7d81-8ffd-4158-b5be-72eaa8c178ef"
      },
      "execution_count": null,
      "outputs": [
        {
          "output_type": "stream",
          "name": "stdout",
          "text": [
            "Accuracy_score: 0.9965\n",
            "F1-score: 0.9965028833515414\n",
            "Recall_score: 0.9965\n",
            "Precision_score: 0.9965172790696424\n"
          ]
        }
      ]
    },
    {
      "cell_type": "code",
      "source": [
        "model.save('language_classification.h5')"
      ],
      "metadata": {
        "colab": {
          "base_uri": "https://localhost:8080/"
        },
        "id": "g2Gq6Eqa4s9X",
        "outputId": "95214763-f86d-4781-fc8c-a8f2df7f29b5"
      },
      "execution_count": null,
      "outputs": [
        {
          "output_type": "stream",
          "name": "stderr",
          "text": [
            "/usr/local/lib/python3.10/dist-packages/keras/src/engine/training.py:3103: UserWarning:\n",
            "\n",
            "You are saving your model as an HDF5 file via `model.save()`. This file format is considered legacy. We recommend using instead the native Keras format, e.g. `model.save('my_model.keras')`.\n",
            "\n"
          ]
        }
      ]
    },
    {
      "cell_type": "code",
      "source": [
        "Loaded_model = tf.keras.models.load_model('/content/language_classification.h5')"
      ],
      "metadata": {
        "id": "jZQx8jFg45GJ"
      },
      "execution_count": null,
      "outputs": []
    },
    {
      "cell_type": "code",
      "source": [
        "def ml_pipeline(text: str) -> str:\n",
        "    \"\"\"Model prediction function for three-languages prediction\"\"\"\n",
        "    try:\n",
        "        sequence = tokenizer.texts_to_sequences([text])\n",
        "        sequence = pad_sequences(sequence, maxlen=MAX_TEXT_LEN)\n",
        "\n",
        "        if sequence.max() == 0:\n",
        "            return 'Enter texts of Burmese,Sinhala and Tamil'\n",
        "\n",
        "        predict = Loaded_model.predict(sequence, verbose=0)  # Get class probabilities\n",
        "        predicted_class = np.argmax(predict)  # Determine the most probable class\n",
        "\n",
        "        if predicted_class == 0:\n",
        "            return 'Burmese'  # Replace with your actual class labels\n",
        "        elif predicted_class == 1:\n",
        "            return 'Sinhala'\n",
        "        else:\n",
        "            return 'Tamil'\n",
        "\n",
        "    except AttributeError:\n",
        "        return 'Enter the text'\n"
      ],
      "metadata": {
        "id": "_k5EY2Tl_N4f"
      },
      "execution_count": null,
      "outputs": []
    },
    {
      "cell_type": "code",
      "source": [
        "ml_pipeline('ဇီဝဗေဒ ပညာတွင် ဆင့်ကဲပြောင်းလဲမှုဖြစ်စဉ်')"
      ],
      "metadata": {
        "colab": {
          "base_uri": "https://localhost:8080/"
        },
        "id": "Ycd89mnE9q-n",
        "outputId": "80493bd4-fb59-42f4-9b70-f0967d42175f"
      },
      "execution_count": null,
      "outputs": [
        {
          "output_type": "execute_result",
          "data": {
            "text/plain": [
              "'Burmese'"
            ],
            "application/vnd.google.colaboratory.intrinsic+json": {
              "type": "string"
            }
          },
          "metadata": {},
          "execution_count": 37
        }
      ]
    },
    {
      "cell_type": "code",
      "source": [
        "ml_pipeline('අද්මිරාල්')"
      ],
      "metadata": {
        "colab": {
          "base_uri": "https://localhost:8080/"
        },
        "id": "Moxxx3OL3mSp",
        "outputId": "3ee75eb0-5ef9-4d49-aa36-b14410a94ade"
      },
      "execution_count": null,
      "outputs": [
        {
          "output_type": "execute_result",
          "data": {
            "text/plain": [
              "'Sinhala'"
            ],
            "application/vnd.google.colaboratory.intrinsic+json": {
              "type": "string"
            }
          },
          "metadata": {},
          "execution_count": 38
        }
      ]
    },
    {
      "cell_type": "code",
      "source": [
        "ml_pipeline('இக்கட்டுரை தமிழ் மொழி பற்றியது. ஏனைய பயன்பாடுகளுக்குத்')"
      ],
      "metadata": {
        "colab": {
          "base_uri": "https://localhost:8080/"
        },
        "id": "dRlUhDd23qwm",
        "outputId": "e91bf20d-2e6f-4c16-f57f-ebb5e0882883"
      },
      "execution_count": null,
      "outputs": [
        {
          "output_type": "execute_result",
          "data": {
            "text/plain": [
              "'Tamil'"
            ],
            "application/vnd.google.colaboratory.intrinsic+json": {
              "type": "string"
            }
          },
          "metadata": {},
          "execution_count": 39
        }
      ]
    },
    {
      "cell_type": "code",
      "source": [
        "ml_pipeline('How can you define Love?')"
      ],
      "metadata": {
        "colab": {
          "base_uri": "https://localhost:8080/"
        },
        "id": "VfiNFsoZ6LCk",
        "outputId": "c4dd226b-fbff-4a0b-f940-681b31b74641"
      },
      "execution_count": null,
      "outputs": [
        {
          "output_type": "execute_result",
          "data": {
            "text/plain": [
              "'Enter texts of Burmese,Sinhala and Tamil'"
            ],
            "application/vnd.google.colaboratory.intrinsic+json": {
              "type": "string"
            }
          },
          "metadata": {},
          "execution_count": 40
        }
      ]
    },
    {
      "cell_type": "code",
      "source": [
        "ml_pipeline('လေယာဉ်ပျံ')"
      ],
      "metadata": {
        "colab": {
          "base_uri": "https://localhost:8080/"
        },
        "id": "CNqFxLdrV0gU",
        "outputId": "b49e60b2-b611-4108-e6be-41aca866eec1"
      },
      "execution_count": null,
      "outputs": [
        {
          "output_type": "execute_result",
          "data": {
            "text/plain": [
              "'Burmese'"
            ],
            "application/vnd.google.colaboratory.intrinsic+json": {
              "type": "string"
            }
          },
          "metadata": {},
          "execution_count": 41
        }
      ]
    },
    {
      "cell_type": "code",
      "source": [
        "ml_pipeline('ဒီမိုကရေစီ')"
      ],
      "metadata": {
        "colab": {
          "base_uri": "https://localhost:8080/",
          "height": 177
        },
        "id": "WyE20KkaV_UX",
        "outputId": "0b15f3dd-1125-4f55-b0ca-08f836508746"
      },
      "execution_count": null,
      "outputs": [
        {
          "output_type": "execute_result",
          "data": {
            "text/plain": [
              "'Burmese'"
            ],
            "application/vnd.google.colaboratory.intrinsic+json": {
              "type": "string"
            }
          },
          "metadata": {},
          "execution_count": 42
        }
      ]
    }
  ]
}